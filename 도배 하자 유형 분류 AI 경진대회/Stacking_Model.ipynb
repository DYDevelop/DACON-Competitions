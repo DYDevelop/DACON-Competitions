{
 "cells": [
  {
   "cell_type": "code",
   "execution_count": 1,
   "metadata": {},
   "outputs": [],
   "source": [
    "import os\n",
    "from glob import glob\n",
    "import random\n",
    "import time\n",
    "import copy\n",
    "import datetime as dt\n",
    "import warnings\n",
    "from collections import Counter\n",
    "import itertools\n",
    "import shutil\n",
    "from pprint import pprint\n",
    "import glob\n",
    "import numpy as np\n",
    "import pandas as pd\n",
    "import matplotlib.pyplot as plt\n",
    "import cv2\n",
    "from PIL import Image\n",
    "from tqdm.auto import tqdm\n",
    "import torch\n",
    "from torch import nn\n",
    "from torch.nn import functional as F\n",
    "import torch.optim as optim\n",
    "from torch.optim import lr_scheduler\n",
    "from torch.utils.data import Dataset, DataLoader, random_split\n",
    "import torchvision\n",
    "import albumentations as A\n",
    "import albumentations.pytorch\n",
    "import sklearn\n",
    "from sklearn.metrics import confusion_matrix\n",
    "from joblib import parallel_backend\n",
    "import ttach as tta\n",
    "import timm\n",
    "from timm.models.layers import Conv2dSame\n",
    "from sklearn.metrics import f1_score\n",
    "import albumentations as A\n",
    "from albumentations.pytorch.transforms import ToTensorV2\n",
    "from torch.autograd import Variable\n",
    "import torchvision.models as models\n",
    "from sklearn.model_selection import train_test_split\n",
    "warnings.filterwarnings(action='ignore') "
   ]
  },
  {
   "cell_type": "code",
   "execution_count": 2,
   "metadata": {},
   "outputs": [],
   "source": [
    "device = torch.device('cuda') if torch.cuda.is_available() else torch.device('cpu')"
   ]
  },
  {
   "cell_type": "code",
   "execution_count": 3,
   "metadata": {},
   "outputs": [],
   "source": [
    "CFG = {\n",
    "    'IMG_SIZE':224,\n",
    "    'EPOCHS':30,\n",
    "    'LEARNING_RATE':3e-4,\n",
    "    'BATCH_SIZE':16,\n",
    "    'SEED':41\n",
    "}"
   ]
  },
  {
   "cell_type": "code",
   "execution_count": 4,
   "metadata": {},
   "outputs": [],
   "source": [
    "def seed_everything(seed):\n",
    "    random.seed(seed)\n",
    "    os.environ['PYTHONHASHSEED'] = str(seed)\n",
    "    np.random.seed(seed)\n",
    "    torch.manual_seed(seed)\n",
    "    torch.cuda.manual_seed(seed)\n",
    "    torch.backends.cudnn.deterministic = True\n",
    "    torch.backends.cudnn.benchmark = True\n",
    "\n",
    "seed_everything(CFG['SEED']) # Seed 고정\n",
    "time_now = dt.datetime.now()\n",
    "run_id = time_now.strftime(\"%Y%m%d%H%M%S\")"
   ]
  },
  {
   "cell_type": "code",
   "execution_count": 5,
   "metadata": {},
   "outputs": [],
   "source": [
    "all_img_list = glob.glob('./train/*/*')"
   ]
  },
  {
   "cell_type": "code",
   "execution_count": 6,
   "metadata": {},
   "outputs": [],
   "source": [
    "df = pd.DataFrame(columns=['img_path', 'label'])\n",
    "df['img_path'] = all_img_list\n",
    "df['label'] = df['img_path'].apply(lambda x : str(x).split('\\\\')[1])"
   ]
  },
  {
   "cell_type": "code",
   "execution_count": 7,
   "metadata": {},
   "outputs": [],
   "source": [
    "df_2 = df[df['label'] == '2']\n",
    "df_9 = df[df['label'] == '9']\n",
    "df_10 = df[df['label'] == '10']\n",
    "df_selected = pd.concat([df_2, df_9, df_10])"
   ]
  },
  {
   "cell_type": "code",
   "execution_count": 8,
   "metadata": {},
   "outputs": [
    {
     "data": {
      "text/plain": [
       "10    595\n",
       "2     145\n",
       "9      57\n",
       "Name: label, dtype: int64"
      ]
     },
     "execution_count": 8,
     "metadata": {},
     "output_type": "execute_result"
    }
   ],
   "source": [
    "df_selected['label'].value_counts()"
   ]
  },
  {
   "cell_type": "code",
   "execution_count": 9,
   "metadata": {},
   "outputs": [],
   "source": [
    "train, val, _, _ = train_test_split(df_selected, df_selected['label'], test_size=0.3, stratify=df_selected['label'], random_state=CFG['SEED'])"
   ]
  },
  {
   "cell_type": "code",
   "execution_count": 10,
   "metadata": {},
   "outputs": [],
   "source": [
    "le = sklearn.preprocessing.LabelEncoder()\n",
    "train['label'] = le.fit_transform(train['label'])\n",
    "val['label'] = le.transform(val['label'])"
   ]
  },
  {
   "cell_type": "code",
   "execution_count": 11,
   "metadata": {},
   "outputs": [],
   "source": [
    "class CustomDataset(Dataset):\n",
    "    def __init__(self, img_path_list, label_list, transforms=None):\n",
    "        self.img_path_list = img_path_list\n",
    "        self.label_list = label_list\n",
    "        self.transforms = transforms\n",
    "        \n",
    "    def __getitem__(self, index):\n",
    "        img_path = self.img_path_list[index]\n",
    "        \n",
    "        image = cv2.imread(img_path)\n",
    "        \n",
    "        if self.transforms is not None:\n",
    "            image = self.transforms(image=image)['image']\n",
    "        \n",
    "        if self.label_list is not None:\n",
    "            label = self.label_list[index]\n",
    "            return image, label\n",
    "        else:\n",
    "            return image\n",
    "        \n",
    "    def __len__(self):\n",
    "        return len(self.img_path_list)"
   ]
  },
  {
   "cell_type": "code",
   "execution_count": 12,
   "metadata": {},
   "outputs": [],
   "source": [
    "train_transform = A.Compose([\n",
    "                            A.Resize(CFG['IMG_SIZE'],CFG['IMG_SIZE']),\n",
    "                            A.HorizontalFlip(),\n",
    "                            A.RandomContrast(limit=0.2),\n",
    "                            A.Normalize(mean=(0.485, 0.456, 0.406), std=(0.229, 0.224, 0.225), max_pixel_value=255.0, always_apply=False, p=1.0),\n",
    "                            ToTensorV2()\n",
    "                            ])\n",
    "\n",
    "test_transform = A.Compose([\n",
    "                            A.Resize(CFG['IMG_SIZE'],CFG['IMG_SIZE']),\n",
    "                            A.Normalize(mean=(0.485, 0.456, 0.406), std=(0.229, 0.224, 0.225), max_pixel_value=255.0, always_apply=False, p=1.0),\n",
    "                            ToTensorV2()\n",
    "                            ])"
   ]
  },
  {
   "cell_type": "code",
   "execution_count": 13,
   "metadata": {},
   "outputs": [
    {
     "data": {
      "application/vnd.jupyter.widget-view+json": {
       "model_id": "e066affb77f5423ab019fc3e97657f54",
       "version_major": 2,
       "version_minor": 0
      },
      "text/plain": [
       "  0%|          | 0/557 [00:00<?, ?it/s]"
      ]
     },
     "metadata": {},
     "output_type": "display_data"
    },
    {
     "data": {
      "application/vnd.jupyter.widget-view+json": {
       "model_id": "9b1d81c484314f1286a967115d613433",
       "version_major": 2,
       "version_minor": 0
      },
      "text/plain": [
       "  0%|          | 0/240 [00:00<?, ?it/s]"
      ]
     },
     "metadata": {},
     "output_type": "display_data"
    }
   ],
   "source": [
    "train_dataset = CustomDataset(train['img_path'].values, train['label'].values, train_transform)\n",
    "\n",
    "train_loader = DataLoader(train_dataset, batch_size = CFG['BATCH_SIZE'], shuffle=True, num_workers=0)\n",
    "\n",
    "validation_dataset = CustomDataset(val['img_path'].values, val['label'].values, test_transform)\n",
    "validation_loader = DataLoader(validation_dataset, batch_size=CFG['BATCH_SIZE'], shuffle=True, num_workers=0)"
   ]
  },
  {
   "cell_type": "code",
   "execution_count": 14,
   "metadata": {},
   "outputs": [],
   "source": [
    "class BaseModel(nn.Module):\n",
    "    def __init__(self, num_classes=len(le.classes_)):\n",
    "        super(BaseModel, self).__init__()\n",
    "        self.backbone = models.efficientnet_v2_l(pretrained=True)\n",
    "        # self.backbone = timm.create_model('densenet201', pretrained=True, num_classes = 1000)\n",
    "        self.classifier = nn.Linear(1000, num_classes)\n",
    "        \n",
    "    def forward(self, x):\n",
    "        x = self.backbone(x)\n",
    "        x = self.classifier(x)\n",
    "        return x"
   ]
  },
  {
   "cell_type": "code",
   "execution_count": 15,
   "metadata": {},
   "outputs": [],
   "source": [
    "def plot_confusion_matrix(\n",
    "                        cm, classes, runid, epoch, \n",
    "                        f1, normalize=False, \n",
    "                        title='Confusion matrix',\n",
    "                        cmap=plt.cm.Blues):\n",
    "    plt.imshow(cm, interpolation='nearest', cmap=cmap)\n",
    "    plt.title(f'{title}-{runid}-{epoch}-{f1:.4f}')\n",
    "    plt.colorbar()\n",
    "    tick_marks = np.arange(len(classes))\n",
    "    plt.xticks(tick_marks, classes, rotation=45)\n",
    "    plt.yticks(tick_marks, classes)\n",
    "\n",
    "    if normalize:\n",
    "        cm = cm.astype('float') / cm.sum(axis=1)[:, np.newaxis]\n",
    "\n",
    "    thresh = cm.max() / 2.\n",
    "    for i, j in itertools.product(range(cm.shape[0]), range(cm.shape[1])):\n",
    "        plt.text(j, i, cm[i, j],\n",
    "                horizontalalignment=\"center\",\n",
    "                color=\"white\" if cm[i, j] > thresh else \"black\")\n",
    "\n",
    "    plt.tight_layout()\n",
    "    plt.ylabel('True label')\n",
    "    plt.xlabel('Predicted label')\n",
    "    plt.savefig(f'./cms/cm-{runid}.jpg', dpi=400)\n",
    "    plt.clf()"
   ]
  },
  {
   "cell_type": "code",
   "execution_count": null,
   "metadata": {},
   "outputs": [],
   "source": [
    "test = pd.read_csv('./test.csv')\n",
    "test_dataset = CustomDataset(test['img_path'].values, None, test_transform)\n",
    "test_loader = DataLoader(test_dataset, batch_size=CFG['BATCH_SIZE'], shuffle=False, num_workers=0)\n",
    "\n",
    "dataloaders = {\n",
    "    'train': train_loader,\n",
    "    'val': validation_loader,\n",
    "    'test': test_loader\n",
    "}\n",
    "\n",
    "dataset_sizes = {\n",
    "    'train': len(train_dataset),\n",
    "    'val': len(validation_dataset),\n",
    "    'test': len(test_dataset)\n",
    "}\n",
    "fold = 0\n",
    "\n",
    "# timm에서 모델을 가져옴\n",
    "device =  torch.device(\"cuda\")\n",
    "# model = timm.create_model('tf_efficientnet_b7_ns', pretrained=True, num_classes=19)\n",
    "model = BaseModel()\n",
    "model.to(device)\n",
    "\n",
    "epochs = 10  # 보통 30~40 epoch에서 멈춥니다.\n",
    "optimizer = optim.Adam(model.parameters(), lr=1e-3)\n",
    "# optimizer = optim.AdamW(model.parameters(), lr=1e-3)\n",
    "criterion = nn.CrossEntropyLoss()\n",
    "scheduler = lr_scheduler.StepLR(optimizer, step_size=5, gamma=0.5)\n",
    "\n",
    "os.makedirs(f'./runs/{run_id}', exist_ok=True)\n",
    "os.makedirs(f'./cms/', exist_ok=True)\n",
    "\n",
    "since = time.time()\n",
    "best_f1 = 0.0\n",
    "scaler = torch.cuda.amp.GradScaler()\n",
    "\n",
    "fold_run_id = f'{run_id}_fold{str(fold)}'\n",
    "\n",
    "# 학습\n",
    "for epoch in range(epochs):\n",
    "    print('-'*50)\n",
    "    print(f'Fold: {fold}')\n",
    "    print('Epoch {}/{}'.format(epoch, epochs - 1))\n",
    "    train_loss = 0.0\n",
    "\n",
    "    for phase in ['train', 'val']:\n",
    "        running_loss = 0.0\n",
    "        cm_preds = []\n",
    "        cm_labels = []\n",
    "        model_preds = []\n",
    "        model_labels = []\n",
    "\n",
    "        if phase == 'train':\n",
    "            model.train()\n",
    "        else:\n",
    "            model.eval()\n",
    "        \n",
    "        for x, y in tqdm(iter(dataloaders[phase])):\n",
    "            x = x.to(device)\n",
    "            y = y.type(torch.LongTensor).to(device)\n",
    "            optimizer.zero_grad()\n",
    "\n",
    "            r, flag= np.random.rand(1), 0\n",
    "            \n",
    "            # if r < 0.3: # CutMix\n",
    "            # inputs, targets_a, targets_b, lam = cutmix_data(x, y) \n",
    "            # inputs, targets_a, targets_b = map(Variable, (inputs,\n",
    "            #                                         targets_a, targets_b))\n",
    "            \n",
    "            # elif r > 0.6: # MixUp\n",
    "                # inputs, targets_a, targets_b, lam = mixup_data(x, y)\n",
    "                # inputs, targets_a, targets_b = map(Variable, (inputs,\n",
    "                #                                         targets_a, targets_b))\n",
    "            \n",
    "            # else: flag = 0 # Original\n",
    "            \n",
    "            # inputs, targets_a, targets_b, lam = mixup_data(x, y)\n",
    "            # inputs, targets_a, targets_b = map(Variable, (inputs,\n",
    "            #                                             targets_a, targets_b))\n",
    "            with torch.set_grad_enabled(phase == 'train'):\n",
    "                with torch.cuda.amp.autocast(enabled=True):\n",
    "                    y_hat = model(x)\n",
    "                    if flag == 0: loss = criterion(y_hat, y)\n",
    "                    # else: loss = mixup_criterion(criterion, y_hat, targets_a, targets_b, lam)\n",
    "                _, preds = torch.max(y_hat, 1)\n",
    "\n",
    "                if phase == 'train':\n",
    "                    scaler.scale(loss).backward()\n",
    "                    scaler.step(optimizer)\n",
    "                    scaler.update()\n",
    "\n",
    "            running_loss += loss.item() * x.size(0)\n",
    "            \n",
    "            model_labels += y.detach().cpu().numpy().tolist()\n",
    "            model_preds += preds.detach().cpu().numpy().tolist()\n",
    "\n",
    "        if phase == 'train' and scheduler != None:\n",
    "            scheduler.step()\n",
    "        \n",
    "        epoch_loss = running_loss / dataset_sizes[phase]\n",
    "        epoch_f1 = f1_score(\n",
    "                    model_labels, \n",
    "                    model_preds, \n",
    "                    average='weighted')\n",
    "        print(f'[{phase}] Loss: {epoch_loss:.4f} Weighted F1: {epoch_f1:.4f}')\n",
    "\n",
    "        # 체크포인트 저장\n",
    "        if phase == 'val':\n",
    "            if epoch_f1 > best_f1:\n",
    "                best_f1 = epoch_f1\n",
    "                torch.save(model, f'./runs/{run_id}/best_model_fold{fold}.pt')\n",
    "                confusion_mtx = confusion_matrix(model_labels, model_preds)\n",
    "                plot_confusion_matrix(confusion_mtx, classes=le.classes_, runid=fold_run_id, epoch=epoch, f1=best_f1)\n",
    "            else:\n",
    "                # torch.save(model, f'./runs/{run_id}/{epoch}-val_loss{epoch_loss}-val_f1{epoch_f1}.pt')\n",
    "                pass\n",
    "\n",
    "time_elapsed = time.time() - since\n",
    "print('Training complete in {:.0f}m {:.0f}s'.format(time_elapsed // 60, time_elapsed % 60))\n",
    "print('Best val_F1: {:4f}'.format(best_f1))\n",
    "\n",
    "# 해당 fold의 checkpoint를 불러와 test\n",
    "device =  torch.device(\"cuda\")\n",
    "checkpoint = f'./runs/{run_id}/best_model_fold{fold}.pt'\n",
    "print(f'CHECKPOINT LOADED: {checkpoint}')\n",
    "model = torch.load(checkpoint)\n",
    "model.to(device)\n",
    "model.eval()\n",
    "\n",
    "test_preds = []\n",
    "\n",
    "with torch.no_grad():\n",
    "    for x in tqdm(iter(dataloaders['test'])):\n",
    "            x = x.to(device)\n",
    "            batch_pred = model(x)\n",
    "            _, pred = torch.max(batch_pred, 1)\n",
    "            pred = pred.detach().cpu().numpy().tolist()\n",
    "            test_preds.extend(pred)\n",
    "\n",
    "# trainset에 fit_trainsform 되어있는 LabelEncoder로 inverse transform 해줌\n",
    "test_preds = le.inverse_transform(test_preds)\n",
    "\n",
    "submit = pd.read_csv('./sample_submission.csv')\n",
    "submit['label'] = test_preds\n",
    "\n",
    "submit.loc[submit['label'] == '0', 'label'] = '가구수정'\n",
    "submit.loc[submit['label'] == '1', 'label'] = '걸레받이수정'\n",
    "submit.loc[submit['label'] == '2', 'label'] = '곰팡이'\n",
    "submit.loc[submit['label'] == '3', 'label'] = '꼬임'\n",
    "submit.loc[submit['label'] == '4', 'label'] = '녹오염'\n",
    "submit.loc[submit['label'] == '5', 'label'] = '들뜸'\n",
    "submit.loc[submit['label'] == '6', 'label'] = '면불량'\n",
    "submit.loc[submit['label'] == '7', 'label'] = '몰딩수정'\n",
    "submit.loc[submit['label'] == '8', 'label'] = '반점'\n",
    "submit.loc[submit['label'] == '9', 'label'] = '석고수정'\n",
    "submit.loc[submit['label'] == '10', 'label'] = '오염'\n",
    "submit.loc[submit['label'] == '11', 'label'] = '오타공'\n",
    "submit.loc[submit['label'] == '12', 'label'] = '울음'\n",
    "submit.loc[submit['label'] == '13', 'label'] = '이음부불량'\n",
    "submit.loc[submit['label'] == '14', 'label'] = '창틀,문틀수정'\n",
    "submit.loc[submit['label'] == '15', 'label'] = '터짐'\n",
    "submit.loc[submit['label'] == '16', 'label'] = '틈새과다'\n",
    "submit.loc[submit['label'] == '17', 'label'] = '피스'\n",
    "submit.loc[submit['label'] == '18', 'label'] = '훼손'\n",
    "\n",
    "os.makedirs('./stack/', exist_ok=True)\n",
    "submit.to_csv(f'./stack/Stacked_3_Classes.csv', index=False)\n"
   ]
  }
 ],
 "metadata": {
  "kernelspec": {
   "display_name": "Python 3",
   "language": "python",
   "name": "python3"
  },
  "language_info": {
   "codemirror_mode": {
    "name": "ipython",
    "version": 3
   },
   "file_extension": ".py",
   "mimetype": "text/x-python",
   "name": "python",
   "nbconvert_exporter": "python",
   "pygments_lexer": "ipython3",
   "version": "3.7.3"
  },
  "orig_nbformat": 4
 },
 "nbformat": 4,
 "nbformat_minor": 2
}
