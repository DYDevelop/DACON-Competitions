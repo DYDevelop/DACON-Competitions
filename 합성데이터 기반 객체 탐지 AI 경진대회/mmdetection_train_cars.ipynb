{
 "cells": [
  {
   "cell_type": "code",
   "execution_count": null,
   "metadata": {},
   "outputs": [],
   "source": [
    "import json\n",
    "import cv2\n",
    "import os\n",
    "from glob import glob\n",
    "from sklearn.model_selection import train_test_split\n",
    "import statistics\n",
    "ann_path = './custom_dataset/train/*.txt'\n",
    "ann_files = glob(ann_path)\n",
    "# valid set을 나눌 경우\n",
    "ann_train, ann_valid = train_test_split(ann_files,\n",
    "                                       test_size=0.01,\n",
    "                                       random_state=1119)\n",
    "ratio = []\n",
    "def labelmetxt2coco(anns):\n",
    "    cars = {}\n",
    "    # 숫자로 해도 되지만, 클래스 확인하기 위해 차종으로 변경\n",
    "    classes = [\"chevrolet_malibu_sedan_2012_2016\", \"chevrolet_malibu_sedan_2017_2019\", \n",
    "               \"chevrolet_spark_hatchback_2016_2021\", \"chevrolet_trailblazer_suv_2021_\", \n",
    "               \"chevrolet_trax_suv_2017_2019\", \"genesis_g80_sedan_2016_2020\", \n",
    "               \"genesis_g80_sedan_2021_\", \"genesis_gv80_suv_2020_\", \n",
    "               \"hyundai_avante_sedan_2011_2015\", \"hyundai_avante_sedan_2020_\", \n",
    "               \"hyundai_grandeur_sedan_2011_2016\", \"hyundai_grandstarex_van_2018_2020\", \n",
    "               \"hyundai_ioniq_hatchback_2016_2019\", \"hyundai_sonata_sedan_2004_2009\", \n",
    "               \"hyundai_sonata_sedan_2010_2014\", \"hyundai_sonata_sedan_2019_2020\", \n",
    "               \"kia_carnival_van_2015_2020\", \"kia_carnival_van_2021_\", \n",
    "               \"kia_k5_sedan_2010_2015\", \"kia_k5_sedan_2020_\", \n",
    "               \"kia_k7_sedan_2016_2020\", \"kia_mohave_suv_2020_\", \n",
    "               \"kia_morning_hatchback_2004_2010\", \"kia_morning_hatchback_2011_2016\", \n",
    "               \"kia_ray_hatchback_2012_2017\", \"kia_sorrento_suv_2015_2019\", \n",
    "               \"kia_sorrento_suv_2020_\", \"kia_soul_suv_2014_2018\", \n",
    "               \"kia_sportage_suv_2016_2020\", \"kia_stonic_suv_2017_2019\", \n",
    "               \"renault_sm3_sedan_2015_2018\", \"renault_xm3_suv_2020_\", \n",
    "               \"ssangyong_korando_suv_2019_2020\", \"ssangyong_tivoli_suv_2016_2020\"]\n",
    "    cars[\"categories\"] = [{\"id\":i,\"name\":cat,\"supercategory\":\"none\"} for i, cat in enumerate(classes)]\n",
    "    cars[\"images\"] = []\n",
    "    cars[\"annotations\"] = []\n",
    "    cnt_ann = 0\n",
    "    for i, ann in enumerate(anns):\n",
    "        img_path = ann.replace(\"txt\", \"png\")\n",
    "        #h, w, _ = cv2.imread(img_path).shape\n",
    "        cars[\"images\"].append({\"id\":i,\"height\":1040,\"width\":1920,\"file_name\":img_path})\n",
    "\n",
    "        f_ann = open(ann, \"r\")\n",
    "        for line in f_ann.readlines():\n",
    "            data = line.split()\n",
    "            cat = int(float(data[0]))\n",
    "            pt1x = int(data[1])\n",
    "            pt1y = int(data[2])\n",
    "            #pt2x = int(data[3])    not to use\n",
    "            #pt2y = int(data[4])\n",
    "            pt3x = int(data[5])\n",
    "            pt3y = int(data[6])\n",
    "            #pt4x = int(data[7])\n",
    "            #pt4y = int(data[8])\n",
    "            x = pt1x\n",
    "            y = pt1y\n",
    "            width = pt3x - pt1x\n",
    "            height = pt3y - pt1y\n",
    "            area = width * height\n",
    "            cars[\"annotations\"].append({\"id\": cnt_ann,\n",
    "                                        \"image_id\": i,\n",
    "                                        \"category_id\": cat,\n",
    "                                        \"bbox\": [x, y, width, height],\n",
    "                                        \"area\": area,\n",
    "                                        \"segmentation\": [],\n",
    "                                        \"iscrowd\": 0})\n",
    "            ratio.append(width / height)\n",
    "            cnt_ann += 1 \n",
    "    return cars\n",
    "\n",
    "labelmetxt2coco(ann_train)\n",
    "print(min(ratio), max(ratio), statistics.mean(ratio))\n",
    "\n",
    "# with open('/content/drive/MyDrive/DACON/236107/data/annotations/train_json', \"w\") as f:\n",
    "#     json.dump(labelmetxt2coco(ann_files), f, ensure_ascii=False, indent=4)\n",
    "\n",
    "# train/valid split을 했을 경우\n",
    "# with open('./custom_dataset/annotations/train.json', \"w\") as f:\n",
    "#     json.dump(labelmetxt2coco(ann_train), f, ensure_ascii=False, indent=4)\n",
    "\n",
    "# with open('./custom_dataset/annotations/val.json', \"w\") as f:\n",
    "#     json.dump(labelmetxt2coco(ann_valid), f, ensure_ascii=False, indent=4)\n",
    "\n",
    "# def labelmetxt2cocotest(anns):\n",
    "#     cars = {}\n",
    "#     # 숫자로 해도 되지만, 클래스 확인하기 위해 차종으로 변경\n",
    "#     classes = [\"chevrolet_malibu_sedan_2012_2016\", \"chevrolet_malibu_sedan_2017_2019\", \n",
    "#                \"chevrolet_spark_hatchback_2016_2021\", \"chevrolet_trailblazer_suv_2021_\", \n",
    "#                \"chevrolet_trax_suv_2017_2019\", \"genesis_g80_sedan_2016_2020\", \n",
    "#                \"genesis_g80_sedan_2021_\", \"genesis_gv80_suv_2020_\", \n",
    "#                \"hyundai_avante_sedan_2011_2015\", \"hyundai_avante_sedan_2020_\", \n",
    "#                \"hyundai_grandeur_sedan_2011_2016\", \"hyundai_grandstarex_van_2018_2020\", \n",
    "#                \"hyundai_ioniq_hatchback_2016_2019\", \"hyundai_sonata_sedan_2004_2009\", \n",
    "#                \"hyundai_sonata_sedan_2010_2014\", \"hyundai_sonata_sedan_2019_2020\", \n",
    "#                \"kia_carnival_van_2015_2020\", \"kia_carnival_van_2021_\", \n",
    "#                \"kia_k5_sedan_2010_2015\", \"kia_k5_sedan_2020_\", \n",
    "#                \"kia_k7_sedan_2016_2020\", \"kia_mohave_suv_2020_\", \n",
    "#                \"kia_morning_hatchback_2004_2010\", \"kia_morning_hatchback_2011_2016\", \n",
    "#                \"kia_ray_hatchback_2012_2017\", \"kia_sorrento_suv_2015_2019\", \n",
    "#                \"kia_sorrento_suv_2020_\", \"kia_soul_suv_2014_2018\", \n",
    "#                \"kia_sportage_suv_2016_2020\", \"kia_stonic_suv_2017_2019\", \n",
    "#                \"renault_sm3_sedan_2015_2018\", \"renault_xm3_suv_2020_\", \n",
    "#                \"ssangyong_korando_suv_2019_2020\", \"ssangyong_tivoli_suv_2016_2020\"]\n",
    "#     cars[\"categories\"] = [{\"id\":i,\"name\":cat,\"supercategory\":\"none\"} for i, cat in enumerate(classes)]\n",
    "#     cars[\"images\"] = []\n",
    "#     cars[\"annotations\"] = []\n",
    "#     cnt_ann = 0\n",
    "#     for i, ann in enumerate(anns):\n",
    "#         cars[\"images\"].append({\"id\":i,\"height\":1040,\"width\":1920,\"file_name\":ann})\n",
    "#         cars[\"annotations\"].append({\"id\": cnt_ann,\n",
    "#                                     \"image_id\": i,\n",
    "#                                     \"category_id\": 0,\n",
    "#                                     \"bbox\": [0, 0, 0, 0],\n",
    "#                                     \"area\": 0,\n",
    "#                                     \"segmentation\": [],\n",
    "#                                     \"iscrowd\": 0})\n",
    "#         cnt_ann += 1\n",
    "        \n",
    "#     return cars\n",
    "# ann_path = './custom_dataset/test/*.png'\n",
    "# ann_test = glob(ann_path)\n",
    "\n",
    "# with open('./custom_dataset/annotations/test.json', \"w\") as f:\n",
    "#     json.dump(labelmetxt2cocotest(ann_test), f, ensure_ascii=False, indent=4)"
   ]
  },
  {
   "cell_type": "code",
   "execution_count": null,
   "metadata": {},
   "outputs": [],
   "source": [
    "!python tools/train.py configs/faster_rcnn/faster_rcnn_x101_64x4d_fpn_1x_cars.py --seed 41 --deterministic"
   ]
  },
  {
   "cell_type": "code",
   "execution_count": null,
   "metadata": {},
   "outputs": [],
   "source": [
    "!python tools/train.py configs/cascade_rcnn/cascade_rcnn_x101_64x4d_fpn_1x_cars.py --seed 41 --deterministic"
   ]
  },
  {
   "cell_type": "code",
   "execution_count": null,
   "metadata": {},
   "outputs": [],
   "source": [
    "!python tools/train.py configs/libra_rcnn/libra_faster_rcnn_x101_64x4d_fpn_1x_coco.py --seed 41 --deterministic"
   ]
  },
  {
   "cell_type": "code",
   "execution_count": null,
   "metadata": {},
   "outputs": [],
   "source": [
    "!python tools/test.py work_dirs/cascade_rcnn_x101_64x4d_fpn_1x_cars/cascade_rcnn_x101_64x4d_fpn_1x_cars.py work_dirs/cascade_rcnn_x101_64x4d_fpn_1x_cars/epoch_20.pth --out work_dirs/cascade_rcnn_x101_64x4d_fpn_1x_cars/result.pkl --format-only"
   ]
  },
  {
   "cell_type": "code",
   "execution_count": null,
   "metadata": {},
   "outputs": [],
   "source": [
    "!python tools/test.py work_dirs/libra_faster_rcnn_x101_64x4d_fpn_1x_coco/libra_faster_rcnn_x101_64x4d_fpn_1x_coco.py work_dirs/libra_faster_rcnn_x101_64x4d_fpn_1x_coco/epoch_20.pth --out work_dirs/libra_faster_rcnn_x101_64x4d_fpn_1x_coco/result.pkl --format-only"
   ]
  },
  {
   "cell_type": "code",
   "execution_count": null,
   "metadata": {},
   "outputs": [],
   "source": [
    "!python tools/test.py work_dirs/libra_faster_rcnn_x101_64x4d_fpn_1x_cars/libra_faster_rcnn_x101_64x4d_fpn_1x_cars.py work_dirs/libra_faster_rcnn_x101_64x4d_fpn_1x_cars/epoch_24.pth --out work_dirs/libra_faster_rcnn_x101_64x4d_fpn_1x_coco/result.pkl --format-only"
   ]
  },
  {
   "cell_type": "code",
   "execution_count": 17,
   "metadata": {},
   "outputs": [
    {
     "data": {
      "application/vnd.jupyter.widget-view+json": {
       "model_id": "2a5be4ec46e44190aa631269c5a66b17",
       "version_major": 2,
       "version_minor": 0
      },
      "text/plain": [
       "  0%|          | 0/3400 [00:00<?, ?it/s]"
      ]
     },
     "metadata": {},
     "output_type": "display_data"
    },
    {
     "name": "stdout",
     "output_type": "stream",
     "text": [
      "14506\n"
     ]
    }
   ],
   "source": [
    "import pickle\n",
    "import pandas as pd\n",
    "import glob\n",
    "from tqdm.auto import tqdm\n",
    "with open(\"./work_dirs/cascade_rcnn_x101_64x4d_fpn_1x_cars/result.pkl\",\"rb\") as fr:\n",
    "    data = pickle.load(fr)\n",
    "                                             \n",
    "test_img_paths = sorted(glob.glob('./custom_dataset/test/*.png'))                                                                                                              \n",
    "\n",
    "results = pd.read_csv('./custom_dataset/sample_submission.csv')                 \n",
    "for idx in tqdm(range(len(test_img_paths))):                                                                            \n",
    "  prediction = data[idx]                 \n",
    "  #img = cv2.imread(test_img_paths[idx])\n",
    "  filename = test_img_paths[idx].split('/')[-1].split('\\\\')[-1]             \n",
    "  for i in range(34):\n",
    "    if prediction[i].shape[0]!=0:               \n",
    "      label = i                    \n",
    "      for j in range(prediction[i].shape[0]):\n",
    "        x1, y1, x2, y2 = prediction[i][j][0], prediction[i][j][1], prediction[i][j][2],prediction[i][j][3]\n",
    "        score = prediction[i][j][4]                \n",
    "        \n",
    "        results = results.append({\n",
    "            \"file_name\" : filename,               \n",
    "            \"class_id\" : label,                                                        \n",
    "            \"confidence\" : score,                     \n",
    "            \"point1_x\" : x1, \"point1_y\" : y1,\n",
    "            \"point2_x\" : x2, \"point2_y\" : y1,\n",
    "            \"point3_x\" : x2, \"point3_y\" : y2,\n",
    "            \"point4_x\" : x1, \"point4_y\" : y2,\n",
    "        }, ignore_index = True)\n",
    "\n",
    "results.to_csv('submit.csv', index = False)\n",
    "print(len(results))"
   ]
  },
  {
   "cell_type": "code",
   "execution_count": 16,
   "metadata": {},
   "outputs": [
    {
     "data": {
      "application/vnd.jupyter.widget-view+json": {
       "model_id": "d3215e9ca6eb48bfb8914657cf20f1ca",
       "version_major": 2,
       "version_minor": 0
      },
      "text/plain": [
       "  0%|          | 0/8654 [00:00<?, ?it/s]"
      ]
     },
     "metadata": {},
     "output_type": "display_data"
    },
    {
     "ename": "KeyboardInterrupt",
     "evalue": "",
     "output_type": "error",
     "traceback": [
      "\u001b[1;31m---------------------------------------------------------------------------\u001b[0m",
      "\u001b[1;31mKeyboardInterrupt\u001b[0m                         Traceback (most recent call last)",
      "\u001b[1;32m~\\AppData\\Local\\Temp\\ipykernel_12224\\2084418110.py\u001b[0m in \u001b[0;36m<module>\u001b[1;34m\u001b[0m\n\u001b[0;32m     34\u001b[0m     \u001b[1;31m# if int(scores[13]) > 120000:\u001b[0m\u001b[1;33m\u001b[0m\u001b[1;33m\u001b[0m\u001b[1;33m\u001b[0m\u001b[0m\n\u001b[0;32m     35\u001b[0m     \u001b[0mcv2\u001b[0m\u001b[1;33m.\u001b[0m\u001b[0mimshow\u001b[0m\u001b[1;33m(\u001b[0m\u001b[1;34m\"Cars\"\u001b[0m\u001b[1;33m,\u001b[0m \u001b[0mimage\u001b[0m\u001b[1;33m)\u001b[0m\u001b[1;33m\u001b[0m\u001b[1;33m\u001b[0m\u001b[0m\n\u001b[1;32m---> 36\u001b[1;33m     \u001b[0mcv2\u001b[0m\u001b[1;33m.\u001b[0m\u001b[0mwaitKey\u001b[0m\u001b[1;33m(\u001b[0m\u001b[1;33m)\u001b[0m\u001b[1;33m\u001b[0m\u001b[1;33m\u001b[0m\u001b[0m\n\u001b[0m\u001b[0;32m     37\u001b[0m     \u001b[0mcv2\u001b[0m\u001b[1;33m.\u001b[0m\u001b[0mdestroyAllWindows\u001b[0m\u001b[1;33m(\u001b[0m\u001b[1;33m)\u001b[0m\u001b[1;33m\u001b[0m\u001b[1;33m\u001b[0m\u001b[0m\n",
      "\u001b[1;31mKeyboardInterrupt\u001b[0m: "
     ]
    }
   ],
   "source": [
    "import os\n",
    "import cv2\n",
    "import pandas as pd\n",
    "from tqdm.auto import tqdm\n",
    "pred = pd.read_csv('del_submit.csv')\n",
    "img_path = './custom_dataset/test'\n",
    "classes = [\"chevrolet_malibu_sedan_2012_2016\", \"chevrolet_malibu_sedan_2017_2019\", \n",
    "               \"chevrolet_spark_hatchback_2016_2021\", \"chevrolet_trailblazer_suv_2021_\", \n",
    "               \"chevrolet_trax_suv_2017_2019\", \"genesis_g80_sedan_2016_2020\", \n",
    "               \"genesis_g80_sedan_2021_\", \"genesis_gv80_suv_2020_\", \n",
    "               \"hyundai_avante_sedan_2011_2015\", \"hyundai_avante_sedan_2020_\", \n",
    "               \"hyundai_grandeur_sedan_2011_2016\", \"hyundai_grandstarex_van_2018_2020\", \n",
    "               \"hyundai_ioniq_hatchback_2016_2019\", \"hyundai_sonata_sedan_2004_2009\", \n",
    "               \"hyundai_sonata_sedan_2010_2014\", \"hyundai_sonata_sedan_2019_2020\", \n",
    "               \"kia_carnival_van_2015_2020\", \"kia_carnival_van_2021_\", \n",
    "               \"kia_k5_sedan_2010_2015\", \"kia_k5_sedan_2020_\", \n",
    "               \"kia_k7_sedan_2016_2020\", \"kia_mohave_suv_2020_\", \n",
    "               \"kia_morning_hatchback_2004_2010\", \"kia_morning_hatchback_2011_2016\", \n",
    "               \"kia_ray_hatchback_2012_2017\", \"kia_sorrento_suv_2015_2019\", \n",
    "               \"kia_sorrento_suv_2020_\", \"kia_soul_suv_2014_2018\", \n",
    "               \"kia_sportage_suv_2016_2020\", \"kia_stonic_suv_2017_2019\", \n",
    "               \"renault_sm3_sedan_2015_2018\", \"renault_xm3_suv_2020_\", \n",
    "               \"ssangyong_korando_suv_2019_2020\", \"ssangyong_tivoli_suv_2016_2020\"]\n",
    "\n",
    "for i in tqdm(range(len(pred))):\n",
    "    scores = pred.iloc[i, :]\n",
    "    label = \"{}\".format(classes[int(scores[1])]) + ' ' + str(scores[2])\n",
    "    # index = \"y_dis:{} x_dis:{} dia:{}\".format(int(scores[11]), int(scores[12]), int(scores[13]))\n",
    "    image_path = os.getcwd()+'/custom_dataset/test/'+scores[0]\n",
    "    image = cv2.imread(image_path)\n",
    "    cv2.rectangle(image, (int(scores[3]), int(scores[4])), (int(scores[7]), int(scores[8])), (0, 255, 0), 2)\n",
    "    cv2.putText(image, label, (int(scores[3]), int(scores[4])-4), cv2.FONT_HERSHEY_COMPLEX_SMALL,\n",
    "                        2 * 0.75, (0, 255, 0), 2, lineType=cv2.LINE_AA)\n",
    "    # if int(scores[13]) > 120000:\n",
    "    cv2.imshow(\"Cars\", image)\n",
    "    cv2.waitKey()\n",
    "    cv2.destroyAllWindows()"
   ]
  },
  {
   "cell_type": "code",
   "execution_count": 18,
   "metadata": {},
   "outputs": [
    {
     "name": "stdout",
     "output_type": "stream",
     "text": [
      "14506\n",
      "9088\n"
     ]
    }
   ],
   "source": [
    "import pandas as pd\n",
    "import numpy as np\n",
    "df = pd.read_csv('submit.csv')\n",
    "print(len(df))\n",
    "df.insert(11, 'y_dis', df.apply(lambda x: float(x['point3_y']) - float(x['point1_y']), axis=1))\n",
    "df.insert(12, 'x_dis', df.apply(lambda x: float(x['point3_x']) - float(x['point1_x']), axis=1))\n",
    "df.insert(13, 'diagonal_dis', df.apply(lambda x: (float(x['y_dis'])**2 + float(x['x_dis'])**2)*0.5, axis=1))\n",
    "\n",
    "# 너무 긴 박스 지우기\n",
    "df = df.drop(df[df.y_dis >= 410].index)\n",
    "\n",
    "# 너무 긴 박스 지우기\n",
    "# df = df.drop(df[df.y_dis >= 400].index)\n",
    "\n",
    "# 너무 짧은 박스 지우기\n",
    "df = df.drop(df[df.y_dis <= 200].index)\n",
    "\n",
    "# 너무 긴 박스 지우기\n",
    "df = df.drop(df[df.x_dis >= 410].index)\n",
    "\n",
    "# 너무 짧은 박스 지우기\n",
    "df = df.drop(df[df.x_dis <= 200].index)\n",
    "\n",
    "# df = df.drop(df[df.confidence < 0.1].index)\n",
    "\n",
    "print(len(df))\n",
    "df = df.drop(['y_dis', 'x_dis', 'diagonal_dis'], axis=1)\n",
    "df.to_csv('del_submit.csv', index = False)"
   ]
  },
  {
   "cell_type": "code",
   "execution_count": null,
   "metadata": {},
   "outputs": [],
   "source": [
    "import pandas as pd\n",
    "import numpy as np\n",
    "df = pd.read_csv('Results/Mixup_distortion_20.csv')\n",
    "print(len(df))\n",
    "df.insert(11, 'y_dis', df.apply(lambda x: float(x['point3_y']) - float(x['point1_y']), axis=1))\n",
    "df.insert(12, 'x_dis', df.apply(lambda x: float(x['point3_x']) - float(x['point1_x']), axis=1))\n",
    "df.insert(13, 'diagonal_dis', df.apply(lambda x: (float(x['y_dis'])**2 + float(x['x_dis'])**2)*0.5, axis=1))\n",
    "\n",
    "df.describe()"
   ]
  },
  {
   "cell_type": "code",
   "execution_count": null,
   "metadata": {},
   "outputs": [],
   "source": [
    "#각 file_name에서 dis가 500이상인 애들을 잡고 그 x1 좌표에서 +- 75인 인덱스들 다 날리기\n",
    "import pandas as pd\n",
    "df = pd.read_csv('Results/Mixup_distortion_20.csv')\n",
    "print(len(df))\n",
    "df.insert(11, 'y_dis', df.apply(lambda x: float(x['point4_y']) - float(x['point1_y']), axis=1))\n",
    "mask = df['y_dis'] >= 500\n",
    "\n",
    "file_names = df.loc[mask, 'file_name']\n",
    "point1_x_values = df.loc[mask, 'point1_x']\n",
    "\n",
    "for file_name, point1_x in zip(file_names, point1_x_values):\n",
    "    df = df.drop(df[(df['file_name'] == file_name) & (df['point1_x'] >= point1_x - 75) & (df['point1_x'] <= point1_x + 75)].index)\n",
    "print(len(df))\n",
    "df = df.drop(['y_dis'], axis=1)\n",
    "df.to_csv('del_submit.csv', index = False)"
   ]
  },
  {
   "cell_type": "code",
   "execution_count": 19,
   "metadata": {},
   "outputs": [
    {
     "name": "stderr",
     "output_type": "stream",
     "text": [
      "c:\\Python\\lib\\site-packages\\mmcv\\__init__.py:21: UserWarning: On January 1, 2023, MMCV will release v2.0.0, in which it will remove components related to the training process and add a data transformation module. In addition, it will rename the package names mmcv to mmcv-lite and mmcv-full to mmcv. See https://github.com/open-mmlab/mmcv/blob/master/docs/en/compatibility.md for more details.\n",
      "  'On January 1, 2023, MMCV will release v2.0.0, in which it will remove '\n"
     ]
    },
    {
     "name": "stdout",
     "output_type": "stream",
     "text": [
      "load checkpoint from local path: checkpoints/faster_rcnn_x101_64x4d_fpn_1x_coco_20200204-833ee192.pth\n"
     ]
    },
    {
     "data": {
      "application/vnd.jupyter.widget-view+json": {
       "model_id": "14f8f6f90ee541e0a258ee6ae85faa8c",
       "version_major": 2,
       "version_minor": 0
      },
      "text/plain": [
       "  0%|          | 0/3400 [00:00<?, ?it/s]"
      ]
     },
     "metadata": {},
     "output_type": "display_data"
    },
    {
     "name": "stderr",
     "output_type": "stream",
     "text": [
      "c:\\Users\\KDY\\Downloads\\mmdetection-2.28.2\\mmdet\\datasets\\utils.py:70: UserWarning: \"ImageToTensor\" pipeline is replaced by \"DefaultFormatBundle\" for batch inference. It is recommended to manually replace it in the test data pipeline in your config file.\n",
      "  'data pipeline in your config file.', UserWarning)\n"
     ]
    },
    {
     "ename": "KeyboardInterrupt",
     "evalue": "",
     "output_type": "error",
     "traceback": [
      "\u001b[1;31m---------------------------------------------------------------------------\u001b[0m",
      "\u001b[1;31mKeyboardInterrupt\u001b[0m                         Traceback (most recent call last)",
      "\u001b[1;32m~\\AppData\\Local\\Temp\\ipykernel_12224\\1947868471.py\u001b[0m in \u001b[0;36m<module>\u001b[1;34m\u001b[0m\n\u001b[0;32m     18\u001b[0m     \u001b[0mfilename\u001b[0m \u001b[1;33m=\u001b[0m \u001b[0mimg\u001b[0m\u001b[1;33m.\u001b[0m\u001b[0msplit\u001b[0m\u001b[1;33m(\u001b[0m\u001b[1;34m'/'\u001b[0m\u001b[1;33m)\u001b[0m\u001b[1;33m[\u001b[0m\u001b[1;33m-\u001b[0m\u001b[1;36m1\u001b[0m\u001b[1;33m]\u001b[0m\u001b[1;33m.\u001b[0m\u001b[0msplit\u001b[0m\u001b[1;33m(\u001b[0m\u001b[1;34m'\\\\'\u001b[0m\u001b[1;33m)\u001b[0m\u001b[1;33m[\u001b[0m\u001b[1;33m-\u001b[0m\u001b[1;36m1\u001b[0m\u001b[1;33m]\u001b[0m\u001b[1;33m\u001b[0m\u001b[1;33m\u001b[0m\u001b[0m\n\u001b[0;32m     19\u001b[0m     \u001b[0miter_preds\u001b[0m \u001b[1;33m=\u001b[0m \u001b[0mpred\u001b[0m\u001b[1;33m.\u001b[0m\u001b[0mloc\u001b[0m\u001b[1;33m[\u001b[0m\u001b[0mpred\u001b[0m\u001b[1;33m[\u001b[0m\u001b[1;34m'file_name'\u001b[0m\u001b[1;33m]\u001b[0m \u001b[1;33m==\u001b[0m \u001b[0mfilename\u001b[0m\u001b[1;33m]\u001b[0m\u001b[1;33m\u001b[0m\u001b[1;33m\u001b[0m\u001b[0m\n\u001b[1;32m---> 20\u001b[1;33m     \u001b[0mresult\u001b[0m \u001b[1;33m=\u001b[0m \u001b[0minference_detector\u001b[0m\u001b[1;33m(\u001b[0m\u001b[0mmodel\u001b[0m\u001b[1;33m,\u001b[0m \u001b[0mimg\u001b[0m\u001b[1;33m)\u001b[0m\u001b[1;33m\u001b[0m\u001b[1;33m\u001b[0m\u001b[0m\n\u001b[0m\u001b[0;32m     21\u001b[0m     \u001b[0mbboxes\u001b[0m \u001b[1;33m=\u001b[0m \u001b[0mresult\u001b[0m\u001b[1;33m[\u001b[0m\u001b[1;36m2\u001b[0m\u001b[1;33m]\u001b[0m\u001b[1;33m\u001b[0m\u001b[1;33m\u001b[0m\u001b[0m\n\u001b[0;32m     22\u001b[0m     \u001b[1;32mfor\u001b[0m \u001b[0mbbox\u001b[0m \u001b[1;32min\u001b[0m \u001b[0mbboxes\u001b[0m\u001b[1;33m:\u001b[0m\u001b[1;33m\u001b[0m\u001b[1;33m\u001b[0m\u001b[0m\n",
      "\u001b[1;32mc:\\Users\\KDY\\Downloads\\mmdetection-2.28.2\\mmdet\\apis\\inference.py\u001b[0m in \u001b[0;36minference_detector\u001b[1;34m(model, imgs)\u001b[0m\n\u001b[0;32m    155\u001b[0m     \u001b[1;31m# forward the model\u001b[0m\u001b[1;33m\u001b[0m\u001b[1;33m\u001b[0m\u001b[1;33m\u001b[0m\u001b[0m\n\u001b[0;32m    156\u001b[0m     \u001b[1;32mwith\u001b[0m \u001b[0mtorch\u001b[0m\u001b[1;33m.\u001b[0m\u001b[0mno_grad\u001b[0m\u001b[1;33m(\u001b[0m\u001b[1;33m)\u001b[0m\u001b[1;33m:\u001b[0m\u001b[1;33m\u001b[0m\u001b[1;33m\u001b[0m\u001b[0m\n\u001b[1;32m--> 157\u001b[1;33m         \u001b[0mresults\u001b[0m \u001b[1;33m=\u001b[0m \u001b[0mmodel\u001b[0m\u001b[1;33m(\u001b[0m\u001b[0mreturn_loss\u001b[0m\u001b[1;33m=\u001b[0m\u001b[1;32mFalse\u001b[0m\u001b[1;33m,\u001b[0m \u001b[0mrescale\u001b[0m\u001b[1;33m=\u001b[0m\u001b[1;32mTrue\u001b[0m\u001b[1;33m,\u001b[0m \u001b[1;33m**\u001b[0m\u001b[0mdata\u001b[0m\u001b[1;33m)\u001b[0m\u001b[1;33m\u001b[0m\u001b[1;33m\u001b[0m\u001b[0m\n\u001b[0m\u001b[0;32m    158\u001b[0m \u001b[1;33m\u001b[0m\u001b[0m\n\u001b[0;32m    159\u001b[0m     \u001b[1;32mif\u001b[0m \u001b[1;32mnot\u001b[0m \u001b[0mis_batch\u001b[0m\u001b[1;33m:\u001b[0m\u001b[1;33m\u001b[0m\u001b[1;33m\u001b[0m\u001b[0m\n",
      "\u001b[1;32mc:\\Python\\lib\\site-packages\\torch\\nn\\modules\\module.py\u001b[0m in \u001b[0;36m_call_impl\u001b[1;34m(self, *input, **kwargs)\u001b[0m\n\u001b[0;32m   1188\u001b[0m         if not (self._backward_hooks or self._forward_hooks or self._forward_pre_hooks or _global_backward_hooks\n\u001b[0;32m   1189\u001b[0m                 or _global_forward_hooks or _global_forward_pre_hooks):\n\u001b[1;32m-> 1190\u001b[1;33m             \u001b[1;32mreturn\u001b[0m \u001b[0mforward_call\u001b[0m\u001b[1;33m(\u001b[0m\u001b[1;33m*\u001b[0m\u001b[0minput\u001b[0m\u001b[1;33m,\u001b[0m \u001b[1;33m**\u001b[0m\u001b[0mkwargs\u001b[0m\u001b[1;33m)\u001b[0m\u001b[1;33m\u001b[0m\u001b[1;33m\u001b[0m\u001b[0m\n\u001b[0m\u001b[0;32m   1191\u001b[0m         \u001b[1;31m# Do not call functions when jit is used\u001b[0m\u001b[1;33m\u001b[0m\u001b[1;33m\u001b[0m\u001b[1;33m\u001b[0m\u001b[0m\n\u001b[0;32m   1192\u001b[0m         \u001b[0mfull_backward_hooks\u001b[0m\u001b[1;33m,\u001b[0m \u001b[0mnon_full_backward_hooks\u001b[0m \u001b[1;33m=\u001b[0m \u001b[1;33m[\u001b[0m\u001b[1;33m]\u001b[0m\u001b[1;33m,\u001b[0m \u001b[1;33m[\u001b[0m\u001b[1;33m]\u001b[0m\u001b[1;33m\u001b[0m\u001b[1;33m\u001b[0m\u001b[0m\n",
      "\u001b[1;32mc:\\Python\\lib\\site-packages\\mmcv\\runner\\fp16_utils.py\u001b[0m in \u001b[0;36mnew_func\u001b[1;34m(*args, **kwargs)\u001b[0m\n\u001b[0;32m    117\u001b[0m                                 f'method of those classes {supported_types}')\n\u001b[0;32m    118\u001b[0m             \u001b[1;32mif\u001b[0m \u001b[1;32mnot\u001b[0m \u001b[1;33m(\u001b[0m\u001b[0mhasattr\u001b[0m\u001b[1;33m(\u001b[0m\u001b[0margs\u001b[0m\u001b[1;33m[\u001b[0m\u001b[1;36m0\u001b[0m\u001b[1;33m]\u001b[0m\u001b[1;33m,\u001b[0m \u001b[1;34m'fp16_enabled'\u001b[0m\u001b[1;33m)\u001b[0m \u001b[1;32mand\u001b[0m \u001b[0margs\u001b[0m\u001b[1;33m[\u001b[0m\u001b[1;36m0\u001b[0m\u001b[1;33m]\u001b[0m\u001b[1;33m.\u001b[0m\u001b[0mfp16_enabled\u001b[0m\u001b[1;33m)\u001b[0m\u001b[1;33m:\u001b[0m\u001b[1;33m\u001b[0m\u001b[1;33m\u001b[0m\u001b[0m\n\u001b[1;32m--> 119\u001b[1;33m                 \u001b[1;32mreturn\u001b[0m \u001b[0mold_func\u001b[0m\u001b[1;33m(\u001b[0m\u001b[1;33m*\u001b[0m\u001b[0margs\u001b[0m\u001b[1;33m,\u001b[0m \u001b[1;33m**\u001b[0m\u001b[0mkwargs\u001b[0m\u001b[1;33m)\u001b[0m\u001b[1;33m\u001b[0m\u001b[1;33m\u001b[0m\u001b[0m\n\u001b[0m\u001b[0;32m    120\u001b[0m \u001b[1;33m\u001b[0m\u001b[0m\n\u001b[0;32m    121\u001b[0m             \u001b[1;31m# get the arg spec of the decorated method\u001b[0m\u001b[1;33m\u001b[0m\u001b[1;33m\u001b[0m\u001b[1;33m\u001b[0m\u001b[0m\n",
      "\u001b[1;32mc:\\Users\\KDY\\Downloads\\mmdetection-2.28.2\\mmdet\\models\\detectors\\base.py\u001b[0m in \u001b[0;36mforward\u001b[1;34m(self, img, img_metas, return_loss, **kwargs)\u001b[0m\n\u001b[0;32m    172\u001b[0m             \u001b[1;32mreturn\u001b[0m \u001b[0mself\u001b[0m\u001b[1;33m.\u001b[0m\u001b[0mforward_train\u001b[0m\u001b[1;33m(\u001b[0m\u001b[0mimg\u001b[0m\u001b[1;33m,\u001b[0m \u001b[0mimg_metas\u001b[0m\u001b[1;33m,\u001b[0m \u001b[1;33m**\u001b[0m\u001b[0mkwargs\u001b[0m\u001b[1;33m)\u001b[0m\u001b[1;33m\u001b[0m\u001b[1;33m\u001b[0m\u001b[0m\n\u001b[0;32m    173\u001b[0m         \u001b[1;32melse\u001b[0m\u001b[1;33m:\u001b[0m\u001b[1;33m\u001b[0m\u001b[1;33m\u001b[0m\u001b[0m\n\u001b[1;32m--> 174\u001b[1;33m             \u001b[1;32mreturn\u001b[0m \u001b[0mself\u001b[0m\u001b[1;33m.\u001b[0m\u001b[0mforward_test\u001b[0m\u001b[1;33m(\u001b[0m\u001b[0mimg\u001b[0m\u001b[1;33m,\u001b[0m \u001b[0mimg_metas\u001b[0m\u001b[1;33m,\u001b[0m \u001b[1;33m**\u001b[0m\u001b[0mkwargs\u001b[0m\u001b[1;33m)\u001b[0m\u001b[1;33m\u001b[0m\u001b[1;33m\u001b[0m\u001b[0m\n\u001b[0m\u001b[0;32m    175\u001b[0m \u001b[1;33m\u001b[0m\u001b[0m\n\u001b[0;32m    176\u001b[0m     \u001b[1;32mdef\u001b[0m \u001b[0m_parse_losses\u001b[0m\u001b[1;33m(\u001b[0m\u001b[0mself\u001b[0m\u001b[1;33m,\u001b[0m \u001b[0mlosses\u001b[0m\u001b[1;33m)\u001b[0m\u001b[1;33m:\u001b[0m\u001b[1;33m\u001b[0m\u001b[1;33m\u001b[0m\u001b[0m\n",
      "\u001b[1;32mc:\\Users\\KDY\\Downloads\\mmdetection-2.28.2\\mmdet\\models\\detectors\\base.py\u001b[0m in \u001b[0;36mforward_test\u001b[1;34m(self, imgs, img_metas, **kwargs)\u001b[0m\n\u001b[0;32m    145\u001b[0m             \u001b[1;32mif\u001b[0m \u001b[1;34m'proposals'\u001b[0m \u001b[1;32min\u001b[0m \u001b[0mkwargs\u001b[0m\u001b[1;33m:\u001b[0m\u001b[1;33m\u001b[0m\u001b[1;33m\u001b[0m\u001b[0m\n\u001b[0;32m    146\u001b[0m                 \u001b[0mkwargs\u001b[0m\u001b[1;33m[\u001b[0m\u001b[1;34m'proposals'\u001b[0m\u001b[1;33m]\u001b[0m \u001b[1;33m=\u001b[0m \u001b[0mkwargs\u001b[0m\u001b[1;33m[\u001b[0m\u001b[1;34m'proposals'\u001b[0m\u001b[1;33m]\u001b[0m\u001b[1;33m[\u001b[0m\u001b[1;36m0\u001b[0m\u001b[1;33m]\u001b[0m\u001b[1;33m\u001b[0m\u001b[1;33m\u001b[0m\u001b[0m\n\u001b[1;32m--> 147\u001b[1;33m             \u001b[1;32mreturn\u001b[0m \u001b[0mself\u001b[0m\u001b[1;33m.\u001b[0m\u001b[0msimple_test\u001b[0m\u001b[1;33m(\u001b[0m\u001b[0mimgs\u001b[0m\u001b[1;33m[\u001b[0m\u001b[1;36m0\u001b[0m\u001b[1;33m]\u001b[0m\u001b[1;33m,\u001b[0m \u001b[0mimg_metas\u001b[0m\u001b[1;33m[\u001b[0m\u001b[1;36m0\u001b[0m\u001b[1;33m]\u001b[0m\u001b[1;33m,\u001b[0m \u001b[1;33m**\u001b[0m\u001b[0mkwargs\u001b[0m\u001b[1;33m)\u001b[0m\u001b[1;33m\u001b[0m\u001b[1;33m\u001b[0m\u001b[0m\n\u001b[0m\u001b[0;32m    148\u001b[0m         \u001b[1;32melse\u001b[0m\u001b[1;33m:\u001b[0m\u001b[1;33m\u001b[0m\u001b[1;33m\u001b[0m\u001b[0m\n\u001b[0;32m    149\u001b[0m             \u001b[1;32massert\u001b[0m \u001b[0mimgs\u001b[0m\u001b[1;33m[\u001b[0m\u001b[1;36m0\u001b[0m\u001b[1;33m]\u001b[0m\u001b[1;33m.\u001b[0m\u001b[0msize\u001b[0m\u001b[1;33m(\u001b[0m\u001b[1;36m0\u001b[0m\u001b[1;33m)\u001b[0m \u001b[1;33m==\u001b[0m \u001b[1;36m1\u001b[0m\u001b[1;33m,\u001b[0m \u001b[1;34m'aug test does not support '\u001b[0m\u001b[0;31m \u001b[0m\u001b[0;31m\\\u001b[0m\u001b[1;33m\u001b[0m\u001b[1;33m\u001b[0m\u001b[0m\n",
      "\u001b[1;32mc:\\Users\\KDY\\Downloads\\mmdetection-2.28.2\\mmdet\\models\\detectors\\two_stage.py\u001b[0m in \u001b[0;36msimple_test\u001b[1;34m(self, img, img_metas, proposals, rescale)\u001b[0m\n\u001b[0;32m    177\u001b[0m         \u001b[0mx\u001b[0m \u001b[1;33m=\u001b[0m \u001b[0mself\u001b[0m\u001b[1;33m.\u001b[0m\u001b[0mextract_feat\u001b[0m\u001b[1;33m(\u001b[0m\u001b[0mimg\u001b[0m\u001b[1;33m)\u001b[0m\u001b[1;33m\u001b[0m\u001b[1;33m\u001b[0m\u001b[0m\n\u001b[0;32m    178\u001b[0m         \u001b[1;32mif\u001b[0m \u001b[0mproposals\u001b[0m \u001b[1;32mis\u001b[0m \u001b[1;32mNone\u001b[0m\u001b[1;33m:\u001b[0m\u001b[1;33m\u001b[0m\u001b[1;33m\u001b[0m\u001b[0m\n\u001b[1;32m--> 179\u001b[1;33m             \u001b[0mproposal_list\u001b[0m \u001b[1;33m=\u001b[0m \u001b[0mself\u001b[0m\u001b[1;33m.\u001b[0m\u001b[0mrpn_head\u001b[0m\u001b[1;33m.\u001b[0m\u001b[0msimple_test_rpn\u001b[0m\u001b[1;33m(\u001b[0m\u001b[0mx\u001b[0m\u001b[1;33m,\u001b[0m \u001b[0mimg_metas\u001b[0m\u001b[1;33m)\u001b[0m\u001b[1;33m\u001b[0m\u001b[1;33m\u001b[0m\u001b[0m\n\u001b[0m\u001b[0;32m    180\u001b[0m         \u001b[1;32melse\u001b[0m\u001b[1;33m:\u001b[0m\u001b[1;33m\u001b[0m\u001b[1;33m\u001b[0m\u001b[0m\n\u001b[0;32m    181\u001b[0m             \u001b[0mproposal_list\u001b[0m \u001b[1;33m=\u001b[0m \u001b[0mproposals\u001b[0m\u001b[1;33m\u001b[0m\u001b[1;33m\u001b[0m\u001b[0m\n",
      "\u001b[1;32mc:\\Users\\KDY\\Downloads\\mmdetection-2.28.2\\mmdet\\models\\dense_heads\\dense_test_mixins.py\u001b[0m in \u001b[0;36msimple_test_rpn\u001b[1;34m(self, x, img_metas)\u001b[0m\n\u001b[0;32m    128\u001b[0m         \"\"\"\n\u001b[0;32m    129\u001b[0m         \u001b[0mrpn_outs\u001b[0m \u001b[1;33m=\u001b[0m \u001b[0mself\u001b[0m\u001b[1;33m(\u001b[0m\u001b[0mx\u001b[0m\u001b[1;33m)\u001b[0m\u001b[1;33m\u001b[0m\u001b[1;33m\u001b[0m\u001b[0m\n\u001b[1;32m--> 130\u001b[1;33m         \u001b[0mproposal_list\u001b[0m \u001b[1;33m=\u001b[0m \u001b[0mself\u001b[0m\u001b[1;33m.\u001b[0m\u001b[0mget_bboxes\u001b[0m\u001b[1;33m(\u001b[0m\u001b[1;33m*\u001b[0m\u001b[0mrpn_outs\u001b[0m\u001b[1;33m,\u001b[0m \u001b[0mimg_metas\u001b[0m\u001b[1;33m=\u001b[0m\u001b[0mimg_metas\u001b[0m\u001b[1;33m)\u001b[0m\u001b[1;33m\u001b[0m\u001b[1;33m\u001b[0m\u001b[0m\n\u001b[0m\u001b[0;32m    131\u001b[0m         \u001b[1;32mreturn\u001b[0m \u001b[0mproposal_list\u001b[0m\u001b[1;33m\u001b[0m\u001b[1;33m\u001b[0m\u001b[0m\n\u001b[0;32m    132\u001b[0m \u001b[1;33m\u001b[0m\u001b[0m\n",
      "\u001b[1;32mc:\\Python\\lib\\site-packages\\mmcv\\runner\\fp16_utils.py\u001b[0m in \u001b[0;36mnew_func\u001b[1;34m(*args, **kwargs)\u001b[0m\n\u001b[0;32m    206\u001b[0m                                 'method of nn.Module')\n\u001b[0;32m    207\u001b[0m             \u001b[1;32mif\u001b[0m \u001b[1;32mnot\u001b[0m \u001b[1;33m(\u001b[0m\u001b[0mhasattr\u001b[0m\u001b[1;33m(\u001b[0m\u001b[0margs\u001b[0m\u001b[1;33m[\u001b[0m\u001b[1;36m0\u001b[0m\u001b[1;33m]\u001b[0m\u001b[1;33m,\u001b[0m \u001b[1;34m'fp16_enabled'\u001b[0m\u001b[1;33m)\u001b[0m \u001b[1;32mand\u001b[0m \u001b[0margs\u001b[0m\u001b[1;33m[\u001b[0m\u001b[1;36m0\u001b[0m\u001b[1;33m]\u001b[0m\u001b[1;33m.\u001b[0m\u001b[0mfp16_enabled\u001b[0m\u001b[1;33m)\u001b[0m\u001b[1;33m:\u001b[0m\u001b[1;33m\u001b[0m\u001b[1;33m\u001b[0m\u001b[0m\n\u001b[1;32m--> 208\u001b[1;33m                 \u001b[1;32mreturn\u001b[0m \u001b[0mold_func\u001b[0m\u001b[1;33m(\u001b[0m\u001b[1;33m*\u001b[0m\u001b[0margs\u001b[0m\u001b[1;33m,\u001b[0m \u001b[1;33m**\u001b[0m\u001b[0mkwargs\u001b[0m\u001b[1;33m)\u001b[0m\u001b[1;33m\u001b[0m\u001b[1;33m\u001b[0m\u001b[0m\n\u001b[0m\u001b[0;32m    209\u001b[0m             \u001b[1;31m# get the arg spec of the decorated method\u001b[0m\u001b[1;33m\u001b[0m\u001b[1;33m\u001b[0m\u001b[1;33m\u001b[0m\u001b[0m\n\u001b[0;32m    210\u001b[0m             \u001b[0margs_info\u001b[0m \u001b[1;33m=\u001b[0m \u001b[0mgetfullargspec\u001b[0m\u001b[1;33m(\u001b[0m\u001b[0mold_func\u001b[0m\u001b[1;33m)\u001b[0m\u001b[1;33m\u001b[0m\u001b[1;33m\u001b[0m\u001b[0m\n",
      "\u001b[1;32mc:\\Users\\KDY\\Downloads\\mmdetection-2.28.2\\mmdet\\models\\dense_heads\\base_dense_head.py\u001b[0m in \u001b[0;36mget_bboxes\u001b[1;34m(self, cls_scores, bbox_preds, score_factors, img_metas, cfg, rescale, with_nms, **kwargs)\u001b[0m\n\u001b[0;32m     87\u001b[0m             \u001b[0mfeatmap_sizes\u001b[0m\u001b[1;33m,\u001b[0m\u001b[1;33m\u001b[0m\u001b[1;33m\u001b[0m\u001b[0m\n\u001b[0;32m     88\u001b[0m             \u001b[0mdtype\u001b[0m\u001b[1;33m=\u001b[0m\u001b[0mcls_scores\u001b[0m\u001b[1;33m[\u001b[0m\u001b[1;36m0\u001b[0m\u001b[1;33m]\u001b[0m\u001b[1;33m.\u001b[0m\u001b[0mdtype\u001b[0m\u001b[1;33m,\u001b[0m\u001b[1;33m\u001b[0m\u001b[1;33m\u001b[0m\u001b[0m\n\u001b[1;32m---> 89\u001b[1;33m             device=cls_scores[0].device)\n\u001b[0m\u001b[0;32m     90\u001b[0m \u001b[1;33m\u001b[0m\u001b[0m\n\u001b[0;32m     91\u001b[0m         \u001b[0mresult_list\u001b[0m \u001b[1;33m=\u001b[0m \u001b[1;33m[\u001b[0m\u001b[1;33m]\u001b[0m\u001b[1;33m\u001b[0m\u001b[1;33m\u001b[0m\u001b[0m\n",
      "\u001b[1;32mc:\\Users\\KDY\\Downloads\\mmdetection-2.28.2\\mmdet\\core\\anchor\\anchor_generator.py\u001b[0m in \u001b[0;36mgrid_priors\u001b[1;34m(self, featmap_sizes, dtype, device)\u001b[0m\n\u001b[0;32m    235\u001b[0m         \u001b[1;32mfor\u001b[0m \u001b[0mi\u001b[0m \u001b[1;32min\u001b[0m \u001b[0mrange\u001b[0m\u001b[1;33m(\u001b[0m\u001b[0mself\u001b[0m\u001b[1;33m.\u001b[0m\u001b[0mnum_levels\u001b[0m\u001b[1;33m)\u001b[0m\u001b[1;33m:\u001b[0m\u001b[1;33m\u001b[0m\u001b[1;33m\u001b[0m\u001b[0m\n\u001b[0;32m    236\u001b[0m             anchors = self.single_level_grid_priors(\n\u001b[1;32m--> 237\u001b[1;33m                 featmap_sizes[i], level_idx=i, dtype=dtype, device=device)\n\u001b[0m\u001b[0;32m    238\u001b[0m             \u001b[0mmulti_level_anchors\u001b[0m\u001b[1;33m.\u001b[0m\u001b[0mappend\u001b[0m\u001b[1;33m(\u001b[0m\u001b[0manchors\u001b[0m\u001b[1;33m)\u001b[0m\u001b[1;33m\u001b[0m\u001b[1;33m\u001b[0m\u001b[0m\n\u001b[0;32m    239\u001b[0m         \u001b[1;32mreturn\u001b[0m \u001b[0mmulti_level_anchors\u001b[0m\u001b[1;33m\u001b[0m\u001b[1;33m\u001b[0m\u001b[0m\n",
      "\u001b[1;32mc:\\Users\\KDY\\Downloads\\mmdetection-2.28.2\\mmdet\\core\\anchor\\anchor_generator.py\u001b[0m in \u001b[0;36msingle_level_grid_priors\u001b[1;34m(self, featmap_size, level_idx, dtype, device)\u001b[0m\n\u001b[0;32m    261\u001b[0m         \"\"\"\n\u001b[0;32m    262\u001b[0m \u001b[1;33m\u001b[0m\u001b[0m\n\u001b[1;32m--> 263\u001b[1;33m         \u001b[0mbase_anchors\u001b[0m \u001b[1;33m=\u001b[0m \u001b[0mself\u001b[0m\u001b[1;33m.\u001b[0m\u001b[0mbase_anchors\u001b[0m\u001b[1;33m[\u001b[0m\u001b[0mlevel_idx\u001b[0m\u001b[1;33m]\u001b[0m\u001b[1;33m.\u001b[0m\u001b[0mto\u001b[0m\u001b[1;33m(\u001b[0m\u001b[0mdevice\u001b[0m\u001b[1;33m)\u001b[0m\u001b[1;33m.\u001b[0m\u001b[0mto\u001b[0m\u001b[1;33m(\u001b[0m\u001b[0mdtype\u001b[0m\u001b[1;33m)\u001b[0m\u001b[1;33m\u001b[0m\u001b[1;33m\u001b[0m\u001b[0m\n\u001b[0m\u001b[0;32m    264\u001b[0m         \u001b[0mfeat_h\u001b[0m\u001b[1;33m,\u001b[0m \u001b[0mfeat_w\u001b[0m \u001b[1;33m=\u001b[0m \u001b[0mfeatmap_size\u001b[0m\u001b[1;33m\u001b[0m\u001b[1;33m\u001b[0m\u001b[0m\n\u001b[0;32m    265\u001b[0m         \u001b[0mstride_w\u001b[0m\u001b[1;33m,\u001b[0m \u001b[0mstride_h\u001b[0m \u001b[1;33m=\u001b[0m \u001b[0mself\u001b[0m\u001b[1;33m.\u001b[0m\u001b[0mstrides\u001b[0m\u001b[1;33m[\u001b[0m\u001b[0mlevel_idx\u001b[0m\u001b[1;33m]\u001b[0m\u001b[1;33m\u001b[0m\u001b[1;33m\u001b[0m\u001b[0m\n",
      "\u001b[1;31mKeyboardInterrupt\u001b[0m: "
     ]
    }
   ],
   "source": [
    "from mmdet.apis import init_detector, inference_detector\n",
    "import mmcv\n",
    "from tqdm.auto import tqdm\n",
    "import glob\n",
    "import pandas as pd\n",
    "\n",
    "# Specify the path to model config and checkpoint file\n",
    "config_file = 'configs/faster_rcnn/faster_rcnn_x101_64x4d_fpn_1x_coco.py'\n",
    "checkpoint_file = 'checkpoints/yolox_x_8x8_300e_coco_20211126_140254-1ef88d67.pth'\n",
    "results = pd.read_csv('./custom_dataset/sample_submission.csv')\n",
    "pred = pd.read_csv('final.csv')\n",
    "img_path = './custom_dataset/test'\n",
    "\n",
    "# build the model from a config file and a checkpoint file\n",
    "model = init_detector(config_file, checkpoint_file, device='cuda:0')\n",
    "\n",
    "for img in tqdm(glob.glob(img_path+'/*.png')):\n",
    "    filename = img.split('/')[-1].split('\\\\')[-1]  \n",
    "    iter_preds = pred.loc[pred['file_name'] == filename]\n",
    "    result = inference_detector(model, img)\n",
    "    bboxes = result[2]\n",
    "    for bbox in bboxes:\n",
    "        if bbox[4] < 0.5: continue\n",
    "        X1, Y1, X2, Y2 = bbox[0], bbox[1], bbox[2],bbox[3]\n",
    "        for iter in iter_preds.values:\n",
    "            x1, y1, x2, y2 = iter[3], iter[4], iter[7], iter[8]\n",
    "            if x1 <= X1 + 100 and x1 >= X1 - 100 and y1 <= Y1 + 100 and y1 >= Y1 - 100 and x2 <= X2 + 100 and x2 >= X2 - 100 and y2 <= Y2 + 100 and y2 >= Y2 - 100:\n",
    "                results = results.append({\n",
    "                \"file_name\" : iter[0],\n",
    "                \"class_id\" : iter[1],\n",
    "                \"confidence\" : iter[2],\n",
    "                \"point1_x\" : x1, \"point1_y\" : y1,\n",
    "                \"point2_x\" : x2, \"point2_y\" : y1,\n",
    "                \"point3_x\" : x2, \"point3_y\" : y2,\n",
    "                \"point4_x\" : x1, \"point4_y\" : y2,\n",
    "            }, ignore_index = True)\n",
    "        \n",
    "print(len(results))\n",
    "results.to_csv('Stacked_del_submit.csv', index = False) # 9138"
   ]
  },
  {
   "cell_type": "code",
   "execution_count": null,
   "metadata": {},
   "outputs": [],
   "source": [
    "import pickle\n",
    "import pandas as pd\n",
    "import glob\n",
    "\n",
    "df = pd.read_csv('final.csv')                                                                                                           \n",
    "\n",
    "results = pd.read_csv('./custom_dataset/sample_submission.csv')                 \n",
    "for index, row in tqdm(df.iterrows()):                                                                            \n",
    "    file_name = row['file_name'].split('.')[0] + '.png'\n",
    "    confidence = row['confidence']\n",
    "    classes = row['class_id']\n",
    "    x1 = row['point1_x']\n",
    "    y1 = row['point1_y']\n",
    "    x2 = row['point3_x']\n",
    "    y2 = row['point3_y']\n",
    "    \n",
    "    results = results.append({\n",
    "        \"file_name\" : file_name,               \n",
    "        \"class_id\" : classes,                                                        \n",
    "        \"confidence\" : confidence,                     \n",
    "        \"point1_x\" : x1, \"point1_y\" : y1,\n",
    "        \"point2_x\" : x2, \"point2_y\" : y1,\n",
    "        \"point3_x\" : x2, \"point3_y\" : y2,\n",
    "        \"point4_x\" : x1, \"point4_y\" : y2,\n",
    "    }, ignore_index = True)\n",
    "\n",
    "results.to_csv('submit.csv', index = False)\n",
    "print(len(results))"
   ]
  }
 ],
 "metadata": {
  "kernelspec": {
   "display_name": "Python 3",
   "language": "python",
   "name": "python3"
  },
  "language_info": {
   "codemirror_mode": {
    "name": "ipython",
    "version": 3
   },
   "file_extension": ".py",
   "mimetype": "text/x-python",
   "name": "python",
   "nbconvert_exporter": "python",
   "pygments_lexer": "ipython3",
   "version": "3.7.3"
  },
  "orig_nbformat": 4
 },
 "nbformat": 4,
 "nbformat_minor": 2
}
