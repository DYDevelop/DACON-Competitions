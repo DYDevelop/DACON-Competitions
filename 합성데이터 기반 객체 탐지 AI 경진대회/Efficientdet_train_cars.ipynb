{
  "cells": [
    {
      "attachments": {},
      "cell_type": "markdown",
      "metadata": {
        "collapsed": true,
        "id": "GI9KZ3F8TLSK",
        "pycharm": {
          "name": "#%% md\n"
        }
      },
      "source": [
        "# EfficientDet Training On A Custom Dataset"
      ]
    },
    {
      "attachments": {},
      "cell_type": "markdown",
      "metadata": {
        "collapsed": false,
        "id": "67-3S5_VTLSL",
        "pycharm": {
          "name": "#%% md\n"
        }
      },
      "source": [
        "### 0. Install Requirements"
      ]
    },
    {
      "cell_type": "code",
      "execution_count": null,
      "metadata": {
        "id": "90laRz20TLSN",
        "pycharm": {
          "name": "#%%\n"
        }
      },
      "outputs": [],
      "source": [
        "!pip install pycocotools numpy==1.16.0 opencv-python tqdm tensorboard tensorboardX pyyaml webcolors matplotlib"
      ]
    },
    {
      "attachments": {},
      "cell_type": "markdown",
      "metadata": {
        "collapsed": false,
        "id": "-R5C4DaETLSS",
        "pycharm": {
          "name": "#%% md\n"
        }
      },
      "source": [
        "### 1. Prepare Custom Dataset/Pretrained Weights (Skip this part if you already have datasets and weights of your own)"
      ]
    },
    {
      "cell_type": "code",
      "execution_count": null,
      "metadata": {
        "id": "JmCQj3rhTLSS",
        "pycharm": {
          "name": "#%%\n"
        }
      },
      "outputs": [],
      "source": [
        "# import os\n",
        "# import sys\n",
        "# if \"projects\" not in os.getcwd():\n",
        "#   !git clone --depth 1 https://github.com/zylo117/Yet-Another-EfficientDet-Pytorch\n",
        "#   os.chdir('Yet-Another-EfficientDet-Pytorch')\n",
        "#   sys.path.append('.')\n",
        "# else:\n",
        "#   !git pull\n",
        "\n",
        "# # download and unzip dataset\n",
        "# ! mkdir datasets\n",
        "# ! wget https://github.com/zylo117/Yet-Another-EfficientDet-Pytorch/releases/download/1.1/dataset_birdview_vehicles.zip\n",
        "# ! unzip -d datasets/ dataset_birdview_vehicles.zip\n",
        "\n",
        "# # download pretrained weights\n",
        "# ! mkdir weights\n",
        "# ! wget https://github.com/zylo117/Yet-Another-EfficientDet-Pytorch/releases/download/1.0/efficientdet-d7.pth -O weights/efficientdet-d0.pth\n",
        "\n",
        "# # prepare project file projects/logo.yml\n",
        "# # showing its contents here\n",
        "# ! cat projects/birdview_vehicles.yml"
      ]
    },
    {
      "attachments": {},
      "cell_type": "markdown",
      "metadata": {
        "collapsed": false,
        "id": "7Q2onXNZTLSV"
      },
      "source": [
        "### 2. Training"
      ]
    },
    {
      "cell_type": "code",
      "execution_count": 1,
      "metadata": {
        "colab": {
          "base_uri": "https://localhost:8080/"
        },
        "id": "a-eznEu5TLSW",
        "outputId": "66f20163-eaad-4b1f-a1b2-de3673315ac0",
        "pycharm": {
          "name": "#%%\n"
        }
      },
      "outputs": [
        {
          "name": "stdout",
          "output_type": "stream",
          "text": [
            "loading annotations into memory...\n",
            "Done (t=0.06s)\n",
            "creating index...\n",
            "index created!\n",
            "loading annotations into memory...\n",
            "Done (t=0.01s)\n",
            "creating index...\n",
            "index created!\n",
            "[Warning] Ignoring Error(s) in loading state_dict for EfficientDetBackbone:\n",
            "\tsize mismatch for classifier.header.pointwise_conv.conv.weight: copying a param with shape torch.Size([810, 64, 1, 1]) from checkpoint, the shape in current model is torch.Size([306, 64, 1, 1]).\n",
            "\tsize mismatch for classifier.header.pointwise_conv.conv.bias: copying a param with shape torch.Size([810]) from checkpoint, the shape in current model is torch.Size([306]).\n",
            "[Warning] Don't panic if you see this, this might be because you load a pretrained weights with different number of classes. The rest of the weights should be loaded already.\n",
            "[Info] loaded weights: efficientdet-d0.pth, resuming checkpoint from step: 0\n"
          ]
        },
        {
          "data": {
            "application/vnd.jupyter.widget-view+json": {
              "model_id": "906a2000d49f4a5f8be785fae35724ce",
              "version_major": 2,
              "version_minor": 0
            },
            "text/plain": [
              "  0%|          | 0/364 [00:00<?, ?it/s]"
            ]
          },
          "metadata": {},
          "output_type": "display_data"
        },
        {
          "name": "stdout",
          "output_type": "stream",
          "text": [
            "Val. Epoch: 0/12. Classification loss: 3721.33228. Regression loss: 0.23592. Total loss: 3721.56820\n"
          ]
        },
        {
          "data": {
            "application/vnd.jupyter.widget-view+json": {
              "model_id": "7c2ac99fa25743518308f62b1b20d71d",
              "version_major": 2,
              "version_minor": 0
            },
            "text/plain": [
              "  0%|          | 0/364 [00:00<?, ?it/s]"
            ]
          },
          "metadata": {},
          "output_type": "display_data"
        },
        {
          "name": "stdout",
          "output_type": "stream",
          "text": [
            "checkpoint...\n",
            "Val. Epoch: 1/12. Classification loss: 689.17090. Regression loss: 0.19758. Total loss: 689.36848\n"
          ]
        },
        {
          "data": {
            "application/vnd.jupyter.widget-view+json": {
              "model_id": "4688d73332974616b39ca1bb55260853",
              "version_major": 2,
              "version_minor": 0
            },
            "text/plain": [
              "  0%|          | 0/364 [00:00<?, ?it/s]"
            ]
          },
          "metadata": {},
          "output_type": "display_data"
        },
        {
          "name": "stdout",
          "output_type": "stream",
          "text": [
            "checkpoint...\n",
            "Val. Epoch: 2/12. Classification loss: 257.01059. Regression loss: 0.17819. Total loss: 257.18878\n"
          ]
        },
        {
          "data": {
            "application/vnd.jupyter.widget-view+json": {
              "model_id": "dcf94007254543d19414d18008ad9c04",
              "version_major": 2,
              "version_minor": 0
            },
            "text/plain": [
              "  0%|          | 0/364 [00:00<?, ?it/s]"
            ]
          },
          "metadata": {},
          "output_type": "display_data"
        },
        {
          "name": "stdout",
          "output_type": "stream",
          "text": [
            "Val. Epoch: 3/12. Classification loss: 137.86523. Regression loss: 0.15537. Total loss: 138.02060\n"
          ]
        },
        {
          "data": {
            "application/vnd.jupyter.widget-view+json": {
              "model_id": "1f62faa5cc0c4ab0af182f260b2d6478",
              "version_major": 2,
              "version_minor": 0
            },
            "text/plain": [
              "  0%|          | 0/364 [00:00<?, ?it/s]"
            ]
          },
          "metadata": {},
          "output_type": "display_data"
        },
        {
          "name": "stdout",
          "output_type": "stream",
          "text": [
            "checkpoint...\n",
            "Val. Epoch: 4/12. Classification loss: 80.16780. Regression loss: 0.14338. Total loss: 80.31118\n"
          ]
        },
        {
          "data": {
            "application/vnd.jupyter.widget-view+json": {
              "model_id": "dc19ef8262b34d53b83d40ee4e53b5ce",
              "version_major": 2,
              "version_minor": 0
            },
            "text/plain": [
              "  0%|          | 0/364 [00:00<?, ?it/s]"
            ]
          },
          "metadata": {},
          "output_type": "display_data"
        },
        {
          "name": "stdout",
          "output_type": "stream",
          "text": [
            "checkpoint...\n",
            "Val. Epoch: 5/12. Classification loss: 51.72637. Regression loss: 0.12292. Total loss: 51.84929\n"
          ]
        },
        {
          "data": {
            "application/vnd.jupyter.widget-view+json": {
              "model_id": "0a0f3bae7bad4ae697a09a2f58dca40a",
              "version_major": 2,
              "version_minor": 0
            },
            "text/plain": [
              "  0%|          | 0/364 [00:00<?, ?it/s]"
            ]
          },
          "metadata": {},
          "output_type": "display_data"
        },
        {
          "name": "stdout",
          "output_type": "stream",
          "text": [
            "checkpoint...\n",
            "Val. Epoch: 6/12. Classification loss: 34.90201. Regression loss: 0.11275. Total loss: 35.01476\n"
          ]
        },
        {
          "data": {
            "application/vnd.jupyter.widget-view+json": {
              "model_id": "cc9e490078ed4d6584ea5a339860ea13",
              "version_major": 2,
              "version_minor": 0
            },
            "text/plain": [
              "  0%|          | 0/364 [00:00<?, ?it/s]"
            ]
          },
          "metadata": {},
          "output_type": "display_data"
        },
        {
          "name": "stdout",
          "output_type": "stream",
          "text": [
            "Val. Epoch: 7/12. Classification loss: 24.30942. Regression loss: 0.10216. Total loss: 24.41158\n"
          ]
        },
        {
          "data": {
            "application/vnd.jupyter.widget-view+json": {
              "model_id": "597e66c85c9d4e19968f5419fe8b495c",
              "version_major": 2,
              "version_minor": 0
            },
            "text/plain": [
              "  0%|          | 0/364 [00:00<?, ?it/s]"
            ]
          },
          "metadata": {},
          "output_type": "display_data"
        },
        {
          "name": "stdout",
          "output_type": "stream",
          "text": [
            "checkpoint...\n",
            "Val. Epoch: 8/12. Classification loss: 17.78754. Regression loss: 0.09314. Total loss: 17.88068\n"
          ]
        },
        {
          "data": {
            "application/vnd.jupyter.widget-view+json": {
              "model_id": "c5c5e5567ca04cc3b9ae85ccb9d95def",
              "version_major": 2,
              "version_minor": 0
            },
            "text/plain": [
              "  0%|          | 0/364 [00:00<?, ?it/s]"
            ]
          },
          "metadata": {},
          "output_type": "display_data"
        },
        {
          "name": "stdout",
          "output_type": "stream",
          "text": [
            "checkpoint...\n",
            "Val. Epoch: 9/12. Classification loss: 13.29599. Regression loss: 0.08744. Total loss: 13.38343\n"
          ]
        },
        {
          "data": {
            "application/vnd.jupyter.widget-view+json": {
              "model_id": "c3deb82d710743048d02e0da3ad6f416",
              "version_major": 2,
              "version_minor": 0
            },
            "text/plain": [
              "  0%|          | 0/364 [00:00<?, ?it/s]"
            ]
          },
          "metadata": {},
          "output_type": "display_data"
        },
        {
          "name": "stdout",
          "output_type": "stream",
          "text": [
            "checkpoint...\n",
            "Val. Epoch: 10/12. Classification loss: 10.11176. Regression loss: 0.08213. Total loss: 10.19390\n"
          ]
        },
        {
          "data": {
            "application/vnd.jupyter.widget-view+json": {
              "model_id": "3b789765e7844710936653fea8641993",
              "version_major": 2,
              "version_minor": 0
            },
            "text/plain": [
              "  0%|          | 0/364 [00:00<?, ?it/s]"
            ]
          },
          "metadata": {},
          "output_type": "display_data"
        },
        {
          "name": "stdout",
          "output_type": "stream",
          "text": [
            "Val. Epoch: 11/12. Classification loss: 7.69260. Regression loss: 0.07418. Total loss: 7.76678\n"
          ]
        }
      ],
      "source": [
        "# consider this is a simple dataset, train head will be enough.\n",
        "%run train.py -c 0 -p cars --head_only False --batch_size 16 --load_weights weights/efficientdet-d0.pth  --num_epochs 12\n",
        "\n",
        "# the loss will be high at first\n",
        "# don't panic, be patient,\n",
        "# just wait for a little bit longer"
      ]
    },
    {
      "attachments": {},
      "cell_type": "markdown",
      "metadata": {
        "collapsed": false,
        "id": "05mjrGRETLSZ"
      },
      "source": [
        "### 3. Evaluation"
      ]
    },
    {
      "cell_type": "code",
      "execution_count": 2,
      "metadata": {
        "colab": {
          "base_uri": "https://localhost:8080/"
        },
        "id": "9yzNyaSxTLSZ",
        "outputId": "6c26fad7-704a-422e-9fe1-f337690e3bf8",
        "pycharm": {
          "name": "#%%\n"
        }
      },
      "outputs": [
        {
          "name": "stdout",
          "output_type": "stream",
          "text": [
            "running coco-style evaluation on project cars, weights logs/cars/efficientdet-d0_11_4368.pth...\n",
            "loading annotations into memory...\n",
            "Done (t=0.02s)\n",
            "creating index...\n",
            "index created!\n"
          ]
        },
        {
          "name": "stderr",
          "output_type": "stream",
          "text": [
            "  1%|▏         | 49/3400 [00:06<06:57,  8.04it/s]"
          ]
        }
      ],
      "source": [
        "#get latest weight file\n",
        "# %cd logs/cars\n",
        "# weight_file = !ls -Art | grep efficientdet\n",
        "# %cd ../..\n",
        "\n",
        "#uncomment the next line to specify a weight file\n",
        "# weight_file[-1] = 'efficientdet-d0_11_4300.pth'\n",
        "\n",
        "%run coco_eval.py -c 0 -p cars -w \"logs/cars/efficientdet-d0_11_4368.pth\""
      ]
    },
    {
      "cell_type": "code",
      "execution_count": 13,
      "metadata": {},
      "outputs": [],
      "source": [
        "import pandas as pd\n",
        "import glob\n",
        "import json\n",
        "\n",
        "test_img_paths = sorted(glob.glob('./custom_dataset/test/*.png'))   \n",
        "results = pd.read_csv('./custom_dataset/sample_submission.csv')   \n",
        "\n",
        "with open(\"test_bbox_results.json\",\"rb\") as fr:\n",
        "  json_data = json.load(fr)\n",
        "  for i in json_data:\n",
        "    filename = test_img_paths[int(i['image_id'])].split('/')[-1].split('\\\\')[-1] \n",
        "    label = int(i['category_id'])\n",
        "    score = float(i['score'])\n",
        "    bbox = i['bbox']\n",
        "    x1, y1, x2, y2 = bbox[0] - bbox[2] / 2, bbox[1] - bbox[3] / 2, bbox[0] + bbox[2] / 2, bbox[1] + bbox[3] / 2\n",
        "    results = results.append({\n",
        "            \"file_name\" : filename,               \n",
        "            \"class_id\" : label,                                                        \n",
        "            \"confidence\" : score,                     \n",
        "            \"point1_x\" : x1, \"point1_y\" : y1,\n",
        "            \"point2_x\" : x2, \"point2_y\" : y1,\n",
        "            \"point3_x\" : x2, \"point3_y\" : y2,\n",
        "            \"point4_x\" : x1, \"point4_y\" : y2,\n",
        "        }, ignore_index = True)\n",
        "    \n",
        "      \n",
        "# for idx in range(len(test_img_paths)):                                                                            \n",
        "#   prediction = data[idx]                 \n",
        "#   #img = cv2.imread(test_img_paths[idx])\n",
        "#   filename = test_img_paths[idx].split('/')[-1].split('\\\\')[-1]             \n",
        "#   for i in range(34):\n",
        "#     if prediction[i].shape[0]!=0:               \n",
        "#       label = i                    \n",
        "#       for j in range(prediction[i].shape[0]):\n",
        "#         x1, y1, x2, y2 = prediction[i][j][0], prediction[i][j][1], prediction[i][j][2],prediction[i][j][3]\n",
        "#         score = prediction[i][j][4]                \n",
        "        \n",
        "#         results = results.append({\n",
        "#             \"file_name\" : filename,               \n",
        "#             \"class_id\" : label,                                                        \n",
        "#             \"confidence\" : score,                     \n",
        "#             \"point1_x\" : x1, \"point1_y\" : y1,\n",
        "#             \"point2_x\" : x2, \"point2_y\" : y1,\n",
        "#             \"point3_x\" : x2, \"point3_y\" : y2,\n",
        "#             \"point4_x\" : x1, \"point4_y\" : y2,\n",
        "#         }, ignore_index = True)\n",
        "    "
      ]
    },
    {
      "cell_type": "code",
      "execution_count": 15,
      "metadata": {},
      "outputs": [],
      "source": [
        "results.to_csv('submit.csv', index = False)"
      ]
    },
    {
      "attachments": {},
      "cell_type": "markdown",
      "metadata": {
        "collapsed": false,
        "id": "zhV3bNF3TLSc",
        "pycharm": {
          "name": "#%% md\n"
        }
      },
      "source": [
        "### 4. Visualize"
      ]
    },
    {
      "cell_type": "code",
      "execution_count": null,
      "metadata": {
        "colab": {
          "base_uri": "https://localhost:8080/",
          "height": 269
        },
        "id": "uEDHMAIJTLSc",
        "outputId": "2291ad23-f698-4709-d0cd-97d92733809c",
        "pycharm": {
          "name": "#%%\n"
        }
      },
      "outputs": [],
      "source": [
        "import os\n",
        "import cv2\n",
        "pred = pd.read_csv('submit.csv')\n",
        "img_path = './custom_dataset/test'\n",
        "classes = [\"chevrolet_malibu_sedan_2012_2016\", \"chevrolet_malibu_sedan_2017_2019\", \n",
        "               \"chevrolet_spark_hatchback_2016_2021\", \"chevrolet_trailblazer_suv_2021_\", \n",
        "               \"chevrolet_trax_suv_2017_2019\", \"genesis_g80_sedan_2016_2020\", \n",
        "               \"genesis_g80_sedan_2021_\", \"genesis_gv80_suv_2020_\", \n",
        "               \"hyundai_avante_sedan_2011_2015\", \"hyundai_avante_sedan_2020_\", \n",
        "               \"hyundai_grandeur_sedan_2011_2016\", \"hyundai_grandstarex_van_2018_2020\", \n",
        "               \"hyundai_ioniq_hatchback_2016_2019\", \"hyundai_sonata_sedan_2004_2009\", \n",
        "               \"hyundai_sonata_sedan_2010_2014\", \"hyundai_sonata_sedan_2019_2020\", \n",
        "               \"kia_carnival_van_2015_2020\", \"kia_carnival_van_2021_\", \n",
        "               \"kia_k5_sedan_2010_2015\", \"kia_k5_sedan_2020_\", \n",
        "               \"kia_k7_sedan_2016_2020\", \"kia_mohave_suv_2020_\", \n",
        "               \"kia_morning_hatchback_2004_2010\", \"kia_morning_hatchback_2011_2016\", \n",
        "               \"kia_ray_hatchback_2012_2017\", \"kia_sorrento_suv_2015_2019\", \n",
        "               \"kia_sorrento_suv_2020_\", \"kia_soul_suv_2014_2018\", \n",
        "               \"kia_sportage_suv_2016_2020\", \"kia_stonic_suv_2017_2019\", \n",
        "               \"renault_sm3_sedan_2015_2018\", \"renault_xm3_suv_2020_\", \n",
        "               \"ssangyong_korando_suv_2019_2020\", \"ssangyong_tivoli_suv_2016_2020\"]\n",
        "\n",
        "for i in range(len(pred)):\n",
        "    scores = pred.iloc[i, :]\n",
        "    label = \"{}\".format(classes[scores[1]]) + ' ' + str(scores[2])\n",
        "    image_path = os.getcwd()+'/custom_dataset/test/'+scores[0]\n",
        "    image = cv2.imread(image_path)\n",
        "    cv2.rectangle(image, (int(scores[3]), int(scores[4])), (int(scores[7]), int(scores[8])), (0, 255, 0), 2)\n",
        "    cv2.putText(image, label, (int(scores[3]), int(scores[4])-4), cv2.FONT_HERSHEY_COMPLEX_SMALL,\n",
        "                        2 * 0.75, (0, 255, 0), 2, lineType=cv2.LINE_AA)\n",
        "    cv2.imshow(\"Cars\", image)\n",
        "    cv2.waitKey()\n",
        "    cv2.destroyAllWindows()"
      ]
    }
  ],
  "metadata": {
    "accelerator": "GPU",
    "colab": {
      "name": "train_birdview_vehicles.ipynb",
      "provenance": [],
      "toc_visible": true
    },
    "kernelspec": {
      "display_name": "Python 3",
      "language": "python",
      "name": "python3"
    },
    "language_info": {
      "codemirror_mode": {
        "name": "ipython",
        "version": 3
      },
      "file_extension": ".py",
      "mimetype": "text/x-python",
      "name": "python",
      "nbconvert_exporter": "python",
      "pygments_lexer": "ipython3",
      "version": "3.7.3"
    }
  },
  "nbformat": 4,
  "nbformat_minor": 0
}
