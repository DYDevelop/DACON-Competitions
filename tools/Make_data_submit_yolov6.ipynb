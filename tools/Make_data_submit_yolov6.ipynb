{
 "cells": [
  {
   "cell_type": "code",
   "execution_count": 1,
   "metadata": {},
   "outputs": [],
   "source": [
    "import os\n",
    "import glob\n",
    "from PIL import Image\n",
    "import cv2\n",
    "import pandas as pd\n",
    "import shutil\n",
    "from tqdm.auto import tqdm\n",
    "foldername = os.path.basename(os.getcwd())\n",
    "if foldername == \"tools\": os.chdir(\"..\")\n",
    "data_dir = '/custom_dataset/images/train'\n",
    "data_dir_2 = '/custom_dataset/images/val'\n",
    "data_dir_3 = '/custom_dataset/labels/train'\n",
    "data_dir_4 = '/custom_dataset/labels/val'\n"
   ]
  },
  {
   "cell_type": "code",
   "execution_count": 2,
   "metadata": {},
   "outputs": [
    {
     "data": {
      "application/vnd.jupyter.widget-view+json": {
       "model_id": "b5f643037c8e4d8fbfc0ac6a060ce26b",
       "version_major": 2,
       "version_minor": 0
      },
      "text/plain": [
       "0it [00:00, ?it/s]"
      ]
     },
     "metadata": {},
     "output_type": "display_data"
    }
   ],
   "source": [
    "# Yolv6에 input에 맞게 변경해 주기\n",
    "img_path = os.path.join(os.getcwd()+data_dir)\n",
    "for i, image in tqdm(enumerate(glob.glob(img_path+'/*.png'))):\n",
    "    original_image = cv2.imread(image)\n",
    "    img_height, img_width, _ =  original_image.shape\n",
    "    image_name = image.split('\\\\')[-1].split('.')[0]\n",
    "    txt_path = os.path.join(os.getcwd()+data_dir_3+'/'+image_name+'.txt')\n",
    "    tree = open(txt_path)\n",
    "    bboxes = []\n",
    "    for line in tree.readlines():\n",
    "        scores = line.split(' ')\n",
    "        x, y = ((int(scores[1]) + int(scores[3])) / 2) / img_width, ((int(scores[4]) + int(scores[6])) / 2) / img_height\n",
    "        w, h = (int(scores[3]) - int(scores[1])) / img_width, (int(scores[6]) - int(scores[4])) / img_height\n",
    "        bboxes.append(str(scores[0]+' '+str(x)+' '+str(y)+' '+str(w)+' '+str(h)))\n",
    "    with open(txt_path, \"w\") as file:\n",
    "        for bbox in bboxes:\n",
    "            file.write(bbox+'\\n')"
   ]
  },
  {
   "cell_type": "code",
   "execution_count": 4,
   "metadata": {},
   "outputs": [],
   "source": [
    "# train과 validation 나누기\n",
    "img_path = os.path.join(os.getcwd()+data_dir)\n",
    "for i, image in enumerate(glob.glob(img_path+'/*.png')):\n",
    "    if i % 10 == 0:\n",
    "        image_name = image.split('\\\\')[-1].split('.')[0]+'.png'\n",
    "        re_path = os.path.join(os.getcwd()+data_dir_2+'/'+image_name)\n",
    "        shutil.move(image, re_path)\n",
    "        \n",
    "img_path = os.path.join(os.getcwd()+data_dir_3)\n",
    "for i, image in enumerate(glob.glob(img_path+'/*.txt')):\n",
    "    if i % 10 == 0:\n",
    "        image_name = image.split('\\\\')[-1].split('.')[0]+'.txt'\n",
    "        re_path = os.path.join(os.getcwd()+data_dir_4+'/'+image_name)\n",
    "        shutil.move(image, re_path)"
   ]
  },
  {
   "cell_type": "code",
   "execution_count": 5,
   "metadata": {},
   "outputs": [],
   "source": [
    "# 이름 잘못 만들어 진거 수정하기\n",
    "img_path = os.path.join(os.getcwd()+data_dir_2)\n",
    "for image in glob.glob(img_path+'/*.png'):\n",
    "    image_name = (image.split('\\\\')[-1].split('.')[0]+'.png')[3:]\n",
    "    os.rename(image, os.path.join(img_path, image_name))"
   ]
  },
  {
   "cell_type": "code",
   "execution_count": null,
   "metadata": {},
   "outputs": [],
   "source": [
    "# 한솔 Daicon 대회 Image Rename\n",
    "number = 0\n",
    "for i in range(19):\n",
    "    print(os.getcwd()+data_dir+str(i))\n",
    "    img_path = os.path.join(os.getcwd()+data_dir+str(i))\n",
    "    for image in glob.glob(img_path+'/*.png'):\n",
    "        image_name = image.split('\\\\')[-1].split('.')[0]\n",
    "        src = os.path.join(img_path, image)\n",
    "        dst = str(number).zfill(4) + '.png'\n",
    "        dst = os.path.join(img_path, dst)\n",
    "        os.rename(src, dst)\n",
    "        try: \n",
    "            src = os.path.join(img_path, image_name + '.txt')\n",
    "            dst = str(number).zfill(4) + '.txt'\n",
    "            dst = os.path.join(img_path, dst)\n",
    "            os.rename(src, dst)\n",
    "            number += 1\n",
    "        except:\n",
    "            number += 1\n",
    "            continue"
   ]
  },
  {
   "cell_type": "code",
   "execution_count": 41,
   "metadata": {},
   "outputs": [],
   "source": [
    "# 한솔 Daicon 대회 Submission\n",
    "txt_dir = '/runs/inference/exp/test/labels'\n",
    "txt_path = os.path.join(os.getcwd()+txt_dir)\n",
    "test_preds = []\n",
    "data_dir = '/runs/inference/exp/test'\n",
    "img_path = os.path.join(os.getcwd()+data_dir)\n",
    "for image in glob.glob(img_path+'/*.png'):\n",
    "    image_name = image.split('\\\\')[-1].split('.')[0]\n",
    "    txt_file = os.path.join(txt_path+'/'+image_name+'.txt')\n",
    "    best_conf, pred_class = 0, 18\n",
    "    try:\n",
    "        labels = open(txt_file).readlines()\n",
    "        for label in labels:\n",
    "            scores = label.split()\n",
    "            if float(scores[-1]) > best_conf: \n",
    "                best_conf = float(scores[-1])\n",
    "                pred_class = int(scores[0])\n",
    "        test_preds.append(str(pred_class))\n",
    "    except:\n",
    "        test_preds.append(str(pred_class))"
   ]
  },
  {
   "cell_type": "code",
   "execution_count": 12,
   "metadata": {},
   "outputs": [
    {
     "data": {
      "application/vnd.jupyter.widget-view+json": {
       "model_id": "e871af3523174d8182e5e5faa5bbf1ae",
       "version_major": 2,
       "version_minor": 0
      },
      "text/plain": [
       "  0%|          | 0/3400 [00:00<?, ?it/s]"
      ]
     },
     "metadata": {},
     "output_type": "display_data"
    },
    {
     "name": "stdout",
     "output_type": "stream",
     "text": [
      "Done.\n"
     ]
    }
   ],
   "source": [
    "# 자동차 Detection 대회 Submission\n",
    "results = pd.read_csv('./custom_dataset/sample_submission.csv')\n",
    "\n",
    "txt_dir = '/runs/inference/exp/test/labels'\n",
    "txt_path = os.path.join(os.getcwd()+txt_dir)\n",
    "data_dir = '/runs/inference/exp/test'\n",
    "img_path = os.path.join(os.getcwd()+data_dir)\n",
    "for image in tqdm(glob.glob(img_path+'/*.png')):\n",
    "    image_name = image.split('\\\\')[-1].split('.')[0]\n",
    "    original_image      = cv2.imread(image)\n",
    "    img_height, img_width, _ =  original_image.shape\n",
    "    txt_file = os.path.join(txt_path+'/'+image_name+'.txt')\n",
    "    try:\n",
    "        labels = open(txt_file).readlines()\n",
    "        for label in labels:\n",
    "            scores = label.split()\n",
    "            class_ind, score = scores[0], scores[-1]\n",
    "            (x1, y1), (x2, y2) = (float(scores[1]) * img_width, float(scores[2]) * img_height), (float(scores[3]) * img_width, float(scores[4]) * img_height)\n",
    "            results = results.append({\n",
    "                                \"file_name\": image_name+'.png',\n",
    "                                \"class_id\": class_ind,\n",
    "                                \"confidence\": score,\n",
    "                                \"point1_x\": x1, \"point1_y\": y1,\n",
    "                                \"point2_x\": x2, \"point2_y\": y1,\n",
    "                                \"point3_x\": x2, \"point3_y\": y2,\n",
    "                                \"point4_x\": x1, \"point4_y\": y2\n",
    "                            }, ignore_index=True)\n",
    "    except:\n",
    "        continue\n",
    "        \n",
    "results.to_csv('baseline_submit.csv', index=False)\n",
    "print('Done.')"
   ]
  }
 ],
 "metadata": {
  "kernelspec": {
   "display_name": "Python 3",
   "language": "python",
   "name": "python3"
  },
  "language_info": {
   "codemirror_mode": {
    "name": "ipython",
    "version": 3
   },
   "file_extension": ".py",
   "mimetype": "text/x-python",
   "name": "python",
   "nbconvert_exporter": "python",
   "pygments_lexer": "ipython3",
   "version": "3.7.3"
  },
  "orig_nbformat": 4
 },
 "nbformat": 4,
 "nbformat_minor": 2
}
