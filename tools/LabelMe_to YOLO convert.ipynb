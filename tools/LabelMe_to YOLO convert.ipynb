{
 "cells": [
  {
   "attachments": {},
   "cell_type": "markdown",
   "metadata": {},
   "source": [
    "## Import"
   ]
  },
  {
   "cell_type": "code",
   "execution_count": 17,
   "metadata": {},
   "outputs": [],
   "source": [
    "import glob\n",
    "import os\n",
    "import cv2\n",
    "from tqdm import tqdm\n",
    "import shutil\n",
    "import math"
   ]
  },
  {
   "attachments": {},
   "cell_type": "markdown",
   "metadata": {},
   "source": [
    "## txt file list"
   ]
  },
  {
   "cell_type": "code",
   "execution_count": null,
   "metadata": {},
   "outputs": [],
   "source": [
    "txt_file_list = glob.glob('./origin/train/*.txt')"
   ]
  },
  {
   "attachments": {},
   "cell_type": "markdown",
   "metadata": {},
   "source": [
    "## format Convert(LabelMe -> YOLO)"
   ]
  },
  {
   "cell_type": "code",
   "execution_count": null,
   "metadata": {},
   "outputs": [],
   "source": [
    "for file in tqdm(txt_file_list):\n",
    "    file_name = os.path.basename(file)\n",
    "    file_name = file_name.split('.')[0]\n",
    "    img = cv2.imread('./origin/train/' + file_name + '.png')\n",
    "    img_height, img_width, _ = img.shape\n",
    "    print(file_name, img_height, img_width)\n",
    "    cv2.destroyAllWindows()\n",
    "    with open(file, 'r') as f:\n",
    "        lines_list = []\n",
    "        lines = f.readlines()\n",
    "        for line in lines:\n",
    "            line = list(map(float, line.strip().split(' ')))\n",
    "            class_name = int(line[0])\n",
    "            x_min, y_min = float(min(line[5], line[7])), float(min(line[6], line[8]))\n",
    "            x_max, y_max = float(max(line[1], line[3])), float(max(line[2], line[4]))\n",
    "            x_center, y_center = float(((x_min + x_max) / 2) / img_width), float(((y_min + y_max) / 2) / img_height)\n",
    "            width, height = abs(x_max - x_min) / img_width, abs(y_max - y_min) / img_height\n",
    "            print(x_center, y_center, width, height)\n",
    "            lines_list.append([class_name, x_center, y_center, width, height])\n",
    "    with open('./train/labels/' + file_name + '.txt', 'w') as f:\n",
    "        for line in lines_list:\n",
    "            f.write(str(line[0]) + ' ' + str(line[1]) + ' ' + str(line[2]) + ' ' + str(line[3]) + ' ' + str(line[4]) + '\\n')"
   ]
  },
  {
   "attachments": {},
   "cell_type": "markdown",
   "metadata": {},
   "source": [
    "## txt file move"
   ]
  },
  {
   "cell_type": "code",
   "execution_count": null,
   "metadata": {},
   "outputs": [],
   "source": [
    "# anot_folder_list = glob.glob('./train_anot/*.txt')\n",
    "\n",
    "# # move\n",
    "# for i in tqdm(anot_folder_list):\n",
    "#     shutil.move(i, './train')"
   ]
  },
  {
   "attachments": {},
   "cell_type": "markdown",
   "metadata": {},
   "source": [
    "## txt file remove"
   ]
  },
  {
   "cell_type": "code",
   "execution_count": 18,
   "metadata": {},
   "outputs": [],
   "source": [
    "# anot_txt_file_list = glob.glob('./train/labels/*')\n",
    "\n",
    "# for i in anot_txt_file_list:\n",
    "#     os.remove(i)"
   ]
  }
 ],
 "metadata": {
  "kernelspec": {
   "display_name": "base",
   "language": "python",
   "name": "python3"
  },
  "language_info": {
   "codemirror_mode": {
    "name": "ipython",
    "version": 3
   },
   "file_extension": ".py",
   "mimetype": "text/x-python",
   "name": "python",
   "nbconvert_exporter": "python",
   "pygments_lexer": "ipython3",
   "version": "3.9.12"
  },
  "orig_nbformat": 4
 },
 "nbformat": 4,
 "nbformat_minor": 2
}
