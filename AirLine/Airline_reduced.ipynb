{
 "cells": [
  {
   "cell_type": "code",
   "execution_count": 1,
   "metadata": {},
   "outputs": [],
   "source": [
    "import pandas as pd\n",
    "import numpy as np\n",
    "import random\n",
    "import os\n",
    "import gc\n",
    "\n",
    "from sklearn.ensemble import RandomForestClassifier\n",
    "from sklearn.preprocessing import LabelEncoder\n",
    "\n",
    "def seed_everything(seed):\n",
    "    random.seed(seed)\n",
    "    os.environ['PYTHONHASHSEED'] = str(seed)\n",
    "    np.random.seed(seed)\n",
    "seed_everything(42) # Seed 고정\n",
    "\n",
    "def csv_to_parquet(csv_path, save_name):\n",
    "    df = pd.read_csv(csv_path)\n",
    "    df.to_parquet(f'./{save_name}.parquet')\n",
    "    del df\n",
    "    gc.collect()\n",
    "    print(save_name, 'Done.')"
   ]
  },
  {
   "cell_type": "code",
   "execution_count": 2,
   "metadata": {},
   "outputs": [
    {
     "name": "stdout",
     "output_type": "stream",
     "text": [
      "train Done.\n",
      "test Done.\n"
     ]
    }
   ],
   "source": [
    "csv_to_parquet('./train.csv', 'train')\n",
    "csv_to_parquet('./test.csv', 'test')"
   ]
  },
  {
   "cell_type": "code",
   "execution_count": 3,
   "metadata": {},
   "outputs": [],
   "source": [
    "train = pd.read_parquet('./train.parquet')\n",
    "test = pd.read_parquet('./test.parquet')\n",
    "sample_submission = pd.read_csv('sample_submission.csv', index_col = 0)"
   ]
  },
  {
   "cell_type": "code",
   "execution_count": 4,
   "metadata": {},
   "outputs": [
    {
     "name": "stdout",
     "output_type": "stream",
     "text": [
      "<class 'pandas.core.frame.DataFrame'>\n",
      "RangeIndex: 1000000 entries, 0 to 999999\n",
      "Data columns (total 7 columns):\n",
      " #   Column                    Non-Null Count    Dtype  \n",
      "---  ------                    --------------    -----  \n",
      " 0   Estimated_Departure_Time  890981 non-null   float64\n",
      " 1   Estimated_Arrival_Time    890960 non-null   float64\n",
      " 2   Carrier_ID(DOT)           891003 non-null   float64\n",
      " 3   Distance                  1000000 non-null  float64\n",
      " 4   Origin_Airport_ID         1000000 non-null  int64  \n",
      " 5   Destination_Airport_ID    1000000 non-null  int64  \n",
      " 6   Delay                     255001 non-null   object \n",
      "dtypes: float64(4), int64(2), object(1)\n",
      "memory usage: 53.4+ MB\n"
     ]
    }
   ],
   "source": [
    "train = train[['Estimated_Departure_Time', 'Estimated_Arrival_Time', 'Carrier_ID(DOT)', 'Distance', 'Origin_Airport_ID', 'Destination_Airport_ID', 'Delay']]\n",
    "train.info()"
   ]
  },
  {
   "cell_type": "code",
   "execution_count": 5,
   "metadata": {},
   "outputs": [
    {
     "name": "stdout",
     "output_type": "stream",
     "text": [
      "Done.\n"
     ]
    }
   ],
   "source": [
    "def to_number(x):\n",
    "    if x == None:\n",
    "        return 0\n",
    "    else:\n",
    "        return 1\n",
    "\n",
    "train.loc[:, 'Delay_num'] = train['Delay'].apply(lambda x: to_number(x))\n",
    "print('Done.')"
   ]
  },
  {
   "cell_type": "code",
   "execution_count": 6,
   "metadata": {},
   "outputs": [
    {
     "name": "stdout",
     "output_type": "stream",
     "text": [
      "<class 'pandas.core.frame.DataFrame'>\n",
      "RangeIndex: 1000000 entries, 0 to 999999\n",
      "Data columns (total 7 columns):\n",
      " #   Column                    Non-Null Count    Dtype  \n",
      "---  ------                    --------------    -----  \n",
      " 0   Estimated_Departure_Time  890981 non-null   float64\n",
      " 1   Estimated_Arrival_Time    890960 non-null   float64\n",
      " 2   Carrier_ID(DOT)           891003 non-null   float64\n",
      " 3   Distance                  1000000 non-null  float64\n",
      " 4   Origin_Airport_ID         1000000 non-null  int64  \n",
      " 5   Destination_Airport_ID    1000000 non-null  int64  \n",
      " 6   Delay_num                 1000000 non-null  int64  \n",
      "dtypes: float64(4), int64(3)\n",
      "memory usage: 53.4 MB\n"
     ]
    }
   ],
   "source": [
    "train = train.drop(columns=['Delay'])\n",
    "train.info()"
   ]
  },
  {
   "cell_type": "code",
   "execution_count": 7,
   "metadata": {},
   "outputs": [
    {
     "name": "stdout",
     "output_type": "stream",
     "text": [
      "<class 'pandas.core.frame.DataFrame'>\n",
      "Int64Index: 707317 entries, 1 to 999999\n",
      "Data columns (total 7 columns):\n",
      " #   Column                    Non-Null Count   Dtype  \n",
      "---  ------                    --------------   -----  \n",
      " 0   Estimated_Departure_Time  707317 non-null  float64\n",
      " 1   Estimated_Arrival_Time    707317 non-null  float64\n",
      " 2   Carrier_ID(DOT)           707317 non-null  float64\n",
      " 3   Distance                  707317 non-null  float64\n",
      " 4   Origin_Airport_ID         707317 non-null  int64  \n",
      " 5   Destination_Airport_ID    707317 non-null  int64  \n",
      " 6   Delay_num                 707317 non-null  int64  \n",
      "dtypes: float64(4), int64(3)\n",
      "memory usage: 43.2 MB\n"
     ]
    }
   ],
   "source": [
    "train_drop = train.dropna()\n",
    "train_drop.info()"
   ]
  },
  {
   "cell_type": "code",
   "execution_count": 8,
   "metadata": {},
   "outputs": [],
   "source": [
    "train_x = train_drop.drop(columns=['Delay_num'])\n",
    "train_y = train_drop['Delay_num']\n",
    "test_x = test[['Estimated_Departure_Time', 'Estimated_Arrival_Time', 'Carrier_ID(DOT)', 'Distance', 'Origin_Airport_ID', 'Destination_Airport_ID']]"
   ]
  },
  {
   "cell_type": "code",
   "execution_count": 13,
   "metadata": {},
   "outputs": [
    {
     "data": {
      "text/html": [
       "<div>\n",
       "<style scoped>\n",
       "    .dataframe tbody tr th:only-of-type {\n",
       "        vertical-align: middle;\n",
       "    }\n",
       "\n",
       "    .dataframe tbody tr th {\n",
       "        vertical-align: top;\n",
       "    }\n",
       "\n",
       "    .dataframe thead th {\n",
       "        text-align: right;\n",
       "    }\n",
       "</style>\n",
       "<table border=\"1\" class=\"dataframe\">\n",
       "  <thead>\n",
       "    <tr style=\"text-align: right;\">\n",
       "      <th></th>\n",
       "      <th></th>\n",
       "      <th></th>\n",
       "    </tr>\n",
       "    <tr>\n",
       "      <th></th>\n",
       "      <th></th>\n",
       "      <th></th>\n",
       "    </tr>\n",
       "  </thead>\n",
       "  <tbody>\n",
       "    <tr>\n",
       "      <th>Initiated</th>\n",
       "      <td>. . . . . . . . . . . . . . . . . .</td>\n",
       "      <td>21:30:20</td>\n",
       "    </tr>\n",
       "    <tr>\n",
       "      <th>Status</th>\n",
       "      <td>. . . . . . . . . . . . . . . . . .</td>\n",
       "      <td>Loading Dependencies</td>\n",
       "    </tr>\n",
       "    <tr>\n",
       "      <th>Estimator</th>\n",
       "      <td>. . . . . . . . . . . . . . . . . .</td>\n",
       "      <td>Compiling Library</td>\n",
       "    </tr>\n",
       "  </tbody>\n",
       "</table>\n",
       "</div>"
      ],
      "text/plain": [
       "                                                                    \n",
       "                                                                    \n",
       "Initiated  . . . . . . . . . . . . . . . . . .              21:30:20\n",
       "Status     . . . . . . . . . . . . . . . . . .  Loading Dependencies\n",
       "Estimator  . . . . . . . . . . . . . . . . . .     Compiling Library"
      ]
     },
     "metadata": {},
     "output_type": "display_data"
    },
    {
     "data": {
      "text/html": [],
      "text/plain": [
       "<IPython.core.display.HTML object>"
      ]
     },
     "metadata": {},
     "output_type": "display_data"
    }
   ],
   "source": [
    "from pycaret.classification import *\n",
    "from sklearn.metrics import log_loss\n",
    "\n",
    "exp_name = setup(data=train_x, target=train_y, use_gpu=True)\n",
    "add_metric('logloss', 'Log Loss', log_loss, greater_is_better = False)\n",
    "best_model = compare_models(fold=5, sort = 'logloss', \n",
    "                                    include=['lr', 'ridge', 'lda', 'dummy', 'knn', 'qda'])"
   ]
  },
  {
   "cell_type": "code",
   "execution_count": 14,
   "metadata": {},
   "outputs": [
    {
     "data": {
      "text/plain": [
       "LogisticRegression(C=1.0, class_weight=None, dual=False, fit_intercept=True,\n",
       "                   intercept_scaling=1, l1_ratio=None, max_iter=1000,\n",
       "                   multi_class='auto', n_jobs=None, penalty='l2',\n",
       "                   random_state=3807, solver='lbfgs', tol=0.0001, verbose=0,\n",
       "                   warm_start=False)"
      ]
     },
     "execution_count": 14,
     "metadata": {},
     "output_type": "execute_result"
    }
   ],
   "source": [
    "best_model"
   ]
  },
  {
   "cell_type": "code",
   "execution_count": 15,
   "metadata": {},
   "outputs": [
    {
     "data": {
      "text/html": [
       "<div>\n",
       "<style scoped>\n",
       "    .dataframe tbody tr th:only-of-type {\n",
       "        vertical-align: middle;\n",
       "    }\n",
       "\n",
       "    .dataframe tbody tr th {\n",
       "        vertical-align: top;\n",
       "    }\n",
       "\n",
       "    .dataframe thead th {\n",
       "        text-align: right;\n",
       "    }\n",
       "</style>\n",
       "<table border=\"1\" class=\"dataframe\">\n",
       "  <thead>\n",
       "    <tr style=\"text-align: right;\">\n",
       "      <th></th>\n",
       "      <th></th>\n",
       "      <th></th>\n",
       "    </tr>\n",
       "    <tr>\n",
       "      <th></th>\n",
       "      <th></th>\n",
       "      <th></th>\n",
       "    </tr>\n",
       "  </thead>\n",
       "  <tbody>\n",
       "    <tr>\n",
       "      <th>Initiated</th>\n",
       "      <td>. . . . . . . . . . . . . . . . . .</td>\n",
       "      <td>21:31:29</td>\n",
       "    </tr>\n",
       "    <tr>\n",
       "      <th>Status</th>\n",
       "      <td>. . . . . . . . . . . . . . . . . .</td>\n",
       "      <td>Loading Dependencies</td>\n",
       "    </tr>\n",
       "    <tr>\n",
       "      <th>Estimator</th>\n",
       "      <td>. . . . . . . . . . . . . . . . . .</td>\n",
       "      <td>Compiling Library</td>\n",
       "    </tr>\n",
       "  </tbody>\n",
       "</table>\n",
       "</div>"
      ],
      "text/plain": [
       "                                                                    \n",
       "                                                                    \n",
       "Initiated  . . . . . . . . . . . . . . . . . .              21:31:29\n",
       "Status     . . . . . . . . . . . . . . . . . .  Loading Dependencies\n",
       "Estimator  . . . . . . . . . . . . . . . . . .     Compiling Library"
      ]
     },
     "metadata": {},
     "output_type": "display_data"
    },
    {
     "data": {
      "text/html": [
       "<style type=\"text/css\">\n",
       "#T_ab2b4_row10_col0, #T_ab2b4_row10_col1, #T_ab2b4_row10_col2, #T_ab2b4_row10_col3, #T_ab2b4_row10_col4, #T_ab2b4_row10_col5, #T_ab2b4_row10_col6, #T_ab2b4_row10_col7 {\n",
       "  background: yellow;\n",
       "}\n",
       "</style>\n",
       "<table id=\"T_ab2b4_\">\n",
       "  <thead>\n",
       "    <tr>\n",
       "      <th class=\"blank level0\" >&nbsp;</th>\n",
       "      <th class=\"col_heading level0 col0\" >Accuracy</th>\n",
       "      <th class=\"col_heading level0 col1\" >AUC</th>\n",
       "      <th class=\"col_heading level0 col2\" >Recall</th>\n",
       "      <th class=\"col_heading level0 col3\" >Prec.</th>\n",
       "      <th class=\"col_heading level0 col4\" >F1</th>\n",
       "      <th class=\"col_heading level0 col5\" >Kappa</th>\n",
       "      <th class=\"col_heading level0 col6\" >MCC</th>\n",
       "      <th class=\"col_heading level0 col7\" >Log Loss</th>\n",
       "    </tr>\n",
       "    <tr>\n",
       "      <th class=\"index_name level0\" >Fold</th>\n",
       "      <th class=\"blank col0\" >&nbsp;</th>\n",
       "      <th class=\"blank col1\" >&nbsp;</th>\n",
       "      <th class=\"blank col2\" >&nbsp;</th>\n",
       "      <th class=\"blank col3\" >&nbsp;</th>\n",
       "      <th class=\"blank col4\" >&nbsp;</th>\n",
       "      <th class=\"blank col5\" >&nbsp;</th>\n",
       "      <th class=\"blank col6\" >&nbsp;</th>\n",
       "      <th class=\"blank col7\" >&nbsp;</th>\n",
       "    </tr>\n",
       "  </thead>\n",
       "  <tbody>\n",
       "    <tr>\n",
       "      <th id=\"T_ab2b4_level0_row0\" class=\"row_heading level0 row0\" >0</th>\n",
       "      <td id=\"T_ab2b4_row0_col0\" class=\"data row0 col0\" >0.7448</td>\n",
       "      <td id=\"T_ab2b4_row0_col1\" class=\"data row0 col1\" >0.5176</td>\n",
       "      <td id=\"T_ab2b4_row0_col2\" class=\"data row0 col2\" >0.0000</td>\n",
       "      <td id=\"T_ab2b4_row0_col3\" class=\"data row0 col3\" >0.0000</td>\n",
       "      <td id=\"T_ab2b4_row0_col4\" class=\"data row0 col4\" >0.0000</td>\n",
       "      <td id=\"T_ab2b4_row0_col5\" class=\"data row0 col5\" >0.0000</td>\n",
       "      <td id=\"T_ab2b4_row0_col6\" class=\"data row0 col6\" >0.0000</td>\n",
       "      <td id=\"T_ab2b4_row0_col7\" class=\"data row0 col7\" >8.8131</td>\n",
       "    </tr>\n",
       "    <tr>\n",
       "      <th id=\"T_ab2b4_level0_row1\" class=\"row_heading level0 row1\" >1</th>\n",
       "      <td id=\"T_ab2b4_row1_col0\" class=\"data row1 col0\" >0.7448</td>\n",
       "      <td id=\"T_ab2b4_row1_col1\" class=\"data row1 col1\" >0.5201</td>\n",
       "      <td id=\"T_ab2b4_row1_col2\" class=\"data row1 col2\" >0.0000</td>\n",
       "      <td id=\"T_ab2b4_row1_col3\" class=\"data row1 col3\" >0.0000</td>\n",
       "      <td id=\"T_ab2b4_row1_col4\" class=\"data row1 col4\" >0.0000</td>\n",
       "      <td id=\"T_ab2b4_row1_col5\" class=\"data row1 col5\" >0.0000</td>\n",
       "      <td id=\"T_ab2b4_row1_col6\" class=\"data row1 col6\" >0.0000</td>\n",
       "      <td id=\"T_ab2b4_row1_col7\" class=\"data row1 col7\" >8.8126</td>\n",
       "    </tr>\n",
       "    <tr>\n",
       "      <th id=\"T_ab2b4_level0_row2\" class=\"row_heading level0 row2\" >2</th>\n",
       "      <td id=\"T_ab2b4_row2_col0\" class=\"data row2 col0\" >0.7448</td>\n",
       "      <td id=\"T_ab2b4_row2_col1\" class=\"data row2 col1\" >0.5157</td>\n",
       "      <td id=\"T_ab2b4_row2_col2\" class=\"data row2 col2\" >0.0000</td>\n",
       "      <td id=\"T_ab2b4_row2_col3\" class=\"data row2 col3\" >0.0000</td>\n",
       "      <td id=\"T_ab2b4_row2_col4\" class=\"data row2 col4\" >0.0000</td>\n",
       "      <td id=\"T_ab2b4_row2_col5\" class=\"data row2 col5\" >0.0000</td>\n",
       "      <td id=\"T_ab2b4_row2_col6\" class=\"data row2 col6\" >0.0000</td>\n",
       "      <td id=\"T_ab2b4_row2_col7\" class=\"data row2 col7\" >8.8126</td>\n",
       "    </tr>\n",
       "    <tr>\n",
       "      <th id=\"T_ab2b4_level0_row3\" class=\"row_heading level0 row3\" >3</th>\n",
       "      <td id=\"T_ab2b4_row3_col0\" class=\"data row3 col0\" >0.7448</td>\n",
       "      <td id=\"T_ab2b4_row3_col1\" class=\"data row3 col1\" >0.5161</td>\n",
       "      <td id=\"T_ab2b4_row3_col2\" class=\"data row3 col2\" >0.0000</td>\n",
       "      <td id=\"T_ab2b4_row3_col3\" class=\"data row3 col3\" >0.0000</td>\n",
       "      <td id=\"T_ab2b4_row3_col4\" class=\"data row3 col4\" >0.0000</td>\n",
       "      <td id=\"T_ab2b4_row3_col5\" class=\"data row3 col5\" >0.0000</td>\n",
       "      <td id=\"T_ab2b4_row3_col6\" class=\"data row3 col6\" >0.0000</td>\n",
       "      <td id=\"T_ab2b4_row3_col7\" class=\"data row3 col7\" >8.8126</td>\n",
       "    </tr>\n",
       "    <tr>\n",
       "      <th id=\"T_ab2b4_level0_row4\" class=\"row_heading level0 row4\" >4</th>\n",
       "      <td id=\"T_ab2b4_row4_col0\" class=\"data row4 col0\" >0.7448</td>\n",
       "      <td id=\"T_ab2b4_row4_col1\" class=\"data row4 col1\" >0.5137</td>\n",
       "      <td id=\"T_ab2b4_row4_col2\" class=\"data row4 col2\" >0.0000</td>\n",
       "      <td id=\"T_ab2b4_row4_col3\" class=\"data row4 col3\" >0.0000</td>\n",
       "      <td id=\"T_ab2b4_row4_col4\" class=\"data row4 col4\" >0.0000</td>\n",
       "      <td id=\"T_ab2b4_row4_col5\" class=\"data row4 col5\" >0.0000</td>\n",
       "      <td id=\"T_ab2b4_row4_col6\" class=\"data row4 col6\" >0.0000</td>\n",
       "      <td id=\"T_ab2b4_row4_col7\" class=\"data row4 col7\" >8.8126</td>\n",
       "    </tr>\n",
       "    <tr>\n",
       "      <th id=\"T_ab2b4_level0_row5\" class=\"row_heading level0 row5\" >5</th>\n",
       "      <td id=\"T_ab2b4_row5_col0\" class=\"data row5 col0\" >0.7448</td>\n",
       "      <td id=\"T_ab2b4_row5_col1\" class=\"data row5 col1\" >0.5234</td>\n",
       "      <td id=\"T_ab2b4_row5_col2\" class=\"data row5 col2\" >0.0000</td>\n",
       "      <td id=\"T_ab2b4_row5_col3\" class=\"data row5 col3\" >0.0000</td>\n",
       "      <td id=\"T_ab2b4_row5_col4\" class=\"data row5 col4\" >0.0000</td>\n",
       "      <td id=\"T_ab2b4_row5_col5\" class=\"data row5 col5\" >0.0000</td>\n",
       "      <td id=\"T_ab2b4_row5_col6\" class=\"data row5 col6\" >0.0000</td>\n",
       "      <td id=\"T_ab2b4_row5_col7\" class=\"data row5 col7\" >8.8126</td>\n",
       "    </tr>\n",
       "    <tr>\n",
       "      <th id=\"T_ab2b4_level0_row6\" class=\"row_heading level0 row6\" >6</th>\n",
       "      <td id=\"T_ab2b4_row6_col0\" class=\"data row6 col0\" >0.7448</td>\n",
       "      <td id=\"T_ab2b4_row6_col1\" class=\"data row6 col1\" >0.5159</td>\n",
       "      <td id=\"T_ab2b4_row6_col2\" class=\"data row6 col2\" >0.0000</td>\n",
       "      <td id=\"T_ab2b4_row6_col3\" class=\"data row6 col3\" >0.0000</td>\n",
       "      <td id=\"T_ab2b4_row6_col4\" class=\"data row6 col4\" >0.0000</td>\n",
       "      <td id=\"T_ab2b4_row6_col5\" class=\"data row6 col5\" >0.0000</td>\n",
       "      <td id=\"T_ab2b4_row6_col6\" class=\"data row6 col6\" >0.0000</td>\n",
       "      <td id=\"T_ab2b4_row6_col7\" class=\"data row6 col7\" >8.8126</td>\n",
       "    </tr>\n",
       "    <tr>\n",
       "      <th id=\"T_ab2b4_level0_row7\" class=\"row_heading level0 row7\" >7</th>\n",
       "      <td id=\"T_ab2b4_row7_col0\" class=\"data row7 col0\" >0.7448</td>\n",
       "      <td id=\"T_ab2b4_row7_col1\" class=\"data row7 col1\" >0.5200</td>\n",
       "      <td id=\"T_ab2b4_row7_col2\" class=\"data row7 col2\" >0.0000</td>\n",
       "      <td id=\"T_ab2b4_row7_col3\" class=\"data row7 col3\" >0.0000</td>\n",
       "      <td id=\"T_ab2b4_row7_col4\" class=\"data row7 col4\" >0.0000</td>\n",
       "      <td id=\"T_ab2b4_row7_col5\" class=\"data row7 col5\" >0.0000</td>\n",
       "      <td id=\"T_ab2b4_row7_col6\" class=\"data row7 col6\" >0.0000</td>\n",
       "      <td id=\"T_ab2b4_row7_col7\" class=\"data row7 col7\" >8.8126</td>\n",
       "    </tr>\n",
       "    <tr>\n",
       "      <th id=\"T_ab2b4_level0_row8\" class=\"row_heading level0 row8\" >8</th>\n",
       "      <td id=\"T_ab2b4_row8_col0\" class=\"data row8 col0\" >0.7448</td>\n",
       "      <td id=\"T_ab2b4_row8_col1\" class=\"data row8 col1\" >0.5217</td>\n",
       "      <td id=\"T_ab2b4_row8_col2\" class=\"data row8 col2\" >0.0000</td>\n",
       "      <td id=\"T_ab2b4_row8_col3\" class=\"data row8 col3\" >0.0000</td>\n",
       "      <td id=\"T_ab2b4_row8_col4\" class=\"data row8 col4\" >0.0000</td>\n",
       "      <td id=\"T_ab2b4_row8_col5\" class=\"data row8 col5\" >0.0000</td>\n",
       "      <td id=\"T_ab2b4_row8_col6\" class=\"data row8 col6\" >0.0000</td>\n",
       "      <td id=\"T_ab2b4_row8_col7\" class=\"data row8 col7\" >8.8126</td>\n",
       "    </tr>\n",
       "    <tr>\n",
       "      <th id=\"T_ab2b4_level0_row9\" class=\"row_heading level0 row9\" >9</th>\n",
       "      <td id=\"T_ab2b4_row9_col0\" class=\"data row9 col0\" >0.7448</td>\n",
       "      <td id=\"T_ab2b4_row9_col1\" class=\"data row9 col1\" >0.5211</td>\n",
       "      <td id=\"T_ab2b4_row9_col2\" class=\"data row9 col2\" >0.0000</td>\n",
       "      <td id=\"T_ab2b4_row9_col3\" class=\"data row9 col3\" >0.0000</td>\n",
       "      <td id=\"T_ab2b4_row9_col4\" class=\"data row9 col4\" >0.0000</td>\n",
       "      <td id=\"T_ab2b4_row9_col5\" class=\"data row9 col5\" >0.0000</td>\n",
       "      <td id=\"T_ab2b4_row9_col6\" class=\"data row9 col6\" >0.0000</td>\n",
       "      <td id=\"T_ab2b4_row9_col7\" class=\"data row9 col7\" >8.8133</td>\n",
       "    </tr>\n",
       "    <tr>\n",
       "      <th id=\"T_ab2b4_level0_row10\" class=\"row_heading level0 row10\" >Mean</th>\n",
       "      <td id=\"T_ab2b4_row10_col0\" class=\"data row10 col0\" >0.7448</td>\n",
       "      <td id=\"T_ab2b4_row10_col1\" class=\"data row10 col1\" >0.5185</td>\n",
       "      <td id=\"T_ab2b4_row10_col2\" class=\"data row10 col2\" >0.0000</td>\n",
       "      <td id=\"T_ab2b4_row10_col3\" class=\"data row10 col3\" >0.0000</td>\n",
       "      <td id=\"T_ab2b4_row10_col4\" class=\"data row10 col4\" >0.0000</td>\n",
       "      <td id=\"T_ab2b4_row10_col5\" class=\"data row10 col5\" >0.0000</td>\n",
       "      <td id=\"T_ab2b4_row10_col6\" class=\"data row10 col6\" >0.0000</td>\n",
       "      <td id=\"T_ab2b4_row10_col7\" class=\"data row10 col7\" >8.8127</td>\n",
       "    </tr>\n",
       "    <tr>\n",
       "      <th id=\"T_ab2b4_level0_row11\" class=\"row_heading level0 row11\" >Std</th>\n",
       "      <td id=\"T_ab2b4_row11_col0\" class=\"data row11 col0\" >0.0000</td>\n",
       "      <td id=\"T_ab2b4_row11_col1\" class=\"data row11 col1\" >0.0030</td>\n",
       "      <td id=\"T_ab2b4_row11_col2\" class=\"data row11 col2\" >0.0000</td>\n",
       "      <td id=\"T_ab2b4_row11_col3\" class=\"data row11 col3\" >0.0000</td>\n",
       "      <td id=\"T_ab2b4_row11_col4\" class=\"data row11 col4\" >0.0000</td>\n",
       "      <td id=\"T_ab2b4_row11_col5\" class=\"data row11 col5\" >0.0000</td>\n",
       "      <td id=\"T_ab2b4_row11_col6\" class=\"data row11 col6\" >0.0000</td>\n",
       "      <td id=\"T_ab2b4_row11_col7\" class=\"data row11 col7\" >0.0002</td>\n",
       "    </tr>\n",
       "  </tbody>\n",
       "</table>\n"
      ],
      "text/plain": [
       "<pandas.io.formats.style.Styler at 0x1d78dcbc358>"
      ]
     },
     "metadata": {},
     "output_type": "display_data"
    },
    {
     "data": {
      "text/html": [
       "<style type=\"text/css\">\n",
       "#T_ab2b4_row10_col0, #T_ab2b4_row10_col1, #T_ab2b4_row10_col2, #T_ab2b4_row10_col3, #T_ab2b4_row10_col4, #T_ab2b4_row10_col5, #T_ab2b4_row10_col6, #T_ab2b4_row10_col7 {\n",
       "  background: yellow;\n",
       "}\n",
       "</style>\n",
       "<table id=\"T_ab2b4_\">\n",
       "  <thead>\n",
       "    <tr>\n",
       "      <th class=\"blank level0\" >&nbsp;</th>\n",
       "      <th class=\"col_heading level0 col0\" >Accuracy</th>\n",
       "      <th class=\"col_heading level0 col1\" >AUC</th>\n",
       "      <th class=\"col_heading level0 col2\" >Recall</th>\n",
       "      <th class=\"col_heading level0 col3\" >Prec.</th>\n",
       "      <th class=\"col_heading level0 col4\" >F1</th>\n",
       "      <th class=\"col_heading level0 col5\" >Kappa</th>\n",
       "      <th class=\"col_heading level0 col6\" >MCC</th>\n",
       "      <th class=\"col_heading level0 col7\" >Log Loss</th>\n",
       "    </tr>\n",
       "    <tr>\n",
       "      <th class=\"index_name level0\" >Fold</th>\n",
       "      <th class=\"blank col0\" >&nbsp;</th>\n",
       "      <th class=\"blank col1\" >&nbsp;</th>\n",
       "      <th class=\"blank col2\" >&nbsp;</th>\n",
       "      <th class=\"blank col3\" >&nbsp;</th>\n",
       "      <th class=\"blank col4\" >&nbsp;</th>\n",
       "      <th class=\"blank col5\" >&nbsp;</th>\n",
       "      <th class=\"blank col6\" >&nbsp;</th>\n",
       "      <th class=\"blank col7\" >&nbsp;</th>\n",
       "    </tr>\n",
       "  </thead>\n",
       "  <tbody>\n",
       "    <tr>\n",
       "      <th id=\"T_ab2b4_level0_row0\" class=\"row_heading level0 row0\" >0</th>\n",
       "      <td id=\"T_ab2b4_row0_col0\" class=\"data row0 col0\" >0.7448</td>\n",
       "      <td id=\"T_ab2b4_row0_col1\" class=\"data row0 col1\" >0.5176</td>\n",
       "      <td id=\"T_ab2b4_row0_col2\" class=\"data row0 col2\" >0.0000</td>\n",
       "      <td id=\"T_ab2b4_row0_col3\" class=\"data row0 col3\" >0.0000</td>\n",
       "      <td id=\"T_ab2b4_row0_col4\" class=\"data row0 col4\" >0.0000</td>\n",
       "      <td id=\"T_ab2b4_row0_col5\" class=\"data row0 col5\" >0.0000</td>\n",
       "      <td id=\"T_ab2b4_row0_col6\" class=\"data row0 col6\" >0.0000</td>\n",
       "      <td id=\"T_ab2b4_row0_col7\" class=\"data row0 col7\" >8.8131</td>\n",
       "    </tr>\n",
       "    <tr>\n",
       "      <th id=\"T_ab2b4_level0_row1\" class=\"row_heading level0 row1\" >1</th>\n",
       "      <td id=\"T_ab2b4_row1_col0\" class=\"data row1 col0\" >0.7448</td>\n",
       "      <td id=\"T_ab2b4_row1_col1\" class=\"data row1 col1\" >0.5201</td>\n",
       "      <td id=\"T_ab2b4_row1_col2\" class=\"data row1 col2\" >0.0000</td>\n",
       "      <td id=\"T_ab2b4_row1_col3\" class=\"data row1 col3\" >0.0000</td>\n",
       "      <td id=\"T_ab2b4_row1_col4\" class=\"data row1 col4\" >0.0000</td>\n",
       "      <td id=\"T_ab2b4_row1_col5\" class=\"data row1 col5\" >0.0000</td>\n",
       "      <td id=\"T_ab2b4_row1_col6\" class=\"data row1 col6\" >0.0000</td>\n",
       "      <td id=\"T_ab2b4_row1_col7\" class=\"data row1 col7\" >8.8126</td>\n",
       "    </tr>\n",
       "    <tr>\n",
       "      <th id=\"T_ab2b4_level0_row2\" class=\"row_heading level0 row2\" >2</th>\n",
       "      <td id=\"T_ab2b4_row2_col0\" class=\"data row2 col0\" >0.7448</td>\n",
       "      <td id=\"T_ab2b4_row2_col1\" class=\"data row2 col1\" >0.5157</td>\n",
       "      <td id=\"T_ab2b4_row2_col2\" class=\"data row2 col2\" >0.0000</td>\n",
       "      <td id=\"T_ab2b4_row2_col3\" class=\"data row2 col3\" >0.0000</td>\n",
       "      <td id=\"T_ab2b4_row2_col4\" class=\"data row2 col4\" >0.0000</td>\n",
       "      <td id=\"T_ab2b4_row2_col5\" class=\"data row2 col5\" >0.0000</td>\n",
       "      <td id=\"T_ab2b4_row2_col6\" class=\"data row2 col6\" >0.0000</td>\n",
       "      <td id=\"T_ab2b4_row2_col7\" class=\"data row2 col7\" >8.8126</td>\n",
       "    </tr>\n",
       "    <tr>\n",
       "      <th id=\"T_ab2b4_level0_row3\" class=\"row_heading level0 row3\" >3</th>\n",
       "      <td id=\"T_ab2b4_row3_col0\" class=\"data row3 col0\" >0.7448</td>\n",
       "      <td id=\"T_ab2b4_row3_col1\" class=\"data row3 col1\" >0.5161</td>\n",
       "      <td id=\"T_ab2b4_row3_col2\" class=\"data row3 col2\" >0.0000</td>\n",
       "      <td id=\"T_ab2b4_row3_col3\" class=\"data row3 col3\" >0.0000</td>\n",
       "      <td id=\"T_ab2b4_row3_col4\" class=\"data row3 col4\" >0.0000</td>\n",
       "      <td id=\"T_ab2b4_row3_col5\" class=\"data row3 col5\" >0.0000</td>\n",
       "      <td id=\"T_ab2b4_row3_col6\" class=\"data row3 col6\" >0.0000</td>\n",
       "      <td id=\"T_ab2b4_row3_col7\" class=\"data row3 col7\" >8.8126</td>\n",
       "    </tr>\n",
       "    <tr>\n",
       "      <th id=\"T_ab2b4_level0_row4\" class=\"row_heading level0 row4\" >4</th>\n",
       "      <td id=\"T_ab2b4_row4_col0\" class=\"data row4 col0\" >0.7448</td>\n",
       "      <td id=\"T_ab2b4_row4_col1\" class=\"data row4 col1\" >0.5137</td>\n",
       "      <td id=\"T_ab2b4_row4_col2\" class=\"data row4 col2\" >0.0000</td>\n",
       "      <td id=\"T_ab2b4_row4_col3\" class=\"data row4 col3\" >0.0000</td>\n",
       "      <td id=\"T_ab2b4_row4_col4\" class=\"data row4 col4\" >0.0000</td>\n",
       "      <td id=\"T_ab2b4_row4_col5\" class=\"data row4 col5\" >0.0000</td>\n",
       "      <td id=\"T_ab2b4_row4_col6\" class=\"data row4 col6\" >0.0000</td>\n",
       "      <td id=\"T_ab2b4_row4_col7\" class=\"data row4 col7\" >8.8126</td>\n",
       "    </tr>\n",
       "    <tr>\n",
       "      <th id=\"T_ab2b4_level0_row5\" class=\"row_heading level0 row5\" >5</th>\n",
       "      <td id=\"T_ab2b4_row5_col0\" class=\"data row5 col0\" >0.7448</td>\n",
       "      <td id=\"T_ab2b4_row5_col1\" class=\"data row5 col1\" >0.5234</td>\n",
       "      <td id=\"T_ab2b4_row5_col2\" class=\"data row5 col2\" >0.0000</td>\n",
       "      <td id=\"T_ab2b4_row5_col3\" class=\"data row5 col3\" >0.0000</td>\n",
       "      <td id=\"T_ab2b4_row5_col4\" class=\"data row5 col4\" >0.0000</td>\n",
       "      <td id=\"T_ab2b4_row5_col5\" class=\"data row5 col5\" >0.0000</td>\n",
       "      <td id=\"T_ab2b4_row5_col6\" class=\"data row5 col6\" >0.0000</td>\n",
       "      <td id=\"T_ab2b4_row5_col7\" class=\"data row5 col7\" >8.8126</td>\n",
       "    </tr>\n",
       "    <tr>\n",
       "      <th id=\"T_ab2b4_level0_row6\" class=\"row_heading level0 row6\" >6</th>\n",
       "      <td id=\"T_ab2b4_row6_col0\" class=\"data row6 col0\" >0.7448</td>\n",
       "      <td id=\"T_ab2b4_row6_col1\" class=\"data row6 col1\" >0.5159</td>\n",
       "      <td id=\"T_ab2b4_row6_col2\" class=\"data row6 col2\" >0.0000</td>\n",
       "      <td id=\"T_ab2b4_row6_col3\" class=\"data row6 col3\" >0.0000</td>\n",
       "      <td id=\"T_ab2b4_row6_col4\" class=\"data row6 col4\" >0.0000</td>\n",
       "      <td id=\"T_ab2b4_row6_col5\" class=\"data row6 col5\" >0.0000</td>\n",
       "      <td id=\"T_ab2b4_row6_col6\" class=\"data row6 col6\" >0.0000</td>\n",
       "      <td id=\"T_ab2b4_row6_col7\" class=\"data row6 col7\" >8.8126</td>\n",
       "    </tr>\n",
       "    <tr>\n",
       "      <th id=\"T_ab2b4_level0_row7\" class=\"row_heading level0 row7\" >7</th>\n",
       "      <td id=\"T_ab2b4_row7_col0\" class=\"data row7 col0\" >0.7448</td>\n",
       "      <td id=\"T_ab2b4_row7_col1\" class=\"data row7 col1\" >0.5200</td>\n",
       "      <td id=\"T_ab2b4_row7_col2\" class=\"data row7 col2\" >0.0000</td>\n",
       "      <td id=\"T_ab2b4_row7_col3\" class=\"data row7 col3\" >0.0000</td>\n",
       "      <td id=\"T_ab2b4_row7_col4\" class=\"data row7 col4\" >0.0000</td>\n",
       "      <td id=\"T_ab2b4_row7_col5\" class=\"data row7 col5\" >0.0000</td>\n",
       "      <td id=\"T_ab2b4_row7_col6\" class=\"data row7 col6\" >0.0000</td>\n",
       "      <td id=\"T_ab2b4_row7_col7\" class=\"data row7 col7\" >8.8126</td>\n",
       "    </tr>\n",
       "    <tr>\n",
       "      <th id=\"T_ab2b4_level0_row8\" class=\"row_heading level0 row8\" >8</th>\n",
       "      <td id=\"T_ab2b4_row8_col0\" class=\"data row8 col0\" >0.7448</td>\n",
       "      <td id=\"T_ab2b4_row8_col1\" class=\"data row8 col1\" >0.5217</td>\n",
       "      <td id=\"T_ab2b4_row8_col2\" class=\"data row8 col2\" >0.0000</td>\n",
       "      <td id=\"T_ab2b4_row8_col3\" class=\"data row8 col3\" >0.0000</td>\n",
       "      <td id=\"T_ab2b4_row8_col4\" class=\"data row8 col4\" >0.0000</td>\n",
       "      <td id=\"T_ab2b4_row8_col5\" class=\"data row8 col5\" >0.0000</td>\n",
       "      <td id=\"T_ab2b4_row8_col6\" class=\"data row8 col6\" >0.0000</td>\n",
       "      <td id=\"T_ab2b4_row8_col7\" class=\"data row8 col7\" >8.8126</td>\n",
       "    </tr>\n",
       "    <tr>\n",
       "      <th id=\"T_ab2b4_level0_row9\" class=\"row_heading level0 row9\" >9</th>\n",
       "      <td id=\"T_ab2b4_row9_col0\" class=\"data row9 col0\" >0.7448</td>\n",
       "      <td id=\"T_ab2b4_row9_col1\" class=\"data row9 col1\" >0.5211</td>\n",
       "      <td id=\"T_ab2b4_row9_col2\" class=\"data row9 col2\" >0.0000</td>\n",
       "      <td id=\"T_ab2b4_row9_col3\" class=\"data row9 col3\" >0.0000</td>\n",
       "      <td id=\"T_ab2b4_row9_col4\" class=\"data row9 col4\" >0.0000</td>\n",
       "      <td id=\"T_ab2b4_row9_col5\" class=\"data row9 col5\" >0.0000</td>\n",
       "      <td id=\"T_ab2b4_row9_col6\" class=\"data row9 col6\" >0.0000</td>\n",
       "      <td id=\"T_ab2b4_row9_col7\" class=\"data row9 col7\" >8.8133</td>\n",
       "    </tr>\n",
       "    <tr>\n",
       "      <th id=\"T_ab2b4_level0_row10\" class=\"row_heading level0 row10\" >Mean</th>\n",
       "      <td id=\"T_ab2b4_row10_col0\" class=\"data row10 col0\" >0.7448</td>\n",
       "      <td id=\"T_ab2b4_row10_col1\" class=\"data row10 col1\" >0.5185</td>\n",
       "      <td id=\"T_ab2b4_row10_col2\" class=\"data row10 col2\" >0.0000</td>\n",
       "      <td id=\"T_ab2b4_row10_col3\" class=\"data row10 col3\" >0.0000</td>\n",
       "      <td id=\"T_ab2b4_row10_col4\" class=\"data row10 col4\" >0.0000</td>\n",
       "      <td id=\"T_ab2b4_row10_col5\" class=\"data row10 col5\" >0.0000</td>\n",
       "      <td id=\"T_ab2b4_row10_col6\" class=\"data row10 col6\" >0.0000</td>\n",
       "      <td id=\"T_ab2b4_row10_col7\" class=\"data row10 col7\" >8.8127</td>\n",
       "    </tr>\n",
       "    <tr>\n",
       "      <th id=\"T_ab2b4_level0_row11\" class=\"row_heading level0 row11\" >Std</th>\n",
       "      <td id=\"T_ab2b4_row11_col0\" class=\"data row11 col0\" >0.0000</td>\n",
       "      <td id=\"T_ab2b4_row11_col1\" class=\"data row11 col1\" >0.0030</td>\n",
       "      <td id=\"T_ab2b4_row11_col2\" class=\"data row11 col2\" >0.0000</td>\n",
       "      <td id=\"T_ab2b4_row11_col3\" class=\"data row11 col3\" >0.0000</td>\n",
       "      <td id=\"T_ab2b4_row11_col4\" class=\"data row11 col4\" >0.0000</td>\n",
       "      <td id=\"T_ab2b4_row11_col5\" class=\"data row11 col5\" >0.0000</td>\n",
       "      <td id=\"T_ab2b4_row11_col6\" class=\"data row11 col6\" >0.0000</td>\n",
       "      <td id=\"T_ab2b4_row11_col7\" class=\"data row11 col7\" >0.0002</td>\n",
       "    </tr>\n",
       "  </tbody>\n",
       "</table>\n"
      ],
      "text/plain": [
       "<pandas.io.formats.style.Styler at 0x1d78dcbc358>"
      ]
     },
     "metadata": {},
     "output_type": "display_data"
    },
    {
     "name": "stdout",
     "output_type": "stream",
     "text": [
      "Fitting 10 folds for each of 50 candidates, totalling 500 fits\n"
     ]
    },
    {
     "data": {
      "application/vnd.jupyter.widget-view+json": {
       "model_id": "a0cf93a96c894e218e536822e409c22f",
       "version_major": 2,
       "version_minor": 0
      },
      "text/plain": [
       "interactive(children=(ToggleButtons(description='Plot Type:', icons=('',), options=(('Pipeline Plot', 'pipelin…"
      ]
     },
     "metadata": {},
     "output_type": "display_data"
    }
   ],
   "source": [
    "best_tune = tune_model(best_model, n_iter=50, choose_better = True)\n",
    "evaluate_model(best_tune)"
   ]
  },
  {
   "cell_type": "code",
   "execution_count": null,
   "metadata": {},
   "outputs": [],
   "source": [
    "best_model_bagged = ensemble_model(best_model, \n",
    "                                    method = 'Bagging', \n",
    "                                    fold = 5,\n",
    "                                    n_estimators = 100)\n",
    "evaluate_model(best_model_bagged)\n",
    "\n",
    "best_model_bossted = ensemble_model(best_model, \n",
    "                                    method = 'Boosting', \n",
    "                                    fold = 5,\n",
    "                                    n_estimators = 100)\n",
    "evaluate_model(best_model_bossted)"
   ]
  },
  {
   "cell_type": "code",
   "execution_count": 14,
   "metadata": {},
   "outputs": [
    {
     "data": {
      "text/html": [],
      "text/plain": [
       "<IPython.core.display.HTML object>"
      ]
     },
     "metadata": {},
     "output_type": "display_data"
    }
   ],
   "source": [
    "y_pred = predict_model(best_tune, data= test_x)[['prediction_label']]\n",
    "submission = pd.DataFrame(data=y_pred, columns=sample_submission.columns, index=sample_submission.index)\n",
    "submission.to_csv('baseline_submission.csv', index=True)"
   ]
  }
 ],
 "metadata": {
  "kernelspec": {
   "display_name": "Python 3",
   "language": "python",
   "name": "python3"
  },
  "language_info": {
   "codemirror_mode": {
    "name": "ipython",
    "version": 3
   },
   "file_extension": ".py",
   "mimetype": "text/x-python",
   "name": "python",
   "nbconvert_exporter": "python",
   "pygments_lexer": "ipython3",
   "version": "3.7.3"
  },
  "orig_nbformat": 4
 },
 "nbformat": 4,
 "nbformat_minor": 2
}
