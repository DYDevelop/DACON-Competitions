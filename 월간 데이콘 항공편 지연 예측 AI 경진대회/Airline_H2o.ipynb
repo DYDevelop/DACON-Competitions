{
 "cells": [
  {
   "cell_type": "code",
   "execution_count": 1,
   "metadata": {},
   "outputs": [
    {
     "name": "stdout",
     "output_type": "stream",
     "text": [
      "train Done.\n",
      "test Done.\n"
     ]
    }
   ],
   "source": [
    "import pandas as pd\n",
    "import numpy as np\n",
    "import random\n",
    "import os\n",
    "import gc\n",
    "from sklearn.model_selection import train_test_split\n",
    "from sklearn.ensemble import RandomForestClassifier\n",
    "from sklearn.preprocessing import LabelEncoder\n",
    "def seed_everything(seed):\n",
    "    random.seed(seed)\n",
    "    os.environ['PYTHONHASHSEED'] = str(seed)\n",
    "    np.random.seed(seed)\n",
    "seed_everything(42) # Seed 고정\n",
    "def csv_to_parquet(csv_path, save_name):\n",
    "    df = pd.read_csv(csv_path)\n",
    "    df.to_parquet(f'./{save_name}.parquet')\n",
    "    del df\n",
    "    gc.collect()\n",
    "    print(save_name, 'Done.')\n",
    "csv_to_parquet('./train.csv', 'train')\n",
    "csv_to_parquet('./test.csv', 'test')"
   ]
  },
  {
   "cell_type": "code",
   "execution_count": 2,
   "metadata": {},
   "outputs": [],
   "source": [
    "train = pd.read_parquet('./train.parquet')\n",
    "test = pd.read_parquet('./test.parquet')\n",
    "sample_submission = pd.read_csv('sample_submission.csv', index_col = 0)"
   ]
  },
  {
   "cell_type": "code",
   "execution_count": 4,
   "metadata": {},
   "outputs": [
    {
     "data": {
      "text/plain": [
       "Not_Delayed    210001\n",
       "Delayed         45000\n",
       "Name: Delay, dtype: int64"
      ]
     },
     "execution_count": 4,
     "metadata": {},
     "output_type": "execute_result"
    }
   ],
   "source": [
    "train['Delay'].value_counts()"
   ]
  },
  {
   "cell_type": "code",
   "execution_count": 3,
   "metadata": {},
   "outputs": [
    {
     "name": "stdout",
     "output_type": "stream",
     "text": [
      "<class 'pandas.core.frame.DataFrame'>\n",
      "RangeIndex: 1000000 entries, 0 to 999999\n",
      "Data columns (total 10 columns):\n",
      " #   Column                    Non-Null Count    Dtype  \n",
      "---  ------                    --------------    -----  \n",
      " 0   Estimated_Departure_Time  890981 non-null   float64\n",
      " 1   Estimated_Arrival_Time    890960 non-null   float64\n",
      " 2   Carrier_ID(DOT)           891003 non-null   float64\n",
      " 3   Distance                  1000000 non-null  float64\n",
      " 4   Origin_Airport_ID         1000000 non-null  int64  \n",
      " 5   Destination_Airport_ID    1000000 non-null  int64  \n",
      " 6   Airline                   891080 non-null   object \n",
      " 7   Month                     1000000 non-null  int64  \n",
      " 8   Carrier_Code(IATA)        891010 non-null   object \n",
      " 9   Delay                     255001 non-null   object \n",
      "dtypes: float64(4), int64(3), object(3)\n",
      "memory usage: 76.3+ MB\n"
     ]
    }
   ],
   "source": [
    "train = train[['Estimated_Departure_Time', 'Estimated_Arrival_Time', 'Carrier_ID(DOT)', 'Distance', 'Origin_Airport_ID', 'Destination_Airport_ID', 'Airline', 'Month', 'Carrier_Code(IATA)', 'Delay']]\n",
    "train.info()\n",
    "test = test[['Estimated_Departure_Time', 'Estimated_Arrival_Time', 'Carrier_ID(DOT)', 'Distance', 'Origin_Airport_ID', 'Destination_Airport_ID', 'Airline', 'Month', 'Carrier_Code(IATA)']]"
   ]
  },
  {
   "cell_type": "code",
   "execution_count": 4,
   "metadata": {},
   "outputs": [
    {
     "name": "stdout",
     "output_type": "stream",
     "text": [
      "<class 'pandas.core.frame.DataFrame'>\n",
      "Int64Index: 561520 entries, 1 to 999998\n",
      "Data columns (total 10 columns):\n",
      " #   Column                    Non-Null Count   Dtype  \n",
      "---  ------                    --------------   -----  \n",
      " 0   Estimated_Departure_Time  561520 non-null  float64\n",
      " 1   Estimated_Arrival_Time    561520 non-null  float64\n",
      " 2   Carrier_ID(DOT)           561520 non-null  float64\n",
      " 3   Distance                  561520 non-null  float64\n",
      " 4   Origin_Airport_ID         561520 non-null  int64  \n",
      " 5   Destination_Airport_ID    561520 non-null  int64  \n",
      " 6   Airline                   561520 non-null  object \n",
      " 7   Month                     561520 non-null  int64  \n",
      " 8   Carrier_Code(IATA)        561520 non-null  object \n",
      " 9   Delay_num                 561520 non-null  int64  \n",
      "dtypes: float64(4), int64(4), object(2)\n",
      "memory usage: 47.1+ MB\n"
     ]
    }
   ],
   "source": [
    "def to_number(x):\n",
    "    if x == None: return 1 # Delayed\n",
    "    else: return 0 # Not Delayed\n",
    "\n",
    "train.loc[:, 'Delay_num'] = train['Delay'].apply(lambda x: to_number(x))\n",
    "train = train.drop(columns=['Delay'])\n",
    "train = train.dropna()\n",
    "train.info()"
   ]
  },
  {
   "cell_type": "code",
   "execution_count": 5,
   "metadata": {},
   "outputs": [
    {
     "name": "stdout",
     "output_type": "stream",
     "text": [
      "Checking whether there is an H2O instance running at http://localhost:54321..... not found.\n",
      "Attempting to start a local H2O server...\n",
      "; Java HotSpot(TM) 64-Bit Server VM 18.9 (build 11.0.18+9-LTS-195, mixed mode)\n",
      "  Starting server from c:\\Python\\lib\\site-packages\\h2o\\backend\\bin\\h2o.jar\n",
      "  Ice root: C:\\Users\\KDY\\AppData\\Local\\Temp\\tmpq2f4bpny\n",
      "  JVM stdout: C:\\Users\\KDY\\AppData\\Local\\Temp\\tmpq2f4bpny\\h2o_KDY_started_from_python.out\n",
      "  JVM stderr: C:\\Users\\KDY\\AppData\\Local\\Temp\\tmpq2f4bpny\\h2o_KDY_started_from_python.err\n",
      "  Server is running at http://127.0.0.1:54321\n",
      "Connecting to H2O server at http://127.0.0.1:54321 ... successful.\n"
     ]
    },
    {
     "data": {
      "text/html": [
       "\n",
       "<style>\n",
       "\n",
       "#h2o-table-1.h2o-container {\n",
       "  overflow-x: auto;\n",
       "}\n",
       "#h2o-table-1 .h2o-table {\n",
       "  /* width: 100%; */\n",
       "  margin-top: 1em;\n",
       "  margin-bottom: 1em;\n",
       "}\n",
       "#h2o-table-1 .h2o-table caption {\n",
       "  white-space: nowrap;\n",
       "  caption-side: top;\n",
       "  text-align: left;\n",
       "  /* margin-left: 1em; */\n",
       "  margin: 0;\n",
       "  font-size: larger;\n",
       "}\n",
       "#h2o-table-1 .h2o-table thead {\n",
       "  white-space: nowrap; \n",
       "  position: sticky;\n",
       "  top: 0;\n",
       "  box-shadow: 0 -1px inset;\n",
       "}\n",
       "#h2o-table-1 .h2o-table tbody {\n",
       "  overflow: auto;\n",
       "}\n",
       "#h2o-table-1 .h2o-table th,\n",
       "#h2o-table-1 .h2o-table td {\n",
       "  text-align: right;\n",
       "  /* border: 1px solid; */\n",
       "}\n",
       "#h2o-table-1 .h2o-table tr:nth-child(even) {\n",
       "  /* background: #F5F5F5 */\n",
       "}\n",
       "\n",
       "</style>      \n",
       "<div id=\"h2o-table-1\" class=\"h2o-container\">\n",
       "  <table class=\"h2o-table\">\n",
       "    <caption></caption>\n",
       "    <thead></thead>\n",
       "    <tbody><tr><td>H2O_cluster_uptime:</td>\n",
       "<td>02 secs</td></tr>\n",
       "<tr><td>H2O_cluster_timezone:</td>\n",
       "<td>Asia/Seoul</td></tr>\n",
       "<tr><td>H2O_data_parsing_timezone:</td>\n",
       "<td>UTC</td></tr>\n",
       "<tr><td>H2O_cluster_version:</td>\n",
       "<td>3.40.0.3</td></tr>\n",
       "<tr><td>H2O_cluster_version_age:</td>\n",
       "<td>3 days</td></tr>\n",
       "<tr><td>H2O_cluster_name:</td>\n",
       "<td>H2O_from_python_KDY_71hfe8</td></tr>\n",
       "<tr><td>H2O_cluster_total_nodes:</td>\n",
       "<td>1</td></tr>\n",
       "<tr><td>H2O_cluster_free_memory:</td>\n",
       "<td>7.982 Gb</td></tr>\n",
       "<tr><td>H2O_cluster_total_cores:</td>\n",
       "<td>0</td></tr>\n",
       "<tr><td>H2O_cluster_allowed_cores:</td>\n",
       "<td>0</td></tr>\n",
       "<tr><td>H2O_cluster_status:</td>\n",
       "<td>locked, healthy</td></tr>\n",
       "<tr><td>H2O_connection_url:</td>\n",
       "<td>http://127.0.0.1:54321</td></tr>\n",
       "<tr><td>H2O_connection_proxy:</td>\n",
       "<td>{\"http\": null, \"https\": null}</td></tr>\n",
       "<tr><td>H2O_internal_security:</td>\n",
       "<td>False</td></tr>\n",
       "<tr><td>Python_version:</td>\n",
       "<td>3.7.3 final</td></tr></tbody>\n",
       "  </table>\n",
       "</div>\n"
      ],
      "text/plain": [
       "--------------------------  -----------------------------\n",
       "H2O_cluster_uptime:         02 secs\n",
       "H2O_cluster_timezone:       Asia/Seoul\n",
       "H2O_data_parsing_timezone:  UTC\n",
       "H2O_cluster_version:        3.40.0.3\n",
       "H2O_cluster_version_age:    3 days\n",
       "H2O_cluster_name:           H2O_from_python_KDY_71hfe8\n",
       "H2O_cluster_total_nodes:    1\n",
       "H2O_cluster_free_memory:    7.982 Gb\n",
       "H2O_cluster_total_cores:    0\n",
       "H2O_cluster_allowed_cores:  0\n",
       "H2O_cluster_status:         locked, healthy\n",
       "H2O_connection_url:         http://127.0.0.1:54321\n",
       "H2O_connection_proxy:       {\"http\": null, \"https\": null}\n",
       "H2O_internal_security:      False\n",
       "Python_version:             3.7.3 final\n",
       "--------------------------  -----------------------------"
      ]
     },
     "metadata": {},
     "output_type": "display_data"
    }
   ],
   "source": [
    "#### 1. h2o 분석 준비하기 ####\n",
    "import numpy as np\n",
    "import pandas as pd\n",
    "from sklearn.model_selection import train_test_split\n",
    "import time\n",
    "import h2o\n",
    "from h2o.automl import H2OAutoML\n",
    "from h2o.estimators.gbm import H2OGradientBoostingEstimator\n",
    "h2o.init()\n",
    "h2o.no_progress()\n",
    "################################################################\n",
    "## make dataset\n",
    "# Identify the response and set of predictors\n",
    "y = \"Delay_num\"\n",
    "x = list(train.columns)  #if x is defined as all columns except the response, then x is not required\n",
    "x.remove(y)\n",
    "\n",
    "# # data_df을 8:2로 나눈다, 50 : 13\n",
    "# train, valid = train_test_split(train,\n",
    "#                                 test_size=0.2, \n",
    "#                                 shuffle=True)\n",
    "h2o_train = h2o.H2OFrame(train)\n",
    "# h2o_valid = h2o.H2OFrame(valid)\n",
    "\n",
    "# For binary classification, response should be a factor\n",
    "h2o_train[y] = h2o_train[y].asfactor()\n",
    "# h2o_valid[y] = h2o_valid[y].asfactor()"
   ]
  },
  {
   "cell_type": "code",
   "execution_count": 6,
   "metadata": {},
   "outputs": [
    {
     "name": "stdout",
     "output_type": "stream",
     "text": [
      "\n",
      "00:29:09.656: AutoML: XGBoost is not available; skipping it.\n",
      "\n"
     ]
    }
   ],
   "source": [
    "aml = H2OAutoML(max_models = 25,\n",
    "                balance_classes=True,\n",
    "\t\t        seed = 1)\n",
    "aml.train(x = x, y = y, training_frame=h2o_train)\n",
    "lb = aml.leaderboard"
   ]
  },
  {
   "cell_type": "code",
   "execution_count": 7,
   "metadata": {},
   "outputs": [
    {
     "data": {
      "text/html": [
       "<table class='dataframe'>\n",
       "<thead>\n",
       "<tr><th>model_id                                              </th><th style=\"text-align: right;\">     auc</th><th style=\"text-align: right;\">  logloss</th><th style=\"text-align: right;\">   aucpr</th><th style=\"text-align: right;\">  mean_per_class_error</th><th style=\"text-align: right;\">    rmse</th><th style=\"text-align: right;\">     mse</th></tr>\n",
       "</thead>\n",
       "<tbody>\n",
       "<tr><td>GBM_grid_1_AutoML_1_20230408_02909_model_2            </td><td style=\"text-align: right;\">0.522941</td><td style=\"text-align: right;\"> 0.56727 </td><td style=\"text-align: right;\">0.758735</td><td style=\"text-align: right;\">              0.5     </td><td style=\"text-align: right;\">0.435657</td><td style=\"text-align: right;\">0.189797</td></tr>\n",
       "<tr><td>GBM_grid_1_AutoML_1_20230408_02909_model_7            </td><td style=\"text-align: right;\">0.522438</td><td style=\"text-align: right;\"> 0.567328</td><td style=\"text-align: right;\">0.758539</td><td style=\"text-align: right;\">              0.499994</td><td style=\"text-align: right;\">0.435682</td><td style=\"text-align: right;\">0.189819</td></tr>\n",
       "<tr><td>GBM_grid_1_AutoML_1_20230408_02909_model_3            </td><td style=\"text-align: right;\">0.52195 </td><td style=\"text-align: right;\"> 0.567337</td><td style=\"text-align: right;\">0.758062</td><td style=\"text-align: right;\">              0.5     </td><td style=\"text-align: right;\">0.435686</td><td style=\"text-align: right;\">0.189822</td></tr>\n",
       "<tr><td>GBM_5_AutoML_1_20230408_02909                         </td><td style=\"text-align: right;\">0.521873</td><td style=\"text-align: right;\"> 0.567361</td><td style=\"text-align: right;\">0.757772</td><td style=\"text-align: right;\">              0.5     </td><td style=\"text-align: right;\">0.435696</td><td style=\"text-align: right;\">0.189831</td></tr>\n",
       "<tr><td>GBM_2_AutoML_1_20230408_02909                         </td><td style=\"text-align: right;\">0.521606</td><td style=\"text-align: right;\"> 0.567378</td><td style=\"text-align: right;\">0.757783</td><td style=\"text-align: right;\">              0.5     </td><td style=\"text-align: right;\">0.435703</td><td style=\"text-align: right;\">0.189837</td></tr>\n",
       "<tr><td>GBM_grid_1_AutoML_1_20230408_02909_model_6            </td><td style=\"text-align: right;\">0.520708</td><td style=\"text-align: right;\"> 0.567426</td><td style=\"text-align: right;\">0.756732</td><td style=\"text-align: right;\">              0.499979</td><td style=\"text-align: right;\">0.435725</td><td style=\"text-align: right;\">0.189856</td></tr>\n",
       "<tr><td>GBM_3_AutoML_1_20230408_02909                         </td><td style=\"text-align: right;\">0.52009 </td><td style=\"text-align: right;\"> 0.567542</td><td style=\"text-align: right;\">0.756477</td><td style=\"text-align: right;\">              0.5     </td><td style=\"text-align: right;\">0.435771</td><td style=\"text-align: right;\">0.189896</td></tr>\n",
       "<tr><td>StackedEnsemble_AllModels_1_AutoML_1_20230408_02909   </td><td style=\"text-align: right;\">0.520024</td><td style=\"text-align: right;\"> 0.567617</td><td style=\"text-align: right;\">0.756805</td><td style=\"text-align: right;\">              0.499997</td><td style=\"text-align: right;\">0.435808</td><td style=\"text-align: right;\">0.189928</td></tr>\n",
       "<tr><td>GLM_1_AutoML_1_20230408_02909                         </td><td style=\"text-align: right;\">0.519109</td><td style=\"text-align: right;\"> 0.567471</td><td style=\"text-align: right;\">0.755417</td><td style=\"text-align: right;\">              0.5     </td><td style=\"text-align: right;\">0.435744</td><td style=\"text-align: right;\">0.189873</td></tr>\n",
       "<tr><td>GBM_4_AutoML_1_20230408_02909                         </td><td style=\"text-align: right;\">0.517737</td><td style=\"text-align: right;\"> 0.568043</td><td style=\"text-align: right;\">0.755068</td><td style=\"text-align: right;\">              0.499992</td><td style=\"text-align: right;\">0.43598 </td><td style=\"text-align: right;\">0.190078</td></tr>\n",
       "<tr><td>DeepLearning_grid_2_AutoML_1_20230408_02909_model_1   </td><td style=\"text-align: right;\">0.517191</td><td style=\"text-align: right;\"> 0.567597</td><td style=\"text-align: right;\">0.755839</td><td style=\"text-align: right;\">              0.499993</td><td style=\"text-align: right;\">0.435798</td><td style=\"text-align: right;\">0.18992 </td></tr>\n",
       "<tr><td>DeepLearning_grid_1_AutoML_1_20230408_02909_model_1   </td><td style=\"text-align: right;\">0.517061</td><td style=\"text-align: right;\"> 0.568015</td><td style=\"text-align: right;\">0.755152</td><td style=\"text-align: right;\">              0.5     </td><td style=\"text-align: right;\">0.435976</td><td style=\"text-align: right;\">0.190075</td></tr>\n",
       "<tr><td>GBM_grid_1_AutoML_1_20230408_02909_model_1            </td><td style=\"text-align: right;\">0.514029</td><td style=\"text-align: right;\"> 0.567856</td><td style=\"text-align: right;\">0.75204 </td><td style=\"text-align: right;\">              0.5     </td><td style=\"text-align: right;\">0.435908</td><td style=\"text-align: right;\">0.190016</td></tr>\n",
       "<tr><td>GBM_1_AutoML_1_20230408_02909                         </td><td style=\"text-align: right;\">0.512944</td><td style=\"text-align: right;\"> 0.56958 </td><td style=\"text-align: right;\">0.753103</td><td style=\"text-align: right;\">              0.5     </td><td style=\"text-align: right;\">0.436632</td><td style=\"text-align: right;\">0.190648</td></tr>\n",
       "<tr><td>GBM_grid_1_AutoML_1_20230408_02909_model_4            </td><td style=\"text-align: right;\">0.509445</td><td style=\"text-align: right;\"> 0.570658</td><td style=\"text-align: right;\">0.750674</td><td style=\"text-align: right;\">              0.499993</td><td style=\"text-align: right;\">0.437072</td><td style=\"text-align: right;\">0.191032</td></tr>\n",
       "<tr><td>DeepLearning_1_AutoML_1_20230408_02909                </td><td style=\"text-align: right;\">0.509048</td><td style=\"text-align: right;\"> 0.568818</td><td style=\"text-align: right;\">0.751269</td><td style=\"text-align: right;\">              0.5     </td><td style=\"text-align: right;\">0.436363</td><td style=\"text-align: right;\">0.190413</td></tr>\n",
       "<tr><td>DeepLearning_grid_3_AutoML_1_20230408_02909_model_1   </td><td style=\"text-align: right;\">0.508394</td><td style=\"text-align: right;\"> 0.570021</td><td style=\"text-align: right;\">0.751559</td><td style=\"text-align: right;\">              0.5     </td><td style=\"text-align: right;\">0.436955</td><td style=\"text-align: right;\">0.19093 </td></tr>\n",
       "<tr><td>StackedEnsemble_BestOfFamily_1_AutoML_1_20230408_02909</td><td style=\"text-align: right;\">0.507373</td><td style=\"text-align: right;\"> 0.567845</td><td style=\"text-align: right;\">0.749223</td><td style=\"text-align: right;\">              0.5     </td><td style=\"text-align: right;\">0.435907</td><td style=\"text-align: right;\">0.190015</td></tr>\n",
       "<tr><td>XRT_1_AutoML_1_20230408_02909                         </td><td style=\"text-align: right;\">0.507064</td><td style=\"text-align: right;\"> 0.581536</td><td style=\"text-align: right;\">0.7489  </td><td style=\"text-align: right;\">              0.5     </td><td style=\"text-align: right;\">0.440874</td><td style=\"text-align: right;\">0.19437 </td></tr>\n",
       "<tr><td>GBM_grid_1_AutoML_1_20230408_02909_model_5            </td><td style=\"text-align: right;\">0.506311</td><td style=\"text-align: right;\"> 0.581745</td><td style=\"text-align: right;\">0.748745</td><td style=\"text-align: right;\">              0.5     </td><td style=\"text-align: right;\">0.441131</td><td style=\"text-align: right;\">0.194597</td></tr>\n",
       "<tr><td>DRF_1_AutoML_1_20230408_02909                         </td><td style=\"text-align: right;\">0.505082</td><td style=\"text-align: right;\"> 0.593   </td><td style=\"text-align: right;\">0.747825</td><td style=\"text-align: right;\">              0.499997</td><td style=\"text-align: right;\">0.444838</td><td style=\"text-align: right;\">0.197881</td></tr>\n",
       "<tr><td>DeepLearning_grid_2_AutoML_1_20230408_02909_model_3   </td><td style=\"text-align: right;\">0.502923</td><td style=\"text-align: right;\"> 0.571055</td><td style=\"text-align: right;\">0.746902</td><td style=\"text-align: right;\">              0.5     </td><td style=\"text-align: right;\">0.437413</td><td style=\"text-align: right;\">0.19133 </td></tr>\n",
       "<tr><td>DeepLearning_grid_1_AutoML_1_20230408_02909_model_2   </td><td style=\"text-align: right;\">0.500988</td><td style=\"text-align: right;\"> 0.568284</td><td style=\"text-align: right;\">0.746806</td><td style=\"text-align: right;\">              0.5     </td><td style=\"text-align: right;\">0.436097</td><td style=\"text-align: right;\">0.190181</td></tr>\n",
       "<tr><td>DeepLearning_grid_1_AutoML_1_20230408_02909_model_3   </td><td style=\"text-align: right;\">0.500962</td><td style=\"text-align: right;\"> 0.571145</td><td style=\"text-align: right;\">0.746169</td><td style=\"text-align: right;\">              0.499994</td><td style=\"text-align: right;\">0.437419</td><td style=\"text-align: right;\">0.191336</td></tr>\n",
       "<tr><td>DeepLearning_grid_3_AutoML_1_20230408_02909_model_2   </td><td style=\"text-align: right;\">0.499822</td><td style=\"text-align: right;\"> 0.575992</td><td style=\"text-align: right;\">0.745163</td><td style=\"text-align: right;\">              0.5     </td><td style=\"text-align: right;\">0.439515</td><td style=\"text-align: right;\">0.193173</td></tr>\n",
       "<tr><td>DeepLearning_grid_2_AutoML_1_20230408_02909_model_2   </td><td style=\"text-align: right;\">0.499336</td><td style=\"text-align: right;\"> 0.572515</td><td style=\"text-align: right;\">0.74443 </td><td style=\"text-align: right;\">              0.5     </td><td style=\"text-align: right;\">0.438138</td><td style=\"text-align: right;\">0.191965</td></tr>\n",
       "<tr><td>DeepLearning_grid_3_AutoML_1_20230408_02909_model_3   </td><td style=\"text-align: right;\">0.499147</td><td style=\"text-align: right;\"> 0.577074</td><td style=\"text-align: right;\">0.744207</td><td style=\"text-align: right;\">              0.5     </td><td style=\"text-align: right;\">0.439573</td><td style=\"text-align: right;\">0.193224</td></tr>\n",
       "</tbody>\n",
       "</table><pre style='font-size: smaller; margin-bottom: 1em;'>[27 rows x 7 columns]</pre>"
      ],
      "text/plain": [
       "model_id                                                     auc    logloss     aucpr    mean_per_class_error      rmse       mse\n",
       "------------------------------------------------------  --------  ---------  --------  ----------------------  --------  --------\n",
       "GBM_grid_1_AutoML_1_20230408_02909_model_2              0.522941   0.56727   0.758735                0.5       0.435657  0.189797\n",
       "GBM_grid_1_AutoML_1_20230408_02909_model_7              0.522438   0.567328  0.758539                0.499994  0.435682  0.189819\n",
       "GBM_grid_1_AutoML_1_20230408_02909_model_3              0.52195    0.567337  0.758062                0.5       0.435686  0.189822\n",
       "GBM_5_AutoML_1_20230408_02909                           0.521873   0.567361  0.757772                0.5       0.435696  0.189831\n",
       "GBM_2_AutoML_1_20230408_02909                           0.521606   0.567378  0.757783                0.5       0.435703  0.189837\n",
       "GBM_grid_1_AutoML_1_20230408_02909_model_6              0.520708   0.567426  0.756732                0.499979  0.435725  0.189856\n",
       "GBM_3_AutoML_1_20230408_02909                           0.52009    0.567542  0.756477                0.5       0.435771  0.189896\n",
       "StackedEnsemble_AllModels_1_AutoML_1_20230408_02909     0.520024   0.567617  0.756805                0.499997  0.435808  0.189928\n",
       "GLM_1_AutoML_1_20230408_02909                           0.519109   0.567471  0.755417                0.5       0.435744  0.189873\n",
       "GBM_4_AutoML_1_20230408_02909                           0.517737   0.568043  0.755068                0.499992  0.43598   0.190078\n",
       "DeepLearning_grid_2_AutoML_1_20230408_02909_model_1     0.517191   0.567597  0.755839                0.499993  0.435798  0.18992\n",
       "DeepLearning_grid_1_AutoML_1_20230408_02909_model_1     0.517061   0.568015  0.755152                0.5       0.435976  0.190075\n",
       "GBM_grid_1_AutoML_1_20230408_02909_model_1              0.514029   0.567856  0.75204                 0.5       0.435908  0.190016\n",
       "GBM_1_AutoML_1_20230408_02909                           0.512944   0.56958   0.753103                0.5       0.436632  0.190648\n",
       "GBM_grid_1_AutoML_1_20230408_02909_model_4              0.509445   0.570658  0.750674                0.499993  0.437072  0.191032\n",
       "DeepLearning_1_AutoML_1_20230408_02909                  0.509048   0.568818  0.751269                0.5       0.436363  0.190413\n",
       "DeepLearning_grid_3_AutoML_1_20230408_02909_model_1     0.508394   0.570021  0.751559                0.5       0.436955  0.19093\n",
       "StackedEnsemble_BestOfFamily_1_AutoML_1_20230408_02909  0.507373   0.567845  0.749223                0.5       0.435907  0.190015\n",
       "XRT_1_AutoML_1_20230408_02909                           0.507064   0.581536  0.7489                  0.5       0.440874  0.19437\n",
       "GBM_grid_1_AutoML_1_20230408_02909_model_5              0.506311   0.581745  0.748745                0.5       0.441131  0.194597\n",
       "DRF_1_AutoML_1_20230408_02909                           0.505082   0.593     0.747825                0.499997  0.444838  0.197881\n",
       "DeepLearning_grid_2_AutoML_1_20230408_02909_model_3     0.502923   0.571055  0.746902                0.5       0.437413  0.19133\n",
       "DeepLearning_grid_1_AutoML_1_20230408_02909_model_2     0.500988   0.568284  0.746806                0.5       0.436097  0.190181\n",
       "DeepLearning_grid_1_AutoML_1_20230408_02909_model_3     0.500962   0.571145  0.746169                0.499994  0.437419  0.191336\n",
       "DeepLearning_grid_3_AutoML_1_20230408_02909_model_2     0.499822   0.575992  0.745163                0.5       0.439515  0.193173\n",
       "DeepLearning_grid_2_AutoML_1_20230408_02909_model_2     0.499336   0.572515  0.74443                 0.5       0.438138  0.191965\n",
       "DeepLearning_grid_3_AutoML_1_20230408_02909_model_3     0.499147   0.577074  0.744207                0.5       0.439573  0.193224\n",
       "[27 rows x 7 columns]\n"
      ]
     },
     "execution_count": 7,
     "metadata": {},
     "output_type": "execute_result"
    }
   ],
   "source": [
    "lb.head(rows=lb.nrows)"
   ]
  },
  {
   "cell_type": "code",
   "execution_count": 13,
   "metadata": {},
   "outputs": [
    {
     "name": "stdout",
     "output_type": "stream",
     "text": [
      "<class 'pandas.core.frame.DataFrame'>\n",
      "RangeIndex: 1000000 entries, 0 to 999999\n",
      "Data columns (total 9 columns):\n",
      " #   Column                    Non-Null Count    Dtype  \n",
      "---  ------                    --------------    -----  \n",
      " 0   Estimated_Departure_Time  891016 non-null   float64\n",
      " 1   Estimated_Arrival_Time    890952 non-null   float64\n",
      " 2   Carrier_ID(DOT)           890994 non-null   float64\n",
      " 3   Distance                  1000000 non-null  float64\n",
      " 4   Origin_Airport_ID         1000000 non-null  int64  \n",
      " 5   Destination_Airport_ID    1000000 non-null  int64  \n",
      " 6   Airline                   893473 non-null   object \n",
      " 7   Month                     1000000 non-null  int64  \n",
      " 8   Carrier_Code(IATA)        891007 non-null   object \n",
      "dtypes: float64(4), int64(3), object(2)\n",
      "memory usage: 68.7+ MB\n"
     ]
    }
   ],
   "source": [
    "test.info()"
   ]
  },
  {
   "cell_type": "code",
   "execution_count": 32,
   "metadata": {},
   "outputs": [
    {
     "name": "stderr",
     "output_type": "stream",
     "text": [
      "c:\\Python\\lib\\site-packages\\h2o\\job.py:83: UserWarning: Test/Validation dataset column 'Airline' has levels not trained on: [\"\"]\n",
      "  warnings.warn(w)\n",
      "c:\\Python\\lib\\site-packages\\h2o\\job.py:83: UserWarning: Test/Validation dataset column 'Carrier_Code(IATA)' has levels not trained on: [\"\", \"9E\", \"EV\", \"MQ\", \"OH\", \"OO\", \"YV\", \"YX\"]\n",
      "  warnings.warn(w)\n"
     ]
    }
   ],
   "source": [
    "h2o_test = h2o.H2OFrame(test)\n",
    "m = aml.get_best_model(criterion=\"logloss\")\n",
    "h2o.save_model(model=m)\n",
    "preds = m.predict(h2o_test)"
   ]
  },
  {
   "cell_type": "code",
   "execution_count": 13,
   "metadata": {},
   "outputs": [],
   "source": [
    "y_pred = preds.as_data_frame().drop(columns=['predict']).values"
   ]
  },
  {
   "cell_type": "code",
   "execution_count": 20,
   "metadata": {},
   "outputs": [],
   "source": [
    "y_pred = y_pred.values"
   ]
  },
  {
   "cell_type": "code",
   "execution_count": null,
   "metadata": {},
   "outputs": [],
   "source": [
    "submission = pd.DataFrame(data=y_pred, columns=sample_submission.columns, index=sample_submission.index)\n",
    "submission.to_csv('H2O_submission.csv', index=True)"
   ]
  },
  {
   "cell_type": "code",
   "execution_count": 23,
   "metadata": {},
   "outputs": [
    {
     "name": "stdout",
     "output_type": "stream",
     "text": [
      "gbm prediction progress: |███████████████████████████████████████████████████████| (done) 100%\n"
     ]
    },
    {
     "name": "stderr",
     "output_type": "stream",
     "text": [
      "c:\\Python\\lib\\site-packages\\h2o\\job.py:83: UserWarning: Test/Validation dataset column 'Airline' has levels not trained on: [\"\"]\n",
      "  warnings.warn(w)\n",
      "c:\\Python\\lib\\site-packages\\h2o\\job.py:83: UserWarning: Test/Validation dataset column 'Carrier_Code(IATA)' has levels not trained on: [\"\", \"9E\", \"EV\", \"MQ\", \"OH\", \"OO\", \"YV\", \"YX\"]\n",
      "  warnings.warn(w)\n"
     ]
    }
   ],
   "source": [
    "# import h2o\n",
    "# from h2o.automl import H2OAutoML\n",
    "# h2o.init()\n",
    "# h2o_test = h2o.H2OFrame(test)\n",
    "saved_model = h2o.load_model('./GBM_grid_1_AutoML_1_20230408_02909_model_2')\n",
    "preds = saved_model.predict(h2o_test)"
   ]
  },
  {
   "cell_type": "code",
   "execution_count": 24,
   "metadata": {},
   "outputs": [
    {
     "name": "stdout",
     "output_type": "stream",
     "text": [
      "<class 'pandas.core.frame.DataFrame'>\n",
      "RangeIndex: 1000000 entries, 0 to 999999\n",
      "Data columns (total 9 columns):\n",
      " #   Column                    Non-Null Count    Dtype  \n",
      "---  ------                    --------------    -----  \n",
      " 0   Estimated_Departure_Time  891016 non-null   float64\n",
      " 1   Estimated_Arrival_Time    890952 non-null   float64\n",
      " 2   Carrier_ID(DOT)           890994 non-null   float64\n",
      " 3   Distance                  1000000 non-null  float64\n",
      " 4   Origin_Airport_ID         1000000 non-null  int64  \n",
      " 5   Destination_Airport_ID    1000000 non-null  int64  \n",
      " 6   Airline                   893473 non-null   object \n",
      " 7   Month                     1000000 non-null  int64  \n",
      " 8   Carrier_Code(IATA)        891007 non-null   object \n",
      "dtypes: float64(4), int64(3), object(2)\n",
      "memory usage: 68.7+ MB\n"
     ]
    }
   ],
   "source": [
    "test.info()"
   ]
  },
  {
   "cell_type": "code",
   "execution_count": 25,
   "metadata": {},
   "outputs": [],
   "source": [
    "y_pred = preds.as_data_frame().drop(columns=['predict']).values"
   ]
  },
  {
   "cell_type": "code",
   "execution_count": 26,
   "metadata": {},
   "outputs": [],
   "source": [
    "y_pred = y_pred[1:]"
   ]
  },
  {
   "cell_type": "code",
   "execution_count": 27,
   "metadata": {},
   "outputs": [
    {
     "data": {
      "text/plain": [
       "(1000000, 2)"
      ]
     },
     "execution_count": 27,
     "metadata": {},
     "output_type": "execute_result"
    }
   ],
   "source": [
    "y_pred.shape"
   ]
  },
  {
   "cell_type": "code",
   "execution_count": 28,
   "metadata": {},
   "outputs": [],
   "source": [
    "submission = pd.DataFrame(data=y_pred, columns=sample_submission.columns, index=sample_submission.index)\n",
    "submission.to_csv('H2O_submission.csv', index=True)"
   ]
  }
 ],
 "metadata": {
  "kernelspec": {
   "display_name": "Python 3",
   "language": "python",
   "name": "python3"
  },
  "language_info": {
   "codemirror_mode": {
    "name": "ipython",
    "version": 3
   },
   "file_extension": ".py",
   "mimetype": "text/x-python",
   "name": "python",
   "nbconvert_exporter": "python",
   "pygments_lexer": "ipython3",
   "version": "3.7.3"
  },
  "orig_nbformat": 4
 },
 "nbformat": 4,
 "nbformat_minor": 2
}
