{
 "cells": [
  {
   "cell_type": "code",
   "execution_count": 1,
   "metadata": {},
   "outputs": [],
   "source": [
    "import pandas as pd\n",
    "from sklearn.preprocessing import PolynomialFeatures\n",
    "from sklearn.model_selection import train_test_split\n",
    "from sklearn.preprocessing import StandardScaler\n",
    "from sklearn.neural_network import MLPRegressor\n",
    "from sklearn.metrics import mean_squared_error\n",
    "import numpy as np"
   ]
  },
  {
   "cell_type": "code",
   "execution_count": 2,
   "metadata": {},
   "outputs": [],
   "source": [
    "# 데이터 불러오기\n",
    "train_df = pd.read_csv('train.csv')\n",
    "test_df = pd.read_csv('test.csv')\n",
    "sample_submission_df = pd.read_csv('sample_submission.csv')\n",
    "\n",
    "# 모든 사람의 키를 인치로 만들기\n",
    "train_df.insert(4, 'Height(Inches)', train_df.apply(lambda x: int(x['Height(Feet)']) * 12 + int(x['Height(Remainder_Inches)']), axis=1))\n",
    "test_df.insert(4, 'Height(Inches)', test_df.apply(lambda x: int(x['Height(Feet)']) * 12 + int(x['Height(Remainder_Inches)']), axis=1))\n",
    "\n",
    "# 필요없는 데이터 Drop\n",
    "train_df = train_df.drop(['ID', 'Height(Feet)', 'Height(Remainder_Inches)'], axis=1)\n",
    "test_df = test_df.drop(['ID', 'Height(Feet)', 'Height(Remainder_Inches)'], axis=1)"
   ]
  },
  {
   "cell_type": "code",
   "execution_count": 3,
   "metadata": {},
   "outputs": [],
   "source": [
    "# Weight_Status, Gender 열을 숫자 데이터로 변환\n",
    "train_df['Weight_Status'] = train_df['Weight_Status'].map({'Normal Weight': 0, 'Overweight': 1, 'Obese': 2})\n",
    "train_df['Gender'] = train_df['Gender'].map({'M': 0, 'F': 1})\n",
    "test_df['Weight_Status'] = test_df['Weight_Status'].map({'Normal Weight': 0, 'Overweight': 1, 'Obese': 2})\n",
    "test_df['Gender'] = test_df['Gender'].map({'M': 0, 'F': 1})"
   ]
  },
  {
   "cell_type": "code",
   "execution_count": 4,
   "metadata": {},
   "outputs": [],
   "source": [
    "# PolynomialFeatures를 사용하여 데이터 전처리\n",
    "poly = PolynomialFeatures(degree=2, include_bias=False)\n",
    "X = poly.fit_transform(train_df.drop('Calories_Burned', axis=1))\n",
    "y = train_df['Calories_Burned']"
   ]
  },
  {
   "cell_type": "code",
   "execution_count": 5,
   "metadata": {},
   "outputs": [],
   "source": [
    "# 표준화\n",
    "scaler = StandardScaler()\n",
    "X_scaled = scaler.fit_transform(X)"
   ]
  },
  {
   "cell_type": "code",
   "execution_count": 6,
   "metadata": {},
   "outputs": [],
   "source": [
    "# train, valid 데이터 나누기\n",
    "X_train, X_valid, y_train, y_valid = train_test_split(X_scaled, y, test_size=0.3, random_state=42)"
   ]
  },
  {
   "cell_type": "code",
   "execution_count": 27,
   "metadata": {},
   "outputs": [
    {
     "data": {
      "text/plain": [
       "MLPRegressor(activation='relu', alpha=0.0001, batch_size='auto', beta_1=0.9,\n",
       "             beta_2=0.999, early_stopping=False, epsilon=1e-08,\n",
       "             hidden_layer_sizes=(1024, 256, 2), learning_rate='constant',\n",
       "             learning_rate_init=0.001, max_fun=15000, max_iter=500,\n",
       "             momentum=0.9, n_iter_no_change=10, nesterovs_momentum=True,\n",
       "             power_t=0.5, random_state=42, shuffle=True, solver='adam',\n",
       "             tol=0.0001, validation_fraction=0.1, verbose=False,\n",
       "             warm_start=False)"
      ]
     },
     "execution_count": 27,
     "metadata": {},
     "output_type": "execute_result"
    }
   ],
   "source": [
    "# 회귀 신경망 모델 학습\n",
    "mlp = MLPRegressor(hidden_layer_sizes=(1024, 256, 2), max_iter=500, activation='relu', solver='adam', random_state=42)\n",
    "mlp.fit(X_train, y_train)"
   ]
  },
  {
   "cell_type": "code",
   "execution_count": 28,
   "metadata": {},
   "outputs": [
    {
     "data": {
      "text/plain": [
       "<AxesSubplot:>"
      ]
     },
     "execution_count": 28,
     "metadata": {},
     "output_type": "execute_result"
    },
    {
     "data": {
      "image/png": "[encoded data removed]",
      "text/plain": [
       "<Figure size 640x480 with 1 Axes>"
      ]
     },
     "metadata": {},
     "output_type": "display_data"
    }
   ],
   "source": [
    "pd.DataFrame(mlp.loss_curve_).plot()"
   ]
  },
  {
   "cell_type": "code",
   "execution_count": 29,
   "metadata": {},
   "outputs": [
    {
     "name": "stdout",
     "output_type": "stream",
     "text": [
      "Valid 데이터 RMSE: 0.431\n"
     ]
    }
   ],
   "source": [
    "# valid 데이터 예측 및 평가\n",
    "y_pred_valid = mlp.predict(X_valid)\n",
    "rmse_valid = np.sqrt(mean_squared_error(y_valid, y_pred_valid))\n",
    "print(f\"Valid 데이터 RMSE: {rmse_valid:.3f}\")"
   ]
  },
  {
   "cell_type": "code",
   "execution_count": 30,
   "metadata": {},
   "outputs": [],
   "source": [
    "# # test 데이터 예측\n",
    "# X_test = test_df.values\n",
    "# X_poly_test = poly.transform(X_test)\n",
    "# X_test_scaled = scaler.transform(X_poly_test)\n",
    "# y_pred_test = mlp.predict(X_test_scaled)"
   ]
  },
  {
   "cell_type": "code",
   "execution_count": 31,
   "metadata": {},
   "outputs": [],
   "source": [
    "# # 결과 저장\n",
    "# sample_submission_df['Calories_Burned'] = y_pred_test\n",
    "# sample_submission_df.to_csv('submission_MLP_Poly.csv', index=False)"
   ]
  }
 ],
 "metadata": {
  "kernelspec": {
   "display_name": "Python 3",
   "language": "python",
   "name": "python3"
  },
  "language_info": {
   "codemirror_mode": {
    "name": "ipython",
    "version": 3
   },
   "file_extension": ".py",
   "mimetype": "text/x-python",
   "name": "python",
   "nbconvert_exporter": "python",
   "pygments_lexer": "ipython3",
   "version": "3.7.9"
  },
  "orig_nbformat": 4
 },
 "nbformat": 4,
 "nbformat_minor": 2
}
