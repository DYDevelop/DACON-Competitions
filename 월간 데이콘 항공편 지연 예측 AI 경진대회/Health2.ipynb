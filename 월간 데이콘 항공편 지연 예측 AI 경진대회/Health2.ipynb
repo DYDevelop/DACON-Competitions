{
 "cells": [
  {
   "cell_type": "code",
   "execution_count": 1,
   "metadata": {},
   "outputs": [],
   "source": [
    "import pandas as pd\n",
    "import random\n",
    "import os\n",
    "import numpy as np\n",
    "from sklearn.preprocessing import LabelEncoder\n",
    "import matplotlib.pyplot as plt\n",
    "import seaborn as sns\n",
    "\n",
    "import warnings\n",
    "warnings.filterwarnings('ignore')\n",
    "\n",
    "def seed_everything(seed):\n",
    "    random.seed(seed)\n",
    "    os.environ['PYTHONHASHSEED'] = str(seed)\n",
    "    np.random.seed(seed)\n",
    "\n",
    "seed_everything(42) # Seed 고정\n",
    "\n",
    "train = pd.read_csv('train.csv')\n",
    "test = pd.read_csv('test.csv')\n",
    "submission = pd.read_csv('sample_submission.csv')"
   ]
  },
  {
   "cell_type": "code",
   "execution_count": 2,
   "metadata": {},
   "outputs": [],
   "source": [
    "train.insert(4, 'Height(Inches)', train.apply(lambda x: int(x['Height(Feet)']) * 12 + int(x['Height(Remainder_Inches)']), axis=1))\n",
    "test.insert(4, 'Height(Inches)', test.apply(lambda x: int(x['Height(Feet)']) * 12 + int(x['Height(Remainder_Inches)']), axis=1))\n",
    "train = train.drop(['ID', 'Height(Feet)', 'Height(Remainder_Inches)', 'Weight_Status', 'Gender'], axis=1)\n",
    "test = test.drop(['ID', 'Height(Feet)', 'Height(Remainder_Inches)', 'Weight_Status', 'Gender'], axis=1)"
   ]
  },
  {
   "cell_type": "code",
   "execution_count": 3,
   "metadata": {},
   "outputs": [],
   "source": [
    "# def remove_outliers(data, threshold=3):\n",
    "#     z_scores = np.abs((data - np.mean(data)) / np.std(data))\n",
    "#     return data[z_scores < threshold]\n",
    "\n",
    "# numeric_features = train.columns[:5]\n",
    "# for feature in numeric_features:\n",
    "#     train[feature] = remove_outliers(train[feature])"
   ]
  },
  {
   "cell_type": "code",
   "execution_count": 4,
   "metadata": {},
   "outputs": [
    {
     "name": "stdout",
     "output_type": "stream",
     "text": [
      "<class 'pandas.core.frame.DataFrame'>\n",
      "RangeIndex: 7500 entries, 0 to 7499\n",
      "Data columns (total 7 columns):\n",
      " #   Column               Non-Null Count  Dtype  \n",
      "---  ------               --------------  -----  \n",
      " 0   Exercise_Duration    7500 non-null   int64  \n",
      " 1   Body_Temperature(F)  7500 non-null   float64\n",
      " 2   BPM                  7500 non-null   int64  \n",
      " 3   Height(Inches)       7500 non-null   int64  \n",
      " 4   Weight(lb)           7500 non-null   float64\n",
      " 5   Age                  7500 non-null   int64  \n",
      " 6   Calories_Burned      7500 non-null   int64  \n",
      "dtypes: float64(2), int64(5)\n",
      "memory usage: 410.3 KB\n"
     ]
    }
   ],
   "source": [
    "train.info()"
   ]
  },
  {
   "cell_type": "code",
   "execution_count": 5,
   "metadata": {},
   "outputs": [],
   "source": [
    "# ordinal_features = ['Weight_Status', 'Gender']\n",
    "\n",
    "# for feature in ordinal_features:\n",
    "#     le = LabelEncoder()\n",
    "#     le = le.fit(train[feature])\n",
    "#     train[feature] = le.transform(train[feature])\n",
    "\n",
    "#     # train데이터에서 존재하지 않았던 값이 test 데이터에 존재할 수도 있습니다.\n",
    "#     # 따라서 test 데이터를 바로 변형시키지 않고 고윳값을 확인후 test 데이터를 변환합니다.\n",
    "#     for label in np.unique(test[feature]):\n",
    "#         if label not in le.classes_:\n",
    "#             le.classes_ = np.append(le.classes_, label)\n",
    "#     test[feature] = le.transform(test[feature])"
   ]
  },
  {
   "cell_type": "code",
   "execution_count": 6,
   "metadata": {},
   "outputs": [],
   "source": [
    "# train_0 = train.loc[train['Weight_Status'] == 0]\n",
    "# train_1 = train.loc[train['Weight_Status'] == 1]\n",
    "# train_2 = train.loc[train['Weight_Status'] == 2]\n",
    "# counts = [len(train_0), len(train_1), len(train_2)]\n",
    "# train_0 = train_0.sample(n=max(counts), replace=True)\n",
    "# train_1 = train_1.sample(n=max(counts), replace=True)\n",
    "# train_2 = train_2.sample(n=max(counts), replace=True)\n",
    "# train_filled = pd.concat([train_0, train_1, train_2], axis=0)\n",
    "# train_filled = train_filled.sample(frac=1)"
   ]
  },
  {
   "cell_type": "code",
   "execution_count": 20,
   "metadata": {},
   "outputs": [],
   "source": [
    "from tensorflow.keras.models import Sequential\n",
    "from tensorflow.keras.layers import Dense, Dropout\n",
    "from tensorflow.keras.optimizers import Adam\n",
    "\n",
    "def create_regression_model(input_dim):\n",
    "    model = Sequential()\n",
    "    model.add(Dense(1000, input_dim=input_dim, activation='relu'))\n",
    "    model.add(Dense(1000, activation='relu'))\n",
    "    model.add(Dense(500, activation='relu'))\n",
    "    model.add(Dense(100, activation='relu'))\n",
    "    model.add(Dense(1, activation=None))\n",
    "    model.compile(optimizer=Adam(lr=0.0001), loss='mean_squared_logarithmic_error')\n",
    "    return model"
   ]
  },
  {
   "cell_type": "code",
   "execution_count": 21,
   "metadata": {},
   "outputs": [],
   "source": [
    "train_x = train.drop(['Calories_Burned'], axis=1)\n",
    "train_y = train['Calories_Burned']"
   ]
  },
  {
   "cell_type": "code",
   "execution_count": 22,
   "metadata": {},
   "outputs": [],
   "source": [
    "model = create_regression_model(6)"
   ]
  },
  {
   "cell_type": "code",
   "execution_count": 23,
   "metadata": {},
   "outputs": [
    {
     "name": "stdout",
     "output_type": "stream",
     "text": [
      "Epoch 1/50\n",
      "106/106 [==============================] - 1s 5ms/step - loss: 0.8770 - val_loss: 0.4597\n",
      "Epoch 2/50\n",
      "106/106 [==============================] - 0s 4ms/step - loss: 0.1399 - val_loss: 0.0419\n",
      "Epoch 3/50\n",
      "106/106 [==============================] - 0s 4ms/step - loss: 0.0333 - val_loss: 0.0197\n",
      "Epoch 4/50\n",
      "106/106 [==============================] - 0s 4ms/step - loss: 0.0209 - val_loss: 0.0141\n",
      "Epoch 5/50\n",
      "106/106 [==============================] - 0s 4ms/step - loss: 0.0178 - val_loss: 0.0129\n",
      "Epoch 6/50\n",
      "106/106 [==============================] - 0s 4ms/step - loss: 0.0140 - val_loss: 0.0114\n",
      "Epoch 7/50\n",
      "106/106 [==============================] - 0s 4ms/step - loss: 0.0162 - val_loss: 0.0302\n",
      "Epoch 8/50\n",
      "106/106 [==============================] - 0s 4ms/step - loss: 0.0134 - val_loss: 0.0089\n",
      "Epoch 9/50\n",
      "106/106 [==============================] - 0s 4ms/step - loss: 0.0115 - val_loss: 0.0179\n",
      "Epoch 10/50\n",
      "106/106 [==============================] - 0s 4ms/step - loss: 0.0101 - val_loss: 0.0153\n",
      "Epoch 11/50\n",
      "106/106 [==============================] - 0s 4ms/step - loss: 0.0100 - val_loss: 0.0105\n",
      "Epoch 12/50\n",
      "106/106 [==============================] - 0s 4ms/step - loss: 0.0109 - val_loss: 0.0082\n",
      "Epoch 13/50\n",
      "106/106 [==============================] - 0s 4ms/step - loss: 0.0105 - val_loss: 0.0073\n",
      "Epoch 14/50\n",
      "106/106 [==============================] - 0s 4ms/step - loss: 0.0212 - val_loss: 0.0323\n",
      "Epoch 15/50\n",
      "106/106 [==============================] - 0s 4ms/step - loss: 0.0131 - val_loss: 0.0075\n",
      "Epoch 16/50\n",
      "106/106 [==============================] - 0s 4ms/step - loss: 0.0082 - val_loss: 0.0091\n",
      "Epoch 17/50\n",
      "106/106 [==============================] - 0s 4ms/step - loss: 0.0094 - val_loss: 0.0067\n",
      "Epoch 18/50\n",
      "106/106 [==============================] - 0s 4ms/step - loss: 0.0081 - val_loss: 0.0447\n",
      "Epoch 19/50\n",
      "106/106 [==============================] - 0s 4ms/step - loss: 0.0140 - val_loss: 0.0067\n",
      "Epoch 20/50\n",
      "106/106 [==============================] - 0s 4ms/step - loss: 0.0094 - val_loss: 0.0060\n",
      "Epoch 21/50\n",
      "106/106 [==============================] - 0s 4ms/step - loss: 0.0091 - val_loss: 0.0113\n",
      "Epoch 22/50\n",
      "106/106 [==============================] - 0s 4ms/step - loss: 0.0085 - val_loss: 0.0061\n",
      "Epoch 23/50\n",
      "106/106 [==============================] - 0s 4ms/step - loss: 0.0086 - val_loss: 0.0057\n",
      "Epoch 24/50\n",
      "106/106 [==============================] - 0s 4ms/step - loss: 0.0084 - val_loss: 0.0058\n",
      "Epoch 25/50\n",
      "106/106 [==============================] - 0s 4ms/step - loss: 0.0108 - val_loss: 0.0181\n",
      "Epoch 26/50\n",
      "106/106 [==============================] - 0s 4ms/step - loss: 0.0092 - val_loss: 0.0112\n",
      "Epoch 27/50\n",
      "106/106 [==============================] - 0s 4ms/step - loss: 0.0075 - val_loss: 0.0048\n",
      "Epoch 28/50\n",
      "106/106 [==============================] - 0s 4ms/step - loss: 0.0130 - val_loss: 0.0065\n",
      "Epoch 29/50\n",
      "106/106 [==============================] - 0s 4ms/step - loss: 0.0067 - val_loss: 0.0050\n",
      "Epoch 30/50\n",
      "106/106 [==============================] - 0s 4ms/step - loss: 0.0091 - val_loss: 0.0213\n",
      "Epoch 31/50\n",
      "106/106 [==============================] - 0s 4ms/step - loss: 0.0082 - val_loss: 0.0090\n",
      "Epoch 32/50\n",
      "106/106 [==============================] - 0s 4ms/step - loss: 0.0069 - val_loss: 0.0056\n",
      "Epoch 33/50\n",
      "106/106 [==============================] - 0s 4ms/step - loss: 0.0088 - val_loss: 0.0042\n",
      "Epoch 34/50\n",
      "106/106 [==============================] - 0s 4ms/step - loss: 0.0059 - val_loss: 0.0046\n",
      "Epoch 35/50\n",
      "106/106 [==============================] - 0s 4ms/step - loss: 0.0064 - val_loss: 0.0086\n",
      "Epoch 36/50\n",
      "106/106 [==============================] - 0s 4ms/step - loss: 0.0065 - val_loss: 0.0228\n",
      "Epoch 37/50\n",
      "106/106 [==============================] - 0s 4ms/step - loss: 0.0061 - val_loss: 0.0043\n",
      "Epoch 38/50\n",
      "106/106 [==============================] - 0s 4ms/step - loss: 0.0058 - val_loss: 0.0059\n",
      "Epoch 39/50\n",
      "106/106 [==============================] - 0s 4ms/step - loss: 0.0050 - val_loss: 0.0042\n",
      "Epoch 40/50\n",
      "106/106 [==============================] - 0s 4ms/step - loss: 0.0071 - val_loss: 0.0065\n",
      "Epoch 41/50\n",
      "106/106 [==============================] - 0s 4ms/step - loss: 0.0067 - val_loss: 0.0044\n",
      "Epoch 42/50\n",
      "106/106 [==============================] - 0s 4ms/step - loss: 0.0056 - val_loss: 0.0039\n",
      "Epoch 43/50\n",
      "106/106 [==============================] - 0s 4ms/step - loss: 0.0141 - val_loss: 0.0060\n",
      "Epoch 44/50\n",
      "106/106 [==============================] - 0s 4ms/step - loss: 0.0075 - val_loss: 0.0086\n",
      "Epoch 45/50\n",
      "106/106 [==============================] - 0s 4ms/step - loss: 0.0064 - val_loss: 0.0136\n",
      "Epoch 46/50\n",
      "106/106 [==============================] - 0s 4ms/step - loss: 0.0058 - val_loss: 0.0035\n",
      "Epoch 47/50\n",
      "106/106 [==============================] - 0s 4ms/step - loss: 0.0075 - val_loss: 0.0183\n",
      "Epoch 48/50\n",
      "106/106 [==============================] - 0s 4ms/step - loss: 0.0111 - val_loss: 0.0072\n",
      "Epoch 49/50\n",
      "106/106 [==============================] - 0s 4ms/step - loss: 0.0045 - val_loss: 0.0035\n",
      "Epoch 50/50\n",
      "106/106 [==============================] - 0s 4ms/step - loss: 0.0049 - val_loss: 0.0039\n"
     ]
    }
   ],
   "source": [
    "# 학습 데이터셋을 이용하여 모델을 학습시킵니다.\n",
    "history = model.fit(train_x, train_y, epochs=50, batch_size=64, validation_split=0.1, verbose=1)"
   ]
  },
  {
   "cell_type": "code",
   "execution_count": 24,
   "metadata": {},
   "outputs": [
    {
     "name": "stdout",
     "output_type": "stream",
     "text": [
      "235/235 [==============================] - 0s 1ms/step\n"
     ]
    }
   ],
   "source": [
    "preds = model.predict(test)"
   ]
  },
  {
   "cell_type": "code",
   "execution_count": 25,
   "metadata": {},
   "outputs": [],
   "source": [
    "submission['Calories_Burned'] = preds\n",
    "submission.to_csv('./submit.csv', index = False)"
   ]
  }
 ],
 "metadata": {
  "kernelspec": {
   "display_name": "Python 3",
   "language": "python",
   "name": "python3"
  },
  "language_info": {
   "codemirror_mode": {
    "name": "ipython",
    "version": 3
   },
   "file_extension": ".py",
   "mimetype": "text/x-python",
   "name": "python",
   "nbconvert_exporter": "python",
   "pygments_lexer": "ipython3",
   "version": "3.7.9"
  },
  "orig_nbformat": 4
 },
 "nbformat": 4,
 "nbformat_minor": 2
}
