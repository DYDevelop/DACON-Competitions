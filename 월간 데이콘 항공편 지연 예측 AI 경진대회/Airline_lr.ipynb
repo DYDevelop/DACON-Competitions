{
 "cells": [
  {
   "cell_type": "code",
   "execution_count": 1,
   "metadata": {},
   "outputs": [
    {
     "name": "stdout",
     "output_type": "stream",
     "text": [
      "train Done.\n",
      "test Done.\n"
     ]
    }
   ],
   "source": [
    "import pandas as pd\n",
    "import numpy as np\n",
    "import random\n",
    "import os\n",
    "import gc\n",
    "import matplotlib.pyplot as plt\n",
    "from pycaret.classification import *\n",
    "from sklearn.ensemble import RandomForestClassifier\n",
    "from sklearn.preprocessing import LabelEncoder, StandardScaler\n",
    "from sklearn.metrics import log_loss\n",
    "\n",
    "def seed_everything(seed):\n",
    "    random.seed(seed)\n",
    "    os.environ['PYTHONHASHSEED'] = str(seed)\n",
    "    np.random.seed(seed)\n",
    "seed_everything(42) # Seed 고정\n",
    "\n",
    "def csv_to_parquet(csv_path, save_name):\n",
    "    df = pd.read_csv(csv_path)\n",
    "    df.to_parquet(f'./{save_name}.parquet')\n",
    "    del df\n",
    "    gc.collect()\n",
    "    print(save_name, 'Done.')\n",
    "csv_to_parquet('./train.csv', 'train')\n",
    "csv_to_parquet('./test.csv', 'test')\n",
    "train = pd.read_parquet('./train.parquet')\n",
    "test = pd.read_parquet('./test.parquet')\n",
    "sample_submission = pd.read_csv('sample_submission.csv', index_col = 0)"
   ]
  },
  {
   "cell_type": "code",
   "execution_count": 2,
   "metadata": {},
   "outputs": [],
   "source": [
    "mom = [31, 28, 31, 30, 31, 30, 31, 31, 30, 31, 30, 31]\n",
    "train['Day_of_Month'] = train.apply(lambda x: np.sin(((sum(mom[:(int(x['Month'])-1)]) + int(x['Day_of_Month'])) / 365) * np.pi), axis=1)\n",
    "test['Day_of_Month'] = test.apply(lambda x: np.sin(((sum(mom[:(int(x['Month'])-1)]) + int(x['Day_of_Month'])) / 365) * np.pi), axis=1)\n",
    "train['Estimated_Departure_Time'] = train.apply(lambda x: np.sin((((int(x['Estimated_Departure_Time']) // 100) * 60 + (int(x['Estimated_Departure_Time']) % 100)) / 1439) * np.pi) if pd.notnull(x['Estimated_Departure_Time']) else None, axis=1)\n",
    "test['Estimated_Departure_Time'] = test.apply(lambda x: np.sin((((int(x['Estimated_Departure_Time']) // 100) * 60 + (int(x['Estimated_Departure_Time']) % 100)) / 1439) * np.pi) if pd.notnull(x['Estimated_Departure_Time']) else None, axis=1)\n",
    "train['Estimated_Arrival_Time'] = train.apply(lambda x: np.sin((((int(x['Estimated_Arrival_Time']) // 100) * 60 + (int(x['Estimated_Arrival_Time']) % 100)) / 1439) * np.pi) if pd.notnull(x['Estimated_Arrival_Time']) else None, axis=1)\n",
    "test['Estimated_Arrival_Time'] = test.apply(lambda x: np.sin((((int(x['Estimated_Arrival_Time']) // 100) * 60 + (int(x['Estimated_Arrival_Time']) % 100)) / 1439) * np.pi) if pd.notnull(x['Estimated_Arrival_Time']) else None, axis=1)"
   ]
  },
  {
   "cell_type": "code",
   "execution_count": 3,
   "metadata": {},
   "outputs": [
    {
     "name": "stdout",
     "output_type": "stream",
     "text": [
      "<class 'pandas.core.frame.DataFrame'>\n",
      "RangeIndex: 1000000 entries, 0 to 999999\n",
      "Data columns (total 13 columns):\n",
      " #   Column                    Non-Null Count    Dtype  \n",
      "---  ------                    --------------    -----  \n",
      " 0   Day_of_Month              1000000 non-null  float64\n",
      " 1   Estimated_Departure_Time  890981 non-null   float64\n",
      " 2   Estimated_Arrival_Time    890960 non-null   float64\n",
      " 3   Origin_Airport_ID         1000000 non-null  int64  \n",
      " 4   Origin_State              890985 non-null   object \n",
      " 5   Destination_Airport_ID    1000000 non-null  int64  \n",
      " 6   Destination_State         890921 non-null   object \n",
      " 7   Distance                  1000000 non-null  float64\n",
      " 8   Airline                   891080 non-null   object \n",
      " 9   Carrier_Code(IATA)        891010 non-null   object \n",
      " 10  Carrier_ID(DOT)           891003 non-null   float64\n",
      " 11  Tail_Number               1000000 non-null  object \n",
      " 12  Delay                     255001 non-null   object \n",
      "dtypes: float64(5), int64(2), object(6)\n",
      "memory usage: 99.2+ MB\n"
     ]
    }
   ],
   "source": [
    "train = train.drop(columns=['ID', 'Month', 'Origin_Airport', 'Destination_Airport', 'Cancelled', 'Diverted'])\n",
    "train.info()\n",
    "test = test.drop(columns=['ID', 'Month', 'Origin_Airport', 'Destination_Airport', 'Cancelled', 'Diverted'])"
   ]
  },
  {
   "cell_type": "code",
   "execution_count": 4,
   "metadata": {},
   "outputs": [
    {
     "name": "stdout",
     "output_type": "stream",
     "text": [
      "Done.\n"
     ]
    }
   ],
   "source": [
    "# #레이블(Delay)을 제외한 결측값이 존재하는 변수들을 학습 데이터의 최빈값으로 대체합니다\n",
    "# #가장 많이 나온 값들로 NaN을 대체함\n",
    "# NaN_col = ['Origin_State','Destination_State','Airline','Estimated_Departure_Time', 'Estimated_Arrival_Time','Carrier_Code(IATA)','Carrier_ID(DOT)']\n",
    "\n",
    "# for col in NaN_col:\n",
    "#     mode = train[col].mode()[0]\n",
    "#     train[col] = train[col].fillna(mode)\n",
    "    \n",
    "#     if col in test.columns:\n",
    "#         test[col] = test[col].fillna(mode)\n",
    "# print('Done.')\n",
    "\n",
    "def to_number(x):\n",
    "    if x == None: return -1\n",
    "    elif x == 'Delayed': return 1\n",
    "    else: return 0\n",
    "    \n",
    "train.loc[:, 'Delay'] = train['Delay'].apply(lambda x: to_number(x))\n",
    "\n",
    "# Quantify qualitative variables\n",
    "# 정성적 변수는 LabelEncoder를 사용하여 숫자로 인코딩됩니다.\n",
    "qual_col = ['Origin_State', 'Destination_State', 'Airline', 'Carrier_Code(IATA)', 'Tail_Number']\n",
    "\n",
    "for i in qual_col:\n",
    "    le = LabelEncoder()\n",
    "    le = le.fit(train[i])\n",
    "    train[i] = le.transform(train[i])\n",
    "    \n",
    "    for label in set(test[i]):\n",
    "        if label not in le.classes_:\n",
    "            le.classes_ = np.append(le.classes_, label)\n",
    "    test[i] = le.transform(test[i])\n",
    "\n",
    "train = train.dropna()\n",
    "print('Done.')"
   ]
  },
  {
   "cell_type": "code",
   "execution_count": 5,
   "metadata": {},
   "outputs": [
    {
     "name": "stdout",
     "output_type": "stream",
     "text": [
      "<class 'pandas.core.frame.DataFrame'>\n",
      "Int64Index: 707317 entries, 1 to 999999\n",
      "Data columns (total 13 columns):\n",
      " #   Column                    Non-Null Count   Dtype  \n",
      "---  ------                    --------------   -----  \n",
      " 0   Day_of_Month              707317 non-null  float64\n",
      " 1   Estimated_Departure_Time  707317 non-null  float64\n",
      " 2   Estimated_Arrival_Time    707317 non-null  float64\n",
      " 3   Origin_Airport_ID         707317 non-null  int64  \n",
      " 4   Origin_State              707317 non-null  int32  \n",
      " 5   Destination_Airport_ID    707317 non-null  int64  \n",
      " 6   Destination_State         707317 non-null  int32  \n",
      " 7   Distance                  707317 non-null  float64\n",
      " 8   Airline                   707317 non-null  int32  \n",
      " 9   Carrier_Code(IATA)        707317 non-null  int32  \n",
      " 10  Carrier_ID(DOT)           707317 non-null  float64\n",
      " 11  Tail_Number               707317 non-null  int32  \n",
      " 12  Delay                     707317 non-null  int64  \n",
      "dtypes: float64(5), int32(5), int64(3)\n",
      "memory usage: 62.1 MB\n"
     ]
    }
   ],
   "source": [
    "train.info()"
   ]
  },
  {
   "cell_type": "code",
   "execution_count": 6,
   "metadata": {},
   "outputs": [],
   "source": [
    "threshold = 10\n",
    "category_column = ['Origin_Airport_ID', 'Origin_State', 'Destination_Airport_ID', 'Destination_State', 'Airline','Carrier_Code(IATA)', 'Carrier_ID(DOT)', 'Tail_Number']\n",
    "for column_name in category_column:\n",
    "    # value_counts() 메서드를 사용하여 해당 column에서 각 값의 빈도수 계산\n",
    "    value_counts = train[column_name].value_counts()\n",
    "\n",
    "    # 빈도수가 threshold보다 작은 값들의 인덱스를 추출하여 리스트로 저장\n",
    "    to_remove = value_counts[value_counts < threshold].index.tolist()\n",
    "\n",
    "    # to_remove 리스트에 속하지 않은 row들로 이루어진 새로운 dataframe 생성\n",
    "    train = train[~train[column_name].isin(to_remove)]"
   ]
  },
  {
   "cell_type": "code",
   "execution_count": 7,
   "metadata": {},
   "outputs": [
    {
     "data": {
      "text/plain": [
       "-1    526842\n",
       " 0    148658\n",
       " 1     31817\n",
       "Name: Delay, dtype: int64"
      ]
     },
     "execution_count": 7,
     "metadata": {},
     "output_type": "execute_result"
    }
   ],
   "source": [
    "train['Delay'].value_counts()"
   ]
  },
  {
   "cell_type": "code",
   "execution_count": 8,
   "metadata": {},
   "outputs": [],
   "source": [
    "selected_row_0 = train.loc[train['Delay'] == 0]\n",
    "selected_row_1 = train.loc[train['Delay'] == 1]\n",
    "if len(selected_row_0) > len(selected_row_1): selected_row_0 = selected_row_0.sample(n=len(selected_row_1))\n",
    "else: selected_row_1 = selected_row_1.sample(n=len(selected_row_0))\n",
    "train_0to1 = pd.concat([selected_row_0, selected_row_1], ignore_index=True)\n",
    "train_0to1 = train_0to1.sample(frac=1)\n",
    "# selected_row_null = train.loc[train['Delay'] == -1]\n",
    "# selected_row_null = selected_row_null.sample(n = 31813)\n",
    "# train_sorted = pd.concat([selected_row_0, selected_row_1, selected_row_null], ignore_index=True)\n",
    "# train_sorted = train_sorted.sample(frac=1)"
   ]
  },
  {
   "cell_type": "code",
   "execution_count": 9,
   "metadata": {},
   "outputs": [
    {
     "data": {
      "text/plain": [
       "0    31817\n",
       "1    31817\n",
       "Name: Delay, dtype: int64"
      ]
     },
     "execution_count": 9,
     "metadata": {},
     "output_type": "execute_result"
    }
   ],
   "source": [
    "train_0to1['Delay'].value_counts()"
   ]
  },
  {
   "cell_type": "code",
   "execution_count": 10,
   "metadata": {},
   "outputs": [],
   "source": [
    "# from sklearn.cluster import KMeans\n",
    "# # selected_row_null = selected_row_null.drop(columns=['Delay'])\n",
    "# clusterer = KMeans(n_clusters=2, random_state=10)\n",
    "# cluster_labels = clusterer.fit_predict(selected_row_null)\n"
   ]
  },
  {
   "cell_type": "code",
   "execution_count": 11,
   "metadata": {},
   "outputs": [],
   "source": [
    "# list(clusterer.fit_predict(selected_row_1)).count(1)"
   ]
  },
  {
   "cell_type": "code",
   "execution_count": 12,
   "metadata": {},
   "outputs": [
    {
     "data": {
      "text/html": [
       "<div>\n",
       "<style scoped>\n",
       "    .dataframe tbody tr th:only-of-type {\n",
       "        vertical-align: middle;\n",
       "    }\n",
       "\n",
       "    .dataframe tbody tr th {\n",
       "        vertical-align: top;\n",
       "    }\n",
       "\n",
       "    .dataframe thead th {\n",
       "        text-align: right;\n",
       "    }\n",
       "</style>\n",
       "<table border=\"1\" class=\"dataframe\">\n",
       "  <thead>\n",
       "    <tr style=\"text-align: right;\">\n",
       "      <th></th>\n",
       "      <th></th>\n",
       "      <th></th>\n",
       "    </tr>\n",
       "    <tr>\n",
       "      <th></th>\n",
       "      <th></th>\n",
       "      <th></th>\n",
       "    </tr>\n",
       "  </thead>\n",
       "  <tbody>\n",
       "    <tr>\n",
       "      <th>Initiated</th>\n",
       "      <td>. . . . . . . . . . . . . . . . . .</td>\n",
       "      <td>23:47:40</td>\n",
       "    </tr>\n",
       "    <tr>\n",
       "      <th>Status</th>\n",
       "      <td>. . . . . . . . . . . . . . . . . .</td>\n",
       "      <td>Loading Dependencies</td>\n",
       "    </tr>\n",
       "    <tr>\n",
       "      <th>Estimator</th>\n",
       "      <td>. . . . . . . . . . . . . . . . . .</td>\n",
       "      <td>Compiling Library</td>\n",
       "    </tr>\n",
       "  </tbody>\n",
       "</table>\n",
       "</div>"
      ],
      "text/plain": [
       "                                                                    \n",
       "                                                                    \n",
       "Initiated  . . . . . . . . . . . . . . . . . .              23:47:40\n",
       "Status     . . . . . . . . . . . . . . . . . .  Loading Dependencies\n",
       "Estimator  . . . . . . . . . . . . . . . . . .     Compiling Library"
      ]
     },
     "metadata": {},
     "output_type": "display_data"
    },
    {
     "data": {
      "text/html": [],
      "text/plain": [
       "<IPython.core.display.HTML object>"
      ]
     },
     "metadata": {},
     "output_type": "display_data"
    }
   ],
   "source": [
    "exp_name = setup(data=train_0to1, target='Delay', \n",
    "                use_gpu=True)\n",
    "add_metric('logloss', 'Log Loss', log_loss, greater_is_better = False)\n",
    "best_model_1 = compare_models(n_select = 1, sort='logloss', fold=5)"
   ]
  },
  {
   "cell_type": "code",
   "execution_count": 13,
   "metadata": {},
   "outputs": [
    {
     "data": {
      "text/html": [],
      "text/plain": [
       "<IPython.core.display.HTML object>"
      ]
     },
     "metadata": {},
     "output_type": "display_data"
    }
   ],
   "source": [
    "selected_row_null = train.loc[train['Delay'] == -1]\n",
    "selected_row_null = selected_row_null.drop(columns=['Delay'])\n",
    "selected_row_null['Delay'] = predict_model(best_model_1, data= selected_row_null)['prediction_label'].values\n",
    "selected_row_0 = train.loc[train['Delay'] == 0]\n",
    "selected_row_1 = train.loc[train['Delay'] == 1]\n",
    "train_filled = pd.concat([selected_row_0, selected_row_1, selected_row_null], ignore_index=True)\n",
    "train_filled = train_filled.sample(frac=1)"
   ]
  },
  {
   "cell_type": "code",
   "execution_count": 14,
   "metadata": {},
   "outputs": [
    {
     "data": {
      "text/plain": [
       "0    432605\n",
       "1    274712\n",
       "Name: Delay, dtype: int64"
      ]
     },
     "execution_count": 14,
     "metadata": {},
     "output_type": "execute_result"
    }
   ],
   "source": [
    "train_filled['Delay'].value_counts()"
   ]
  },
  {
   "cell_type": "code",
   "execution_count": 25,
   "metadata": {},
   "outputs": [],
   "source": [
    "selected_row_0 = train_filled.loc[train_filled['Delay'] == 0]\n",
    "selected_row_1 = train_filled.loc[train_filled['Delay'] == 1]\n",
    "if len(selected_row_0) > len(selected_row_1): selected_row_0 = selected_row_0.sample(n=len(selected_row_1)//2)\n",
    "else: selected_row_1 = selected_row_1.sample(n=len(selected_row_0))\n",
    "train_filled = pd.concat([selected_row_0, selected_row_1], ignore_index=True)\n",
    "train_filled = train_filled.sample(frac=1)"
   ]
  },
  {
   "cell_type": "code",
   "execution_count": 26,
   "metadata": {},
   "outputs": [
    {
     "data": {
      "text/plain": [
       "1    274712\n",
       "0    137356\n",
       "Name: Delay, dtype: int64"
      ]
     },
     "execution_count": 26,
     "metadata": {},
     "output_type": "execute_result"
    }
   ],
   "source": [
    "train_filled['Delay'].value_counts()"
   ]
  },
  {
   "cell_type": "code",
   "execution_count": 17,
   "metadata": {},
   "outputs": [],
   "source": [
    "# from sklearn.semi_supervised import LabelPropagation\n",
    "# # Semi-supervised learning을 위한 LabelPropagation 모델 학습\n",
    "# X_train = train_sorted.drop(columns=['Delay'])\n",
    "# y_train = train_sorted['Delay']\n",
    "# label_prop_model = LabelPropagation()\n",
    "# label_prop_model.fit(X_train, y_train)\n",
    "\n",
    "# # 학습된 LabelPropagation 모델로 Unlabeled 데이터 라벨링\n",
    "# y_unlabeled_pred = label_prop_model.predict(X_train)"
   ]
  },
  {
   "cell_type": "code",
   "execution_count": 27,
   "metadata": {},
   "outputs": [
    {
     "data": {
      "text/html": [
       "<style type=\"text/css\">\n",
       "#T_75451_row8_col1, #T_75451_row15_col1 {\n",
       "  background-color: lightgreen;\n",
       "}\n",
       "</style>\n",
       "<table id=\"T_75451_\">\n",
       "  <thead>\n",
       "    <tr>\n",
       "      <th class=\"blank level0\" >&nbsp;</th>\n",
       "      <th class=\"col_heading level0 col0\" >Description</th>\n",
       "      <th class=\"col_heading level0 col1\" >Value</th>\n",
       "    </tr>\n",
       "  </thead>\n",
       "  <tbody>\n",
       "    <tr>\n",
       "      <th id=\"T_75451_level0_row0\" class=\"row_heading level0 row0\" >0</th>\n",
       "      <td id=\"T_75451_row0_col0\" class=\"data row0 col0\" >Session id</td>\n",
       "      <td id=\"T_75451_row0_col1\" class=\"data row0 col1\" >4656</td>\n",
       "    </tr>\n",
       "    <tr>\n",
       "      <th id=\"T_75451_level0_row1\" class=\"row_heading level0 row1\" >1</th>\n",
       "      <td id=\"T_75451_row1_col0\" class=\"data row1 col0\" >Target</td>\n",
       "      <td id=\"T_75451_row1_col1\" class=\"data row1 col1\" >Delay</td>\n",
       "    </tr>\n",
       "    <tr>\n",
       "      <th id=\"T_75451_level0_row2\" class=\"row_heading level0 row2\" >2</th>\n",
       "      <td id=\"T_75451_row2_col0\" class=\"data row2 col0\" >Target type</td>\n",
       "      <td id=\"T_75451_row2_col1\" class=\"data row2 col1\" >Binary</td>\n",
       "    </tr>\n",
       "    <tr>\n",
       "      <th id=\"T_75451_level0_row3\" class=\"row_heading level0 row3\" >3</th>\n",
       "      <td id=\"T_75451_row3_col0\" class=\"data row3 col0\" >Original data shape</td>\n",
       "      <td id=\"T_75451_row3_col1\" class=\"data row3 col1\" >(412068, 13)</td>\n",
       "    </tr>\n",
       "    <tr>\n",
       "      <th id=\"T_75451_level0_row4\" class=\"row_heading level0 row4\" >4</th>\n",
       "      <td id=\"T_75451_row4_col0\" class=\"data row4 col0\" >Transformed data shape</td>\n",
       "      <td id=\"T_75451_row4_col1\" class=\"data row4 col1\" >(412068, 13)</td>\n",
       "    </tr>\n",
       "    <tr>\n",
       "      <th id=\"T_75451_level0_row5\" class=\"row_heading level0 row5\" >5</th>\n",
       "      <td id=\"T_75451_row5_col0\" class=\"data row5 col0\" >Transformed train set shape</td>\n",
       "      <td id=\"T_75451_row5_col1\" class=\"data row5 col1\" >(288447, 13)</td>\n",
       "    </tr>\n",
       "    <tr>\n",
       "      <th id=\"T_75451_level0_row6\" class=\"row_heading level0 row6\" >6</th>\n",
       "      <td id=\"T_75451_row6_col0\" class=\"data row6 col0\" >Transformed test set shape</td>\n",
       "      <td id=\"T_75451_row6_col1\" class=\"data row6 col1\" >(123621, 13)</td>\n",
       "    </tr>\n",
       "    <tr>\n",
       "      <th id=\"T_75451_level0_row7\" class=\"row_heading level0 row7\" >7</th>\n",
       "      <td id=\"T_75451_row7_col0\" class=\"data row7 col0\" >Numeric features</td>\n",
       "      <td id=\"T_75451_row7_col1\" class=\"data row7 col1\" >12</td>\n",
       "    </tr>\n",
       "    <tr>\n",
       "      <th id=\"T_75451_level0_row8\" class=\"row_heading level0 row8\" >8</th>\n",
       "      <td id=\"T_75451_row8_col0\" class=\"data row8 col0\" >Preprocess</td>\n",
       "      <td id=\"T_75451_row8_col1\" class=\"data row8 col1\" >True</td>\n",
       "    </tr>\n",
       "    <tr>\n",
       "      <th id=\"T_75451_level0_row9\" class=\"row_heading level0 row9\" >9</th>\n",
       "      <td id=\"T_75451_row9_col0\" class=\"data row9 col0\" >Imputation type</td>\n",
       "      <td id=\"T_75451_row9_col1\" class=\"data row9 col1\" >simple</td>\n",
       "    </tr>\n",
       "    <tr>\n",
       "      <th id=\"T_75451_level0_row10\" class=\"row_heading level0 row10\" >10</th>\n",
       "      <td id=\"T_75451_row10_col0\" class=\"data row10 col0\" >Numeric imputation</td>\n",
       "      <td id=\"T_75451_row10_col1\" class=\"data row10 col1\" >mean</td>\n",
       "    </tr>\n",
       "    <tr>\n",
       "      <th id=\"T_75451_level0_row11\" class=\"row_heading level0 row11\" >11</th>\n",
       "      <td id=\"T_75451_row11_col0\" class=\"data row11 col0\" >Categorical imputation</td>\n",
       "      <td id=\"T_75451_row11_col1\" class=\"data row11 col1\" >mode</td>\n",
       "    </tr>\n",
       "    <tr>\n",
       "      <th id=\"T_75451_level0_row12\" class=\"row_heading level0 row12\" >12</th>\n",
       "      <td id=\"T_75451_row12_col0\" class=\"data row12 col0\" >Fold Generator</td>\n",
       "      <td id=\"T_75451_row12_col1\" class=\"data row12 col1\" >StratifiedKFold</td>\n",
       "    </tr>\n",
       "    <tr>\n",
       "      <th id=\"T_75451_level0_row13\" class=\"row_heading level0 row13\" >13</th>\n",
       "      <td id=\"T_75451_row13_col0\" class=\"data row13 col0\" >Fold Number</td>\n",
       "      <td id=\"T_75451_row13_col1\" class=\"data row13 col1\" >10</td>\n",
       "    </tr>\n",
       "    <tr>\n",
       "      <th id=\"T_75451_level0_row14\" class=\"row_heading level0 row14\" >14</th>\n",
       "      <td id=\"T_75451_row14_col0\" class=\"data row14 col0\" >CPU Jobs</td>\n",
       "      <td id=\"T_75451_row14_col1\" class=\"data row14 col1\" >-1</td>\n",
       "    </tr>\n",
       "    <tr>\n",
       "      <th id=\"T_75451_level0_row15\" class=\"row_heading level0 row15\" >15</th>\n",
       "      <td id=\"T_75451_row15_col0\" class=\"data row15 col0\" >Use GPU</td>\n",
       "      <td id=\"T_75451_row15_col1\" class=\"data row15 col1\" >True</td>\n",
       "    </tr>\n",
       "    <tr>\n",
       "      <th id=\"T_75451_level0_row16\" class=\"row_heading level0 row16\" >16</th>\n",
       "      <td id=\"T_75451_row16_col0\" class=\"data row16 col0\" >Log Experiment</td>\n",
       "      <td id=\"T_75451_row16_col1\" class=\"data row16 col1\" >False</td>\n",
       "    </tr>\n",
       "    <tr>\n",
       "      <th id=\"T_75451_level0_row17\" class=\"row_heading level0 row17\" >17</th>\n",
       "      <td id=\"T_75451_row17_col0\" class=\"data row17 col0\" >Experiment Name</td>\n",
       "      <td id=\"T_75451_row17_col1\" class=\"data row17 col1\" >clf-default-name</td>\n",
       "    </tr>\n",
       "    <tr>\n",
       "      <th id=\"T_75451_level0_row18\" class=\"row_heading level0 row18\" >18</th>\n",
       "      <td id=\"T_75451_row18_col0\" class=\"data row18 col0\" >USI</td>\n",
       "      <td id=\"T_75451_row18_col1\" class=\"data row18 col1\" >8477</td>\n",
       "    </tr>\n",
       "  </tbody>\n",
       "</table>\n"
      ],
      "text/plain": [
       "<pandas.io.formats.style.Styler at 0x21e1b7094e0>"
      ]
     },
     "metadata": {},
     "output_type": "display_data"
    },
    {
     "data": {
      "text/html": [
       "<div>\n",
       "<style scoped>\n",
       "    .dataframe tbody tr th:only-of-type {\n",
       "        vertical-align: middle;\n",
       "    }\n",
       "\n",
       "    .dataframe tbody tr th {\n",
       "        vertical-align: top;\n",
       "    }\n",
       "\n",
       "    .dataframe thead th {\n",
       "        text-align: right;\n",
       "    }\n",
       "</style>\n",
       "<table border=\"1\" class=\"dataframe\">\n",
       "  <thead>\n",
       "    <tr style=\"text-align: right;\">\n",
       "      <th></th>\n",
       "      <th></th>\n",
       "      <th></th>\n",
       "    </tr>\n",
       "    <tr>\n",
       "      <th></th>\n",
       "      <th></th>\n",
       "      <th></th>\n",
       "    </tr>\n",
       "  </thead>\n",
       "  <tbody>\n",
       "    <tr>\n",
       "      <th>Initiated</th>\n",
       "      <td>. . . . . . . . . . . . . . . . . .</td>\n",
       "      <td>00:10:53</td>\n",
       "    </tr>\n",
       "    <tr>\n",
       "      <th>Status</th>\n",
       "      <td>. . . . . . . . . . . . . . . . . .</td>\n",
       "      <td>Loading Dependencies</td>\n",
       "    </tr>\n",
       "    <tr>\n",
       "      <th>Estimator</th>\n",
       "      <td>. . . . . . . . . . . . . . . . . .</td>\n",
       "      <td>Compiling Library</td>\n",
       "    </tr>\n",
       "  </tbody>\n",
       "</table>\n",
       "</div>"
      ],
      "text/plain": [
       "                                                                    \n",
       "                                                                    \n",
       "Initiated  . . . . . . . . . . . . . . . . . .              00:10:53\n",
       "Status     . . . . . . . . . . . . . . . . . .  Loading Dependencies\n",
       "Estimator  . . . . . . . . . . . . . . . . . .     Compiling Library"
      ]
     },
     "metadata": {},
     "output_type": "display_data"
    },
    {
     "data": {
      "text/html": [],
      "text/plain": [
       "<IPython.core.display.HTML object>"
      ]
     },
     "metadata": {},
     "output_type": "display_data"
    }
   ],
   "source": [
    "exp_name = setup(data=train_filled, target='Delay', \n",
    "                use_gpu=True)\n",
    "add_metric('logloss', 'Log Loss', log_loss, greater_is_better = False)\n",
    "\n",
    "best_model = compare_models(n_select = 1, sort='logloss', fold=5)"
   ]
  },
  {
   "cell_type": "code",
   "execution_count": 28,
   "metadata": {},
   "outputs": [],
   "source": [
    "# best_model = tune_model(best_model, optimize='logloss', \n",
    "#                         n_iter=50,\n",
    "#                         choose_better = True)\n",
    "# evaluate_model(best_model)"
   ]
  },
  {
   "cell_type": "code",
   "execution_count": 29,
   "metadata": {},
   "outputs": [],
   "source": [
    "# from pycaret.classification import *\n",
    "# from sklearn.metrics import log_loss\n",
    "# exp_name = setup(data=train_x, target=train_y, use_gpu=True)\n",
    "# add_metric('logloss', 'Log Loss', log_loss, greater_is_better = False)\n",
    "# top5 = compare_models(n_select = 3, sort='logloss', fold=5, \n",
    "#                     include=['lr', 'ridge', 'lda', 'dummy', 'knn', 'qda'])\n",
    "# stacker = stack_models(top5)"
   ]
  },
  {
   "cell_type": "code",
   "execution_count": 30,
   "metadata": {},
   "outputs": [
    {
     "data": {
      "text/html": [],
      "text/plain": [
       "<IPython.core.display.HTML object>"
      ]
     },
     "metadata": {},
     "output_type": "display_data"
    },
    {
     "data": {
      "text/html": [
       "<div>\n",
       "<style scoped>\n",
       "    .dataframe tbody tr th:only-of-type {\n",
       "        vertical-align: middle;\n",
       "    }\n",
       "\n",
       "    .dataframe tbody tr th {\n",
       "        vertical-align: top;\n",
       "    }\n",
       "\n",
       "    .dataframe thead th {\n",
       "        text-align: right;\n",
       "    }\n",
       "</style>\n",
       "<table border=\"1\" class=\"dataframe\">\n",
       "  <thead>\n",
       "    <tr style=\"text-align: right;\">\n",
       "      <th></th>\n",
       "      <th>Day_of_Month</th>\n",
       "      <th>Estimated_Departure_Time</th>\n",
       "      <th>Estimated_Arrival_Time</th>\n",
       "      <th>Origin_Airport_ID</th>\n",
       "      <th>Origin_State</th>\n",
       "      <th>Destination_Airport_ID</th>\n",
       "      <th>Destination_State</th>\n",
       "      <th>Distance</th>\n",
       "      <th>Airline</th>\n",
       "      <th>Carrier_Code(IATA)</th>\n",
       "      <th>Carrier_ID(DOT)</th>\n",
       "      <th>Tail_Number</th>\n",
       "      <th>prediction_label</th>\n",
       "      <th>prediction_score</th>\n",
       "    </tr>\n",
       "  </thead>\n",
       "  <tbody>\n",
       "    <tr>\n",
       "      <th>0</th>\n",
       "      <td>0.128748</td>\n",
       "      <td>0.999971</td>\n",
       "      <td>NaN</td>\n",
       "      <td>12266</td>\n",
       "      <td>42</td>\n",
       "      <td>14683</td>\n",
       "      <td>42</td>\n",
       "      <td>191.0</td>\n",
       "      <td>26</td>\n",
       "      <td>8</td>\n",
       "      <td>NaN</td>\n",
       "      <td>4387</td>\n",
       "      <td>1</td>\n",
       "      <td>0.7830</td>\n",
       "    </tr>\n",
       "    <tr>\n",
       "      <th>1</th>\n",
       "      <td>0.811539</td>\n",
       "      <td>0.923357</td>\n",
       "      <td>0.772014</td>\n",
       "      <td>11618</td>\n",
       "      <td>28</td>\n",
       "      <td>10397</td>\n",
       "      <td>52</td>\n",
       "      <td>746.0</td>\n",
       "      <td>9</td>\n",
       "      <td>3</td>\n",
       "      <td>19790.0</td>\n",
       "      <td>1936</td>\n",
       "      <td>1</td>\n",
       "      <td>0.6282</td>\n",
       "    </tr>\n",
       "    <tr>\n",
       "      <th>2</th>\n",
       "      <td>0.530730</td>\n",
       "      <td>0.865297</td>\n",
       "      <td>0.581053</td>\n",
       "      <td>13930</td>\n",
       "      <td>11</td>\n",
       "      <td>12953</td>\n",
       "      <td>30</td>\n",
       "      <td>733.0</td>\n",
       "      <td>26</td>\n",
       "      <td>8</td>\n",
       "      <td>19977.0</td>\n",
       "      <td>2147</td>\n",
       "      <td>1</td>\n",
       "      <td>0.9715</td>\n",
       "    </tr>\n",
       "    <tr>\n",
       "      <th>3</th>\n",
       "      <td>0.927542</td>\n",
       "      <td>0.572135</td>\n",
       "      <td>0.410987</td>\n",
       "      <td>13796</td>\n",
       "      <td>4</td>\n",
       "      <td>12892</td>\n",
       "      <td>4</td>\n",
       "      <td>337.0</td>\n",
       "      <td>23</td>\n",
       "      <td>10</td>\n",
       "      <td>19393.0</td>\n",
       "      <td>5486</td>\n",
       "      <td>1</td>\n",
       "      <td>0.9680</td>\n",
       "    </tr>\n",
       "    <tr>\n",
       "      <th>4</th>\n",
       "      <td>0.998880</td>\n",
       "      <td>0.581053</td>\n",
       "      <td>0.273725</td>\n",
       "      <td>11697</td>\n",
       "      <td>7</td>\n",
       "      <td>12892</td>\n",
       "      <td>4</td>\n",
       "      <td>2343.0</td>\n",
       "      <td>18</td>\n",
       "      <td>2</td>\n",
       "      <td>20409.0</td>\n",
       "      <td>5965</td>\n",
       "      <td>1</td>\n",
       "      <td>0.9679</td>\n",
       "    </tr>\n",
       "    <tr>\n",
       "      <th>...</th>\n",
       "      <td>...</td>\n",
       "      <td>...</td>\n",
       "      <td>...</td>\n",
       "      <td>...</td>\n",
       "      <td>...</td>\n",
       "      <td>...</td>\n",
       "      <td>...</td>\n",
       "      <td>...</td>\n",
       "      <td>...</td>\n",
       "      <td>...</td>\n",
       "      <td>...</td>\n",
       "      <td>...</td>\n",
       "      <td>...</td>\n",
       "      <td>...</td>\n",
       "    </tr>\n",
       "    <tr>\n",
       "      <th>999995</th>\n",
       "      <td>0.967938</td>\n",
       "      <td>NaN</td>\n",
       "      <td>0.171617</td>\n",
       "      <td>12892</td>\n",
       "      <td>4</td>\n",
       "      <td>11292</td>\n",
       "      <td>5</td>\n",
       "      <td>862.0</td>\n",
       "      <td>23</td>\n",
       "      <td>10</td>\n",
       "      <td>19393.0</td>\n",
       "      <td>3831</td>\n",
       "      <td>1</td>\n",
       "      <td>0.9525</td>\n",
       "    </tr>\n",
       "    <tr>\n",
       "      <th>999996</th>\n",
       "      <td>0.979614</td>\n",
       "      <td>0.707493</td>\n",
       "      <td>0.777535</td>\n",
       "      <td>10792</td>\n",
       "      <td>30</td>\n",
       "      <td>13930</td>\n",
       "      <td>11</td>\n",
       "      <td>473.0</td>\n",
       "      <td>26</td>\n",
       "      <td>8</td>\n",
       "      <td>19977.0</td>\n",
       "      <td>2069</td>\n",
       "      <td>0</td>\n",
       "      <td>0.8496</td>\n",
       "    </tr>\n",
       "    <tr>\n",
       "      <th>999997</th>\n",
       "      <td>0.984474</td>\n",
       "      <td>0.778906</td>\n",
       "      <td>0.595179</td>\n",
       "      <td>12264</td>\n",
       "      <td>52</td>\n",
       "      <td>11433</td>\n",
       "      <td>20</td>\n",
       "      <td>383.0</td>\n",
       "      <td>19</td>\n",
       "      <td>8</td>\n",
       "      <td>20378.0</td>\n",
       "      <td>2619</td>\n",
       "      <td>1</td>\n",
       "      <td>0.9205</td>\n",
       "    </tr>\n",
       "    <tr>\n",
       "      <th>999998</th>\n",
       "      <td>0.369725</td>\n",
       "      <td>NaN</td>\n",
       "      <td>0.609122</td>\n",
       "      <td>14679</td>\n",
       "      <td>4</td>\n",
       "      <td>10721</td>\n",
       "      <td>19</td>\n",
       "      <td>2588.0</td>\n",
       "      <td>18</td>\n",
       "      <td>2</td>\n",
       "      <td>20409.0</td>\n",
       "      <td>6343</td>\n",
       "      <td>1</td>\n",
       "      <td>0.9648</td>\n",
       "    </tr>\n",
       "    <tr>\n",
       "      <th>999999</th>\n",
       "      <td>0.628763</td>\n",
       "      <td>0.998999</td>\n",
       "      <td>0.973592</td>\n",
       "      <td>13796</td>\n",
       "      <td>4</td>\n",
       "      <td>12892</td>\n",
       "      <td>52</td>\n",
       "      <td>337.0</td>\n",
       "      <td>28</td>\n",
       "      <td>10</td>\n",
       "      <td>19393.0</td>\n",
       "      <td>3904</td>\n",
       "      <td>0</td>\n",
       "      <td>0.8361</td>\n",
       "    </tr>\n",
       "  </tbody>\n",
       "</table>\n",
       "<p>1000000 rows × 14 columns</p>\n",
       "</div>"
      ],
      "text/plain": [
       "        Day_of_Month  Estimated_Departure_Time  Estimated_Arrival_Time  \\\n",
       "0           0.128748                  0.999971                     NaN   \n",
       "1           0.811539                  0.923357                0.772014   \n",
       "2           0.530730                  0.865297                0.581053   \n",
       "3           0.927542                  0.572135                0.410987   \n",
       "4           0.998880                  0.581053                0.273725   \n",
       "...              ...                       ...                     ...   \n",
       "999995      0.967938                       NaN                0.171617   \n",
       "999996      0.979614                  0.707493                0.777535   \n",
       "999997      0.984474                  0.778906                0.595179   \n",
       "999998      0.369725                       NaN                0.609122   \n",
       "999999      0.628763                  0.998999                0.973592   \n",
       "\n",
       "        Origin_Airport_ID  Origin_State  Destination_Airport_ID  \\\n",
       "0                   12266            42                   14683   \n",
       "1                   11618            28                   10397   \n",
       "2                   13930            11                   12953   \n",
       "3                   13796             4                   12892   \n",
       "4                   11697             7                   12892   \n",
       "...                   ...           ...                     ...   \n",
       "999995              12892             4                   11292   \n",
       "999996              10792            30                   13930   \n",
       "999997              12264            52                   11433   \n",
       "999998              14679             4                   10721   \n",
       "999999              13796             4                   12892   \n",
       "\n",
       "        Destination_State  Distance  Airline  Carrier_Code(IATA)  \\\n",
       "0                      42     191.0       26                   8   \n",
       "1                      52     746.0        9                   3   \n",
       "2                      30     733.0       26                   8   \n",
       "3                       4     337.0       23                  10   \n",
       "4                       4    2343.0       18                   2   \n",
       "...                   ...       ...      ...                 ...   \n",
       "999995                  5     862.0       23                  10   \n",
       "999996                 11     473.0       26                   8   \n",
       "999997                 20     383.0       19                   8   \n",
       "999998                 19    2588.0       18                   2   \n",
       "999999                 52     337.0       28                  10   \n",
       "\n",
       "        Carrier_ID(DOT)  Tail_Number  prediction_label  prediction_score  \n",
       "0                   NaN         4387                 1            0.7830  \n",
       "1               19790.0         1936                 1            0.6282  \n",
       "2               19977.0         2147                 1            0.9715  \n",
       "3               19393.0         5486                 1            0.9680  \n",
       "4               20409.0         5965                 1            0.9679  \n",
       "...                 ...          ...               ...               ...  \n",
       "999995          19393.0         3831                 1            0.9525  \n",
       "999996          19977.0         2069                 0            0.8496  \n",
       "999997          20378.0         2619                 1            0.9205  \n",
       "999998          20409.0         6343                 1            0.9648  \n",
       "999999          19393.0         3904                 0            0.8361  \n",
       "\n",
       "[1000000 rows x 14 columns]"
      ]
     },
     "execution_count": 30,
     "metadata": {},
     "output_type": "execute_result"
    }
   ],
   "source": [
    "predict_model(best_model, data= test)"
   ]
  },
  {
   "cell_type": "code",
   "execution_count": 31,
   "metadata": {},
   "outputs": [
    {
     "data": {
      "text/html": [],
      "text/plain": [
       "<IPython.core.display.HTML object>"
      ]
     },
     "metadata": {},
     "output_type": "display_data"
    },
    {
     "data": {
      "text/html": [],
      "text/plain": [
       "<IPython.core.display.HTML object>"
      ]
     },
     "metadata": {},
     "output_type": "display_data"
    }
   ],
   "source": [
    "y_pred_label = predict_model(best_model, data= test)['prediction_label'].values\n",
    "y_pred_score = predict_model(best_model, data= test)['prediction_score'].values\n",
    "y_pred = []  # 0 : Not Delayed  //  1 : Delayed\n",
    "for i in range(len(test)):\n",
    "    if y_pred_label[i] == 0: y_pred.append([y_pred_score[i], 1.0 - y_pred_score[i]])\n",
    "    else: y_pred.append([1.0 - y_pred_score[i], y_pred_score[i]])"
   ]
  },
  {
   "cell_type": "code",
   "execution_count": 32,
   "metadata": {},
   "outputs": [],
   "source": [
    "submission = pd.DataFrame(data=y_pred, columns=sample_submission.columns, index=sample_submission.index)\n",
    "submission.to_csv('submission.csv', index=True)"
   ]
  }
 ],
 "metadata": {
  "kernelspec": {
   "display_name": "Python 3",
   "language": "python",
   "name": "python3"
  },
  "language_info": {
   "codemirror_mode": {
    "name": "ipython",
    "version": 3
   },
   "file_extension": ".py",
   "mimetype": "text/x-python",
   "name": "python",
   "nbconvert_exporter": "python",
   "pygments_lexer": "ipython3",
   "version": "3.7.3"
  },
  "orig_nbformat": 4,
  "vscode": {
   "interpreter": {
    "hash": "52634da84371cba311ea128a5ea7cdc41ff074b781779e754b270ff9f8153cee"
   }
  }
 },
 "nbformat": 4,
 "nbformat_minor": 2
}
